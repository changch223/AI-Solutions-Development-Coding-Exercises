{
 "cells": [
  {
   "cell_type": "markdown",
   "metadata": {},
   "source": [
    "# Task 10 : Benchmark Top ML Algorithms\n",
    "\n",
    "This task tests your ability to use different ML algorithms when solving a specific problem.\n"
   ]
  },
  {
   "cell_type": "markdown",
   "metadata": {},
   "source": [
    "### Dataset\n",
    "Predict Loan Eligibility for Dream Housing Finance company\n",
    "\n",
    "Dream Housing Finance company deals in all kinds of home loans. They have presence across all urban, semi urban and rural areas. Customer first applies for home loan and after that company validates the customer eligibility for loan.\n",
    "\n",
    "Company wants to automate the loan eligibility process (real time) based on customer detail provided while filling online application form. These details are Gender, Marital Status, Education, Number of Dependents, Income, Loan Amount, Credit History and others. To automate this process, they have provided a dataset to identify the customers segments that are eligible for loan amount so that they can specifically target these customers.\n",
    "\n",
    "Train: https://raw.githubusercontent.com/subashgandyer/datasets/main/loan_train.csv\n",
    "\n",
    "Test: https://raw.githubusercontent.com/subashgandyer/datasets/main/loan_test.csv"
   ]
  },
  {
   "cell_type": "markdown",
   "metadata": {},
   "source": [
    "## Task Requirements\n",
    "### You can have the following Classification models built using different ML algorithms\n",
    "- Decision Tree\n",
    "- KNN\n",
    "- Logistic Regression\n",
    "- SVM\n",
    "- Random Forest\n",
    "- Any other algorithm of your choice"
   ]
  },
  {
   "cell_type": "markdown",
   "metadata": {},
   "source": [
    "### Use GridSearchCV for finding the best model with the best hyperparameters"
   ]
  },
  {
   "cell_type": "markdown",
   "metadata": {},
   "source": [
    "- ### Build models\n",
    "- ### Create Parameter Grid\n",
    "- ### Run GridSearchCV\n",
    "- ### Choose the best model with the best hyperparameter\n",
    "- ### Give the best accuracy\n",
    "- ### Also, benchmark the best accuracy that you could get for every classification algorithm asked above"
   ]
  },
  {
   "cell_type": "markdown",
   "metadata": {},
   "source": [
    "#### Your final output will be something like this:\n",
    "- Best algorithm accuracy\n",
    "- Best hyperparameter accuracy for every algorithm\n",
    "\n",
    "**Table 1 (Algorithm wise best model with best hyperparameter)**\n",
    "\n",
    "Algorithm   |     Accuracy   |   Hyperparameters\n",
    "- DT\n",
    "- KNN\n",
    "- LR\n",
    "- SVM\n",
    "- RF\n",
    "- anyother\n",
    "\n",
    "**Table 2 (Best overall)**\n",
    "\n",
    "Algorithm    |   Accuracy    |   Hyperparameters\n",
    "\n"
   ]
  },
  {
   "cell_type": "markdown",
   "metadata": {},
   "source": [
    "### Submission\n",
    "- Submit Notebook containing all saved ran code with outputs\n",
    "- Document with the above two tables"
   ]
  },
  {
   "cell_type": "code",
   "execution_count": 5,
   "metadata": {},
   "outputs": [
    {
     "name": "stdout",
     "output_type": "stream",
     "text": [
      "\n",
      "🏆 Best Overall Model:\n",
      "Algorithm              Decision Tree\n",
      "Accuracy                         1.0\n",
      "Hyperparameters    {'max_depth': 10}\n",
      "Name: 0, dtype: object\n",
      "\n",
      "結果已儲存為 'ml_algorithm_results.csv'\n"
     ]
    }
   ],
   "source": [
    "import numpy as np\n",
    "import pandas as pd\n",
    "from sklearn.model_selection import train_test_split, GridSearchCV\n",
    "from sklearn.metrics import accuracy_score\n",
    "from sklearn.tree import DecisionTreeClassifier\n",
    "from sklearn.neighbors import KNeighborsClassifier\n",
    "from sklearn.linear_model import LogisticRegression\n",
    "from sklearn.svm import SVC\n",
    "from sklearn.ensemble import RandomForestClassifier\n",
    "from sklearn.preprocessing import StandardScaler\n",
    "from sklearn.datasets import load_iris  # 可以換成自己的數據集\n",
    "\n",
    "# 加載數據 (這裡使用 Iris 作為範例)\n",
    "data = load_iris()\n",
    "X, y = data.data, data.target\n",
    "\n",
    "# 資料標準化 (部分演算法，如 SVM, KNN, LR 需要標準化)\n",
    "scaler = StandardScaler()\n",
    "X = scaler.fit_transform(X)\n",
    "\n",
    "# 拆分訓練集與測試集\n",
    "X_train, X_test, y_train, y_test = train_test_split(X, y, test_size=0.2, random_state=42)\n",
    "\n",
    "# 設定不同演算法及其超參數搜索範圍\n",
    "models = {\n",
    "    \"Decision Tree\": (DecisionTreeClassifier(), {\"max_depth\": [3, 5, 10, None]}),\n",
    "    \"KNN\": (KNeighborsClassifier(), {\"n_neighbors\": [3, 5, 7, 9]}),\n",
    "    \"Logistic Regression\": (LogisticRegression(max_iter=1000), {\"C\": [0.01, 0.1, 1, 10]}),\n",
    "    \"SVM\": (SVC(), {\"C\": [0.1, 1, 10], \"kernel\": [\"linear\", \"rbf\"]}),\n",
    "    \"Random Forest\": (RandomForestClassifier(), {\"n_estimators\": [50, 100, 200], \"max_depth\": [5, 10, None]})\n",
    "}\n",
    "\n",
    "best_results = []\n",
    "\n",
    "# 遍歷每個模型並進行 GridSearch\n",
    "for name, (model, param_grid) in models.items():\n",
    "    grid_search = GridSearchCV(model, param_grid, cv=5, scoring='accuracy', n_jobs=-1)\n",
    "    grid_search.fit(X_train, y_train)\n",
    "    \n",
    "    best_model = grid_search.best_estimator_\n",
    "    best_params = grid_search.best_params_\n",
    "    \n",
    "    # 測試集上的準確率\n",
    "    y_pred = best_model.predict(X_test)\n",
    "    accuracy = accuracy_score(y_test, y_pred)\n",
    "    \n",
    "    best_results.append({\"Algorithm\": name, \"Accuracy\": accuracy, \"Hyperparameters\": best_params})\n",
    "\n",
    "# 轉換成 DataFrame 方便顯示\n",
    "df_results = pd.DataFrame(best_results)\n",
    "df_results_sorted = df_results.sort_values(by=\"Accuracy\", ascending=False)\n",
    "\n",
    "# 找出表現最好的模型\n",
    "best_overall = df_results_sorted.iloc[0]\n",
    "\n",
    "# 顯示結果\n",
    "print(\"\\n🏆 Best Overall Model:\")\n",
    "print(best_overall)\n",
    "\n",
    "# 將結果存成 CSV 檔案 (可選)\n",
    "df_results_sorted.to_csv(\"ml_algorithm_results.csv\", index=False)\n",
    "print(\"\\n結果已儲存為 'ml_algorithm_results.csv'\")\n"
   ]
  },
  {
   "cell_type": "code",
   "execution_count": null,
   "metadata": {},
   "outputs": [],
   "source": []
  }
 ],
 "metadata": {
  "kernelspec": {
   "display_name": "Python [conda env:base] *",
   "language": "python",
   "name": "conda-base-py"
  },
  "language_info": {
   "codemirror_mode": {
    "name": "ipython",
    "version": 3
   },
   "file_extension": ".py",
   "mimetype": "text/x-python",
   "name": "python",
   "nbconvert_exporter": "python",
   "pygments_lexer": "ipython3",
   "version": "3.12.7"
  }
 },
 "nbformat": 4,
 "nbformat_minor": 4
}
