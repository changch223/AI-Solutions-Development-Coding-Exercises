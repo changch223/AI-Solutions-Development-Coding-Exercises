{
 "cells": [
  {
   "cell_type": "markdown",
   "metadata": {},
   "source": [
    "# Task: Covid-19 Data Analysis\n",
    "### This notebook is used to understand the comprehension of Data Analysis techniques using Pandas library."
   ]
  },
  {
   "cell_type": "markdown",
   "metadata": {},
   "source": [
    "### Data Source: \n",
    "https://github.com/CSSEGISandData/COVID-19/tree/master/csse_covid_19_data/csse_covid_19_daily_reports\n",
    "\n",
    "### File naming convention\n",
    "\n",
    "MM-DD-YYYY.csv in UTC.\n",
    "\n",
    "### Field description\n",
    "\n",
    "- Province_State: China - province name; US/Canada/Australia/ - city name, state/province name; Others - name of the event (e.g., \"Diamond Princess\" cruise ship); other countries - blank.\n",
    "\n",
    "- Country_Region: country/region name conforming to WHO (will be updated).\n",
    "\n",
    "- Last_Update: MM/DD/YYYY HH:mm (24 hour format, in UTC).\n",
    "\n",
    "- Confirmed: the number of confirmed cases. For Hubei Province: from Feb 13 (GMT +8), we report both clinically diagnosed and lab-confirmed cases. For lab-confirmed cases only (Before Feb 17), please refer to who_covid_19_situation_reports. For Italy, diagnosis standard might be changed since Feb 27 to \"slow the growth of new case numbers.\" (Source)\n",
    "\n",
    "- Deaths: the number of deaths.\n",
    "\n",
    "- Recovered: the number of recovered cases."
   ]
  },
  {
   "cell_type": "markdown",
   "metadata": {},
   "source": [
    "### Question 1"
   ]
  },
  {
   "cell_type": "markdown",
   "metadata": {},
   "source": [
    "#### Read the dataset"
   ]
  },
  {
   "cell_type": "code",
   "execution_count": 3,
   "metadata": {},
   "outputs": [
    {
     "data": {
      "text/html": [
       "<div>\n",
       "<style scoped>\n",
       "    .dataframe tbody tr th:only-of-type {\n",
       "        vertical-align: middle;\n",
       "    }\n",
       "\n",
       "    .dataframe tbody tr th {\n",
       "        vertical-align: top;\n",
       "    }\n",
       "\n",
       "    .dataframe thead th {\n",
       "        text-align: right;\n",
       "    }\n",
       "</style>\n",
       "<table border=\"1\" class=\"dataframe\">\n",
       "  <thead>\n",
       "    <tr style=\"text-align: right;\">\n",
       "      <th></th>\n",
       "      <th>FIPS</th>\n",
       "      <th>Admin2</th>\n",
       "      <th>Province_State</th>\n",
       "      <th>Country_Region</th>\n",
       "      <th>Last_Update</th>\n",
       "      <th>Lat</th>\n",
       "      <th>Long_</th>\n",
       "      <th>Confirmed</th>\n",
       "      <th>Deaths</th>\n",
       "      <th>Recovered</th>\n",
       "      <th>Active</th>\n",
       "      <th>Combined_Key</th>\n",
       "      <th>Incident_Rate</th>\n",
       "      <th>Case_Fatality_Ratio</th>\n",
       "    </tr>\n",
       "  </thead>\n",
       "  <tbody>\n",
       "    <tr>\n",
       "      <th>0</th>\n",
       "      <td>NaN</td>\n",
       "      <td>NaN</td>\n",
       "      <td>NaN</td>\n",
       "      <td>Afghanistan</td>\n",
       "      <td>2021-01-02 05:22:33</td>\n",
       "      <td>33.93911</td>\n",
       "      <td>67.709953</td>\n",
       "      <td>52513</td>\n",
       "      <td>2201</td>\n",
       "      <td>41727</td>\n",
       "      <td>8585</td>\n",
       "      <td>Afghanistan</td>\n",
       "      <td>134.896578</td>\n",
       "      <td>4.191343</td>\n",
       "    </tr>\n",
       "    <tr>\n",
       "      <th>1</th>\n",
       "      <td>NaN</td>\n",
       "      <td>NaN</td>\n",
       "      <td>NaN</td>\n",
       "      <td>Albania</td>\n",
       "      <td>2021-01-02 05:22:33</td>\n",
       "      <td>41.15330</td>\n",
       "      <td>20.168300</td>\n",
       "      <td>58316</td>\n",
       "      <td>1181</td>\n",
       "      <td>33634</td>\n",
       "      <td>23501</td>\n",
       "      <td>Albania</td>\n",
       "      <td>2026.409062</td>\n",
       "      <td>2.025173</td>\n",
       "    </tr>\n",
       "    <tr>\n",
       "      <th>2</th>\n",
       "      <td>NaN</td>\n",
       "      <td>NaN</td>\n",
       "      <td>NaN</td>\n",
       "      <td>Algeria</td>\n",
       "      <td>2021-01-02 05:22:33</td>\n",
       "      <td>28.03390</td>\n",
       "      <td>1.659600</td>\n",
       "      <td>99897</td>\n",
       "      <td>2762</td>\n",
       "      <td>67395</td>\n",
       "      <td>29740</td>\n",
       "      <td>Algeria</td>\n",
       "      <td>227.809861</td>\n",
       "      <td>2.764848</td>\n",
       "    </tr>\n",
       "    <tr>\n",
       "      <th>3</th>\n",
       "      <td>NaN</td>\n",
       "      <td>NaN</td>\n",
       "      <td>NaN</td>\n",
       "      <td>Andorra</td>\n",
       "      <td>2021-01-02 05:22:33</td>\n",
       "      <td>42.50630</td>\n",
       "      <td>1.521800</td>\n",
       "      <td>8117</td>\n",
       "      <td>84</td>\n",
       "      <td>7463</td>\n",
       "      <td>570</td>\n",
       "      <td>Andorra</td>\n",
       "      <td>10505.403482</td>\n",
       "      <td>1.034865</td>\n",
       "    </tr>\n",
       "    <tr>\n",
       "      <th>4</th>\n",
       "      <td>NaN</td>\n",
       "      <td>NaN</td>\n",
       "      <td>NaN</td>\n",
       "      <td>Angola</td>\n",
       "      <td>2021-01-02 05:22:33</td>\n",
       "      <td>-11.20270</td>\n",
       "      <td>17.873900</td>\n",
       "      <td>17568</td>\n",
       "      <td>405</td>\n",
       "      <td>11146</td>\n",
       "      <td>6017</td>\n",
       "      <td>Angola</td>\n",
       "      <td>53.452981</td>\n",
       "      <td>2.305328</td>\n",
       "    </tr>\n",
       "    <tr>\n",
       "      <th>...</th>\n",
       "      <td>...</td>\n",
       "      <td>...</td>\n",
       "      <td>...</td>\n",
       "      <td>...</td>\n",
       "      <td>...</td>\n",
       "      <td>...</td>\n",
       "      <td>...</td>\n",
       "      <td>...</td>\n",
       "      <td>...</td>\n",
       "      <td>...</td>\n",
       "      <td>...</td>\n",
       "      <td>...</td>\n",
       "      <td>...</td>\n",
       "      <td>...</td>\n",
       "    </tr>\n",
       "    <tr>\n",
       "      <th>4006</th>\n",
       "      <td>NaN</td>\n",
       "      <td>NaN</td>\n",
       "      <td>Unknown</td>\n",
       "      <td>Ukraine</td>\n",
       "      <td>2021-01-02 05:22:33</td>\n",
       "      <td>NaN</td>\n",
       "      <td>NaN</td>\n",
       "      <td>0</td>\n",
       "      <td>0</td>\n",
       "      <td>0</td>\n",
       "      <td>0</td>\n",
       "      <td>Unknown, Ukraine</td>\n",
       "      <td>0.000000</td>\n",
       "      <td>0.000000</td>\n",
       "    </tr>\n",
       "    <tr>\n",
       "      <th>4007</th>\n",
       "      <td>NaN</td>\n",
       "      <td>NaN</td>\n",
       "      <td>NaN</td>\n",
       "      <td>Nauru</td>\n",
       "      <td>2021-01-02 05:22:33</td>\n",
       "      <td>-0.52280</td>\n",
       "      <td>166.931500</td>\n",
       "      <td>0</td>\n",
       "      <td>0</td>\n",
       "      <td>0</td>\n",
       "      <td>0</td>\n",
       "      <td>Nauru</td>\n",
       "      <td>0.000000</td>\n",
       "      <td>0.000000</td>\n",
       "    </tr>\n",
       "    <tr>\n",
       "      <th>4008</th>\n",
       "      <td>NaN</td>\n",
       "      <td>NaN</td>\n",
       "      <td>Niue</td>\n",
       "      <td>New Zealand</td>\n",
       "      <td>2021-01-02 05:22:33</td>\n",
       "      <td>-19.05440</td>\n",
       "      <td>-169.867200</td>\n",
       "      <td>0</td>\n",
       "      <td>0</td>\n",
       "      <td>0</td>\n",
       "      <td>0</td>\n",
       "      <td>Niue, New Zealand</td>\n",
       "      <td>0.000000</td>\n",
       "      <td>0.000000</td>\n",
       "    </tr>\n",
       "    <tr>\n",
       "      <th>4009</th>\n",
       "      <td>NaN</td>\n",
       "      <td>NaN</td>\n",
       "      <td>NaN</td>\n",
       "      <td>Tuvalu</td>\n",
       "      <td>2021-01-02 05:22:33</td>\n",
       "      <td>-7.10950</td>\n",
       "      <td>177.649300</td>\n",
       "      <td>0</td>\n",
       "      <td>0</td>\n",
       "      <td>0</td>\n",
       "      <td>0</td>\n",
       "      <td>Tuvalu</td>\n",
       "      <td>0.000000</td>\n",
       "      <td>0.000000</td>\n",
       "    </tr>\n",
       "    <tr>\n",
       "      <th>4010</th>\n",
       "      <td>NaN</td>\n",
       "      <td>NaN</td>\n",
       "      <td>Pitcairn Islands</td>\n",
       "      <td>United Kingdom</td>\n",
       "      <td>2021-01-02 05:22:33</td>\n",
       "      <td>-24.37680</td>\n",
       "      <td>-128.324200</td>\n",
       "      <td>0</td>\n",
       "      <td>0</td>\n",
       "      <td>0</td>\n",
       "      <td>0</td>\n",
       "      <td>Pitcairn Islands, United Kingdom</td>\n",
       "      <td>0.000000</td>\n",
       "      <td>0.000000</td>\n",
       "    </tr>\n",
       "  </tbody>\n",
       "</table>\n",
       "<p>4011 rows × 14 columns</p>\n",
       "</div>"
      ],
      "text/plain": [
       "      FIPS Admin2    Province_State  Country_Region          Last_Update  \\\n",
       "0      NaN    NaN               NaN     Afghanistan  2021-01-02 05:22:33   \n",
       "1      NaN    NaN               NaN         Albania  2021-01-02 05:22:33   \n",
       "2      NaN    NaN               NaN         Algeria  2021-01-02 05:22:33   \n",
       "3      NaN    NaN               NaN         Andorra  2021-01-02 05:22:33   \n",
       "4      NaN    NaN               NaN          Angola  2021-01-02 05:22:33   \n",
       "...    ...    ...               ...             ...                  ...   \n",
       "4006   NaN    NaN           Unknown         Ukraine  2021-01-02 05:22:33   \n",
       "4007   NaN    NaN               NaN           Nauru  2021-01-02 05:22:33   \n",
       "4008   NaN    NaN              Niue     New Zealand  2021-01-02 05:22:33   \n",
       "4009   NaN    NaN               NaN          Tuvalu  2021-01-02 05:22:33   \n",
       "4010   NaN    NaN  Pitcairn Islands  United Kingdom  2021-01-02 05:22:33   \n",
       "\n",
       "           Lat       Long_  Confirmed  Deaths  Recovered  Active  \\\n",
       "0     33.93911   67.709953      52513    2201      41727    8585   \n",
       "1     41.15330   20.168300      58316    1181      33634   23501   \n",
       "2     28.03390    1.659600      99897    2762      67395   29740   \n",
       "3     42.50630    1.521800       8117      84       7463     570   \n",
       "4    -11.20270   17.873900      17568     405      11146    6017   \n",
       "...        ...         ...        ...     ...        ...     ...   \n",
       "4006       NaN         NaN          0       0          0       0   \n",
       "4007  -0.52280  166.931500          0       0          0       0   \n",
       "4008 -19.05440 -169.867200          0       0          0       0   \n",
       "4009  -7.10950  177.649300          0       0          0       0   \n",
       "4010 -24.37680 -128.324200          0       0          0       0   \n",
       "\n",
       "                          Combined_Key  Incident_Rate  Case_Fatality_Ratio  \n",
       "0                          Afghanistan     134.896578             4.191343  \n",
       "1                              Albania    2026.409062             2.025173  \n",
       "2                              Algeria     227.809861             2.764848  \n",
       "3                              Andorra   10505.403482             1.034865  \n",
       "4                               Angola      53.452981             2.305328  \n",
       "...                                ...            ...                  ...  \n",
       "4006                  Unknown, Ukraine       0.000000             0.000000  \n",
       "4007                             Nauru       0.000000             0.000000  \n",
       "4008                 Niue, New Zealand       0.000000             0.000000  \n",
       "4009                            Tuvalu       0.000000             0.000000  \n",
       "4010  Pitcairn Islands, United Kingdom       0.000000             0.000000  \n",
       "\n",
       "[4011 rows x 14 columns]"
      ]
     },
     "execution_count": 3,
     "metadata": {},
     "output_type": "execute_result"
    }
   ],
   "source": [
    "import pandas as pd\n",
    "\n",
    "url = \"https://raw.githubusercontent.com/CSSEGISandData/COVID-19/master/csse_covid_19_data/csse_covid_19_daily_reports/01-01-2021.csv\"\n",
    "\n",
    "covid_data = pd.read_csv(url)\n",
    "\n",
    "covid_data\n"
   ]
  },
  {
   "cell_type": "markdown",
   "metadata": {},
   "source": [
    "#### Display the top 5 rows in the data"
   ]
  },
  {
   "cell_type": "code",
   "execution_count": 5,
   "metadata": {},
   "outputs": [
    {
     "data": {
      "text/html": [
       "<div>\n",
       "<style scoped>\n",
       "    .dataframe tbody tr th:only-of-type {\n",
       "        vertical-align: middle;\n",
       "    }\n",
       "\n",
       "    .dataframe tbody tr th {\n",
       "        vertical-align: top;\n",
       "    }\n",
       "\n",
       "    .dataframe thead th {\n",
       "        text-align: right;\n",
       "    }\n",
       "</style>\n",
       "<table border=\"1\" class=\"dataframe\">\n",
       "  <thead>\n",
       "    <tr style=\"text-align: right;\">\n",
       "      <th></th>\n",
       "      <th>FIPS</th>\n",
       "      <th>Admin2</th>\n",
       "      <th>Province_State</th>\n",
       "      <th>Country_Region</th>\n",
       "      <th>Last_Update</th>\n",
       "      <th>Lat</th>\n",
       "      <th>Long_</th>\n",
       "      <th>Confirmed</th>\n",
       "      <th>Deaths</th>\n",
       "      <th>Recovered</th>\n",
       "      <th>Active</th>\n",
       "      <th>Combined_Key</th>\n",
       "      <th>Incident_Rate</th>\n",
       "      <th>Case_Fatality_Ratio</th>\n",
       "    </tr>\n",
       "  </thead>\n",
       "  <tbody>\n",
       "    <tr>\n",
       "      <th>0</th>\n",
       "      <td>NaN</td>\n",
       "      <td>NaN</td>\n",
       "      <td>NaN</td>\n",
       "      <td>Afghanistan</td>\n",
       "      <td>2021-01-02 05:22:33</td>\n",
       "      <td>33.93911</td>\n",
       "      <td>67.709953</td>\n",
       "      <td>52513</td>\n",
       "      <td>2201</td>\n",
       "      <td>41727</td>\n",
       "      <td>8585</td>\n",
       "      <td>Afghanistan</td>\n",
       "      <td>134.896578</td>\n",
       "      <td>4.191343</td>\n",
       "    </tr>\n",
       "    <tr>\n",
       "      <th>1</th>\n",
       "      <td>NaN</td>\n",
       "      <td>NaN</td>\n",
       "      <td>NaN</td>\n",
       "      <td>Albania</td>\n",
       "      <td>2021-01-02 05:22:33</td>\n",
       "      <td>41.15330</td>\n",
       "      <td>20.168300</td>\n",
       "      <td>58316</td>\n",
       "      <td>1181</td>\n",
       "      <td>33634</td>\n",
       "      <td>23501</td>\n",
       "      <td>Albania</td>\n",
       "      <td>2026.409062</td>\n",
       "      <td>2.025173</td>\n",
       "    </tr>\n",
       "    <tr>\n",
       "      <th>2</th>\n",
       "      <td>NaN</td>\n",
       "      <td>NaN</td>\n",
       "      <td>NaN</td>\n",
       "      <td>Algeria</td>\n",
       "      <td>2021-01-02 05:22:33</td>\n",
       "      <td>28.03390</td>\n",
       "      <td>1.659600</td>\n",
       "      <td>99897</td>\n",
       "      <td>2762</td>\n",
       "      <td>67395</td>\n",
       "      <td>29740</td>\n",
       "      <td>Algeria</td>\n",
       "      <td>227.809861</td>\n",
       "      <td>2.764848</td>\n",
       "    </tr>\n",
       "    <tr>\n",
       "      <th>3</th>\n",
       "      <td>NaN</td>\n",
       "      <td>NaN</td>\n",
       "      <td>NaN</td>\n",
       "      <td>Andorra</td>\n",
       "      <td>2021-01-02 05:22:33</td>\n",
       "      <td>42.50630</td>\n",
       "      <td>1.521800</td>\n",
       "      <td>8117</td>\n",
       "      <td>84</td>\n",
       "      <td>7463</td>\n",
       "      <td>570</td>\n",
       "      <td>Andorra</td>\n",
       "      <td>10505.403482</td>\n",
       "      <td>1.034865</td>\n",
       "    </tr>\n",
       "    <tr>\n",
       "      <th>4</th>\n",
       "      <td>NaN</td>\n",
       "      <td>NaN</td>\n",
       "      <td>NaN</td>\n",
       "      <td>Angola</td>\n",
       "      <td>2021-01-02 05:22:33</td>\n",
       "      <td>-11.20270</td>\n",
       "      <td>17.873900</td>\n",
       "      <td>17568</td>\n",
       "      <td>405</td>\n",
       "      <td>11146</td>\n",
       "      <td>6017</td>\n",
       "      <td>Angola</td>\n",
       "      <td>53.452981</td>\n",
       "      <td>2.305328</td>\n",
       "    </tr>\n",
       "  </tbody>\n",
       "</table>\n",
       "</div>"
      ],
      "text/plain": [
       "   FIPS Admin2 Province_State Country_Region          Last_Update       Lat  \\\n",
       "0   NaN    NaN            NaN    Afghanistan  2021-01-02 05:22:33  33.93911   \n",
       "1   NaN    NaN            NaN        Albania  2021-01-02 05:22:33  41.15330   \n",
       "2   NaN    NaN            NaN        Algeria  2021-01-02 05:22:33  28.03390   \n",
       "3   NaN    NaN            NaN        Andorra  2021-01-02 05:22:33  42.50630   \n",
       "4   NaN    NaN            NaN         Angola  2021-01-02 05:22:33 -11.20270   \n",
       "\n",
       "       Long_  Confirmed  Deaths  Recovered  Active Combined_Key  \\\n",
       "0  67.709953      52513    2201      41727    8585  Afghanistan   \n",
       "1  20.168300      58316    1181      33634   23501      Albania   \n",
       "2   1.659600      99897    2762      67395   29740      Algeria   \n",
       "3   1.521800       8117      84       7463     570      Andorra   \n",
       "4  17.873900      17568     405      11146    6017       Angola   \n",
       "\n",
       "   Incident_Rate  Case_Fatality_Ratio  \n",
       "0     134.896578             4.191343  \n",
       "1    2026.409062             2.025173  \n",
       "2     227.809861             2.764848  \n",
       "3   10505.403482             1.034865  \n",
       "4      53.452981             2.305328  "
      ]
     },
     "execution_count": 5,
     "metadata": {},
     "output_type": "execute_result"
    }
   ],
   "source": [
    "covid_data.head(5)"
   ]
  },
  {
   "cell_type": "markdown",
   "metadata": {},
   "source": [
    "#### Show the information of the dataset"
   ]
  },
  {
   "cell_type": "code",
   "execution_count": 9,
   "metadata": {},
   "outputs": [
    {
     "name": "stdout",
     "output_type": "stream",
     "text": [
      "<class 'pandas.core.frame.DataFrame'>\n",
      "RangeIndex: 4011 entries, 0 to 4010\n",
      "Data columns (total 14 columns):\n",
      " #   Column               Non-Null Count  Dtype  \n",
      "---  ------               --------------  -----  \n",
      " 0   FIPS                 3265 non-null   float64\n",
      " 1   Admin2               3270 non-null   object \n",
      " 2   Province_State       3833 non-null   object \n",
      " 3   Country_Region       4011 non-null   object \n",
      " 4   Last_Update          4011 non-null   object \n",
      " 5   Lat                  3922 non-null   float64\n",
      " 6   Long_                3922 non-null   float64\n",
      " 7   Confirmed            4011 non-null   int64  \n",
      " 8   Deaths               4011 non-null   int64  \n",
      " 9   Recovered            4011 non-null   int64  \n",
      " 10  Active               4011 non-null   int64  \n",
      " 11  Combined_Key         4011 non-null   object \n",
      " 12  Incident_Rate        3922 non-null   float64\n",
      " 13  Case_Fatality_Ratio  3963 non-null   float64\n",
      "dtypes: float64(5), int64(4), object(5)\n",
      "memory usage: 438.8+ KB\n"
     ]
    }
   ],
   "source": [
    "covid_data.info()"
   ]
  },
  {
   "cell_type": "markdown",
   "metadata": {},
   "source": [
    "#### Show the sum of missing values of features in the dataset"
   ]
  },
  {
   "cell_type": "code",
   "execution_count": 11,
   "metadata": {},
   "outputs": [
    {
     "data": {
      "text/plain": [
       "FIPS                   746\n",
       "Admin2                 741\n",
       "Province_State         178\n",
       "Country_Region           0\n",
       "Last_Update              0\n",
       "Lat                     89\n",
       "Long_                   89\n",
       "Confirmed                0\n",
       "Deaths                   0\n",
       "Recovered                0\n",
       "Active                   0\n",
       "Combined_Key             0\n",
       "Incident_Rate           89\n",
       "Case_Fatality_Ratio     48\n",
       "dtype: int64"
      ]
     },
     "execution_count": 11,
     "metadata": {},
     "output_type": "execute_result"
    }
   ],
   "source": [
    "covid_data.isnull().sum()"
   ]
  },
  {
   "cell_type": "markdown",
   "metadata": {},
   "source": [
    "### Question 2"
   ]
  },
  {
   "cell_type": "markdown",
   "metadata": {},
   "source": [
    "#### Show the number of Confirmed cases by Country"
   ]
  },
  {
   "cell_type": "code",
   "execution_count": 65,
   "metadata": {},
   "outputs": [
    {
     "data": {
      "text/html": [
       "<div>\n",
       "<style scoped>\n",
       "    .dataframe tbody tr th:only-of-type {\n",
       "        vertical-align: middle;\n",
       "    }\n",
       "\n",
       "    .dataframe tbody tr th {\n",
       "        vertical-align: top;\n",
       "    }\n",
       "\n",
       "    .dataframe thead th {\n",
       "        text-align: right;\n",
       "    }\n",
       "</style>\n",
       "<table border=\"1\" class=\"dataframe\">\n",
       "  <thead>\n",
       "    <tr style=\"text-align: right;\">\n",
       "      <th></th>\n",
       "      <th>Confirmed</th>\n",
       "    </tr>\n",
       "    <tr>\n",
       "      <th>Country_Region</th>\n",
       "      <th></th>\n",
       "    </tr>\n",
       "  </thead>\n",
       "  <tbody>\n",
       "    <tr>\n",
       "      <th>Afghanistan</th>\n",
       "      <td>52513</td>\n",
       "    </tr>\n",
       "    <tr>\n",
       "      <th>Albania</th>\n",
       "      <td>58316</td>\n",
       "    </tr>\n",
       "    <tr>\n",
       "      <th>Algeria</th>\n",
       "      <td>99897</td>\n",
       "    </tr>\n",
       "    <tr>\n",
       "      <th>Andorra</th>\n",
       "      <td>8117</td>\n",
       "    </tr>\n",
       "    <tr>\n",
       "      <th>Angola</th>\n",
       "      <td>17568</td>\n",
       "    </tr>\n",
       "    <tr>\n",
       "      <th>...</th>\n",
       "      <td>...</td>\n",
       "    </tr>\n",
       "    <tr>\n",
       "      <th>West Bank and Gaza</th>\n",
       "      <td>139223</td>\n",
       "    </tr>\n",
       "    <tr>\n",
       "      <th>Winter Olympics 2022</th>\n",
       "      <td>0</td>\n",
       "    </tr>\n",
       "    <tr>\n",
       "      <th>Yemen</th>\n",
       "      <td>2101</td>\n",
       "    </tr>\n",
       "    <tr>\n",
       "      <th>Zambia</th>\n",
       "      <td>20997</td>\n",
       "    </tr>\n",
       "    <tr>\n",
       "      <th>Zimbabwe</th>\n",
       "      <td>14084</td>\n",
       "    </tr>\n",
       "  </tbody>\n",
       "</table>\n",
       "<p>200 rows × 1 columns</p>\n",
       "</div>"
      ],
      "text/plain": [
       "                      Confirmed\n",
       "Country_Region                 \n",
       "Afghanistan               52513\n",
       "Albania                   58316\n",
       "Algeria                   99897\n",
       "Andorra                    8117\n",
       "Angola                    17568\n",
       "...                         ...\n",
       "West Bank and Gaza       139223\n",
       "Winter Olympics 2022          0\n",
       "Yemen                      2101\n",
       "Zambia                    20997\n",
       "Zimbabwe                  14084\n",
       "\n",
       "[200 rows x 1 columns]"
      ]
     },
     "execution_count": 65,
     "metadata": {},
     "output_type": "execute_result"
    }
   ],
   "source": [
    "covid_data.groupby('Country_Region')[['Confirmed']].sum()"
   ]
  },
  {
   "cell_type": "markdown",
   "metadata": {},
   "source": [
    "#### Show the number of Deaths by Country"
   ]
  },
  {
   "cell_type": "code",
   "execution_count": 17,
   "metadata": {},
   "outputs": [
    {
     "data": {
      "text/plain": [
       "Country_Region\n",
       "Afghanistan             2201\n",
       "Albania                 1181\n",
       "Algeria                 2762\n",
       "Andorra                   84\n",
       "Angola                   405\n",
       "                        ... \n",
       "West Bank and Gaza      1418\n",
       "Winter Olympics 2022       0\n",
       "Yemen                    610\n",
       "Zambia                   390\n",
       "Zimbabwe                 369\n",
       "Name: Deaths, Length: 200, dtype: int64"
      ]
     },
     "execution_count": 17,
     "metadata": {},
     "output_type": "execute_result"
    }
   ],
   "source": [
    "covid_data.groupby('Country_Region')['Deaths'].sum()"
   ]
  },
  {
   "cell_type": "markdown",
   "metadata": {},
   "source": [
    "#### Show the number of Recovered cases by Country"
   ]
  },
  {
   "cell_type": "code",
   "execution_count": 19,
   "metadata": {},
   "outputs": [
    {
     "data": {
      "text/plain": [
       "Country_Region\n",
       "Afghanistan              41727\n",
       "Albania                  33634\n",
       "Algeria                  67395\n",
       "Andorra                   7463\n",
       "Angola                   11146\n",
       "                         ...  \n",
       "West Bank and Gaza      118926\n",
       "Winter Olympics 2022         0\n",
       "Yemen                     1396\n",
       "Zambia                   18773\n",
       "Zimbabwe                 11347\n",
       "Name: Recovered, Length: 200, dtype: int64"
      ]
     },
     "execution_count": 19,
     "metadata": {},
     "output_type": "execute_result"
    }
   ],
   "source": [
    "covid_data.groupby('Country_Region')['Recovered'].sum()"
   ]
  },
  {
   "cell_type": "markdown",
   "metadata": {},
   "source": [
    "#### Show the number of Active Cases by Country"
   ]
  },
  {
   "cell_type": "code",
   "execution_count": 37,
   "metadata": {},
   "outputs": [
    {
     "data": {
      "text/plain": [
       "Country_Region\n",
       "Afghanistan              8585\n",
       "Albania                 23501\n",
       "Algeria                 29740\n",
       "Andorra                   570\n",
       "Angola                   6017\n",
       "                        ...  \n",
       "West Bank and Gaza      18879\n",
       "Winter Olympics 2022        0\n",
       "Yemen                      95\n",
       "Zambia                   1834\n",
       "Zimbabwe                 2368\n",
       "Name: Active, Length: 200, dtype: int64"
      ]
     },
     "execution_count": 37,
     "metadata": {},
     "output_type": "execute_result"
    }
   ],
   "source": [
    "covid_data.groupby('Country_Region')['Active'].sum()"
   ]
  },
  {
   "cell_type": "markdown",
   "metadata": {},
   "source": [
    "#### Show the latest number of Confirmed, Deaths, Recovered and Active cases Country-wise"
   ]
  },
  {
   "cell_type": "code",
   "execution_count": 39,
   "metadata": {},
   "outputs": [
    {
     "data": {
      "text/html": [
       "<div>\n",
       "<style scoped>\n",
       "    .dataframe tbody tr th:only-of-type {\n",
       "        vertical-align: middle;\n",
       "    }\n",
       "\n",
       "    .dataframe tbody tr th {\n",
       "        vertical-align: top;\n",
       "    }\n",
       "\n",
       "    .dataframe thead th {\n",
       "        text-align: right;\n",
       "    }\n",
       "</style>\n",
       "<table border=\"1\" class=\"dataframe\">\n",
       "  <thead>\n",
       "    <tr style=\"text-align: right;\">\n",
       "      <th></th>\n",
       "      <th>Confirmed</th>\n",
       "      <th>Deaths</th>\n",
       "      <th>Recovered</th>\n",
       "      <th>Active</th>\n",
       "    </tr>\n",
       "    <tr>\n",
       "      <th>Country_Region</th>\n",
       "      <th></th>\n",
       "      <th></th>\n",
       "      <th></th>\n",
       "      <th></th>\n",
       "    </tr>\n",
       "  </thead>\n",
       "  <tbody>\n",
       "    <tr>\n",
       "      <th>Afghanistan</th>\n",
       "      <td>52513</td>\n",
       "      <td>2201</td>\n",
       "      <td>41727</td>\n",
       "      <td>8585</td>\n",
       "    </tr>\n",
       "    <tr>\n",
       "      <th>Albania</th>\n",
       "      <td>58316</td>\n",
       "      <td>1181</td>\n",
       "      <td>33634</td>\n",
       "      <td>23501</td>\n",
       "    </tr>\n",
       "    <tr>\n",
       "      <th>Algeria</th>\n",
       "      <td>99897</td>\n",
       "      <td>2762</td>\n",
       "      <td>67395</td>\n",
       "      <td>29740</td>\n",
       "    </tr>\n",
       "    <tr>\n",
       "      <th>Andorra</th>\n",
       "      <td>8117</td>\n",
       "      <td>84</td>\n",
       "      <td>7463</td>\n",
       "      <td>570</td>\n",
       "    </tr>\n",
       "    <tr>\n",
       "      <th>Angola</th>\n",
       "      <td>17568</td>\n",
       "      <td>405</td>\n",
       "      <td>11146</td>\n",
       "      <td>6017</td>\n",
       "    </tr>\n",
       "    <tr>\n",
       "      <th>...</th>\n",
       "      <td>...</td>\n",
       "      <td>...</td>\n",
       "      <td>...</td>\n",
       "      <td>...</td>\n",
       "    </tr>\n",
       "    <tr>\n",
       "      <th>West Bank and Gaza</th>\n",
       "      <td>139223</td>\n",
       "      <td>1418</td>\n",
       "      <td>118926</td>\n",
       "      <td>18879</td>\n",
       "    </tr>\n",
       "    <tr>\n",
       "      <th>Winter Olympics 2022</th>\n",
       "      <td>0</td>\n",
       "      <td>0</td>\n",
       "      <td>0</td>\n",
       "      <td>0</td>\n",
       "    </tr>\n",
       "    <tr>\n",
       "      <th>Yemen</th>\n",
       "      <td>2101</td>\n",
       "      <td>610</td>\n",
       "      <td>1396</td>\n",
       "      <td>95</td>\n",
       "    </tr>\n",
       "    <tr>\n",
       "      <th>Zambia</th>\n",
       "      <td>20997</td>\n",
       "      <td>390</td>\n",
       "      <td>18773</td>\n",
       "      <td>1834</td>\n",
       "    </tr>\n",
       "    <tr>\n",
       "      <th>Zimbabwe</th>\n",
       "      <td>14084</td>\n",
       "      <td>369</td>\n",
       "      <td>11347</td>\n",
       "      <td>2368</td>\n",
       "    </tr>\n",
       "  </tbody>\n",
       "</table>\n",
       "<p>200 rows × 4 columns</p>\n",
       "</div>"
      ],
      "text/plain": [
       "                      Confirmed  Deaths  Recovered  Active\n",
       "Country_Region                                            \n",
       "Afghanistan               52513    2201      41727    8585\n",
       "Albania                   58316    1181      33634   23501\n",
       "Algeria                   99897    2762      67395   29740\n",
       "Andorra                    8117      84       7463     570\n",
       "Angola                    17568     405      11146    6017\n",
       "...                         ...     ...        ...     ...\n",
       "West Bank and Gaza       139223    1418     118926   18879\n",
       "Winter Olympics 2022          0       0          0       0\n",
       "Yemen                      2101     610       1396      95\n",
       "Zambia                    20997     390      18773    1834\n",
       "Zimbabwe                  14084     369      11347    2368\n",
       "\n",
       "[200 rows x 4 columns]"
      ]
     },
     "execution_count": 39,
     "metadata": {},
     "output_type": "execute_result"
    }
   ],
   "source": [
    "covid_data.groupby('Country_Region')[['Confirmed','Deaths','Recovered','Active']].sum()"
   ]
  },
  {
   "cell_type": "markdown",
   "metadata": {},
   "source": [
    "### Question 3"
   ]
  },
  {
   "cell_type": "markdown",
   "metadata": {},
   "source": [
    "### Show the countries with no recovered cases"
   ]
  },
  {
   "cell_type": "code",
   "execution_count": 69,
   "metadata": {},
   "outputs": [
    {
     "name": "stdout",
     "output_type": "stream",
     "text": [
      "                      Recovered\n",
      "Country_Region                 \n",
      "Antarctica                    0\n",
      "Belgium                       0\n",
      "Kiribati                      0\n",
      "Korea, North                  0\n",
      "Nauru                         0\n",
      "Palau                         0\n",
      "Serbia                        0\n",
      "Summer Olympics 2020          0\n",
      "Sweden                        0\n",
      "Tonga                         0\n",
      "Tuvalu                        0\n",
      "US                            0\n",
      "Winter Olympics 2022          0\n"
     ]
    }
   ],
   "source": [
    "countries_no_recovered = covid_data.groupby('Country_Region')[['Recovered']].sum()\n",
    "countries_no_recovered = countries_no_recovered[countries_no_recovered['Recovered'] == 0]\n",
    "print(countries_no_recovered)"
   ]
  },
  {
   "cell_type": "markdown",
   "metadata": {},
   "source": [
    "#### Show the countries with no confirmed cases"
   ]
  },
  {
   "cell_type": "code",
   "execution_count": 71,
   "metadata": {},
   "outputs": [
    {
     "name": "stdout",
     "output_type": "stream",
     "text": [
      "                      Confirmed\n",
      "Country_Region                 \n",
      "Antarctica                    0\n",
      "Kiribati                      0\n",
      "Korea, North                  0\n",
      "Nauru                         0\n",
      "Palau                         0\n",
      "Summer Olympics 2020          0\n",
      "Tonga                         0\n",
      "Tuvalu                        0\n",
      "Winter Olympics 2022          0\n"
     ]
    }
   ],
   "source": [
    "countries_no_recovered = covid_data.groupby('Country_Region')[['Confirmed']].sum()\n",
    "countries_no_recovered = countries_no_recovered[countries_no_recovered['Confirmed'] == 0]\n",
    "print(countries_no_recovered)"
   ]
  },
  {
   "cell_type": "markdown",
   "metadata": {},
   "source": [
    "#### Show the countries with no deaths"
   ]
  },
  {
   "cell_type": "code",
   "execution_count": 73,
   "metadata": {},
   "outputs": [
    {
     "name": "stdout",
     "output_type": "stream",
     "text": [
      "                                  Deaths\n",
      "Country_Region                          \n",
      "Antarctica                             0\n",
      "Bhutan                                 0\n",
      "Cambodia                               0\n",
      "Dominica                               0\n",
      "Grenada                                0\n",
      "Holy See                               0\n",
      "Kiribati                               0\n",
      "Korea, North                           0\n",
      "Laos                                   0\n",
      "Marshall Islands                       0\n",
      "Nauru                                  0\n",
      "Palau                                  0\n",
      "Saint Kitts and Nevis                  0\n",
      "Saint Vincent and the Grenadines       0\n",
      "Samoa                                  0\n",
      "Seychelles                             0\n",
      "Solomon Islands                        0\n",
      "Summer Olympics 2020                   0\n",
      "Timor-Leste                            0\n",
      "Tonga                                  0\n",
      "Tuvalu                                 0\n",
      "Vanuatu                                0\n",
      "Winter Olympics 2022                   0\n"
     ]
    }
   ],
   "source": [
    "countries_no_recovered = covid_data.groupby('Country_Region')[['Deaths']].sum()\n",
    "countries_no_recovered = countries_no_recovered[countries_no_recovered['Deaths'] == 0]\n",
    "print(countries_no_recovered)"
   ]
  },
  {
   "cell_type": "code",
   "execution_count": 101,
   "metadata": {},
   "outputs": [
    {
     "name": "stdout",
     "output_type": "stream",
     "text": [
      "                                  Confirmed  Deaths  Recovered\n",
      "Country_Region                                                \n",
      "Antarctica                              0.0     0.0        0.0\n",
      "Bhutan                                689.0     0.0      449.0\n",
      "Cambodia                              379.0     0.0      362.0\n",
      "Dominica                               88.0     0.0       83.0\n",
      "Grenada                               127.0     0.0      107.0\n",
      "Holy See                               27.0     0.0       15.0\n",
      "Kiribati                                0.0     0.0        0.0\n",
      "Korea, North                            0.0     0.0        0.0\n",
      "Laos                                   41.0     0.0       40.0\n",
      "Marshall Islands                        4.0     0.0        4.0\n",
      "Nauru                                   0.0     0.0        0.0\n",
      "Palau                                   0.0     0.0        0.0\n",
      "Saint Kitts and Nevis                  32.0     0.0       29.0\n",
      "Saint Vincent and the Grenadines      121.0     0.0       98.0\n",
      "Samoa                                   2.0     0.0        2.0\n",
      "Seychelles                            267.0     0.0      214.0\n",
      "Solomon Islands                        17.0     0.0        5.0\n",
      "Summer Olympics 2020                    0.0     0.0        0.0\n",
      "Timor-Leste                            44.0     0.0       32.0\n",
      "Tonga                                   0.0     0.0        0.0\n",
      "Tuvalu                                  0.0     0.0        0.0\n",
      "Vanuatu                                 1.0     0.0        1.0\n",
      "Winter Olympics 2022                    0.0     0.0        0.0\n"
     ]
    }
   ],
   "source": [
    "countries_no_deaths = covid_data.groupby('Country_Region')[['Confirmed','Deaths','Recovered']].sum()\n",
    "countries_no_deaths = countries_no_deaths[countries_no_deaths['Deaths'] == 0]\n",
    "pivot_result = countries_no_deaths.pivot_table(values=['Confirmed', 'Deaths', 'Recovered'],  index='Country_Region' )\n",
    "print(pivot_result)"
   ]
  },
  {
   "cell_type": "markdown",
   "metadata": {},
   "source": [
    "### Question 4"
   ]
  },
  {
   "cell_type": "markdown",
   "metadata": {},
   "source": [
    "#### Show the Top 10 countries with Confirmed cases"
   ]
  },
  {
   "cell_type": "code",
   "execution_count": 109,
   "metadata": {},
   "outputs": [
    {
     "data": {
      "text/html": [
       "<div>\n",
       "<style scoped>\n",
       "    .dataframe tbody tr th:only-of-type {\n",
       "        vertical-align: middle;\n",
       "    }\n",
       "\n",
       "    .dataframe tbody tr th {\n",
       "        vertical-align: top;\n",
       "    }\n",
       "\n",
       "    .dataframe thead th {\n",
       "        text-align: right;\n",
       "    }\n",
       "</style>\n",
       "<table border=\"1\" class=\"dataframe\">\n",
       "  <thead>\n",
       "    <tr style=\"text-align: right;\">\n",
       "      <th></th>\n",
       "      <th>Confirmed</th>\n",
       "      <th>Deaths</th>\n",
       "      <th>Recovered</th>\n",
       "      <th>Active</th>\n",
       "    </tr>\n",
       "    <tr>\n",
       "      <th>Country_Region</th>\n",
       "      <th></th>\n",
       "      <th></th>\n",
       "      <th></th>\n",
       "      <th></th>\n",
       "    </tr>\n",
       "  </thead>\n",
       "  <tbody>\n",
       "    <tr>\n",
       "      <th>Afghanistan</th>\n",
       "      <td>52513</td>\n",
       "      <td>2201</td>\n",
       "      <td>41727</td>\n",
       "      <td>8585</td>\n",
       "    </tr>\n",
       "    <tr>\n",
       "      <th>Albania</th>\n",
       "      <td>58316</td>\n",
       "      <td>1181</td>\n",
       "      <td>33634</td>\n",
       "      <td>23501</td>\n",
       "    </tr>\n",
       "    <tr>\n",
       "      <th>Algeria</th>\n",
       "      <td>99897</td>\n",
       "      <td>2762</td>\n",
       "      <td>67395</td>\n",
       "      <td>29740</td>\n",
       "    </tr>\n",
       "    <tr>\n",
       "      <th>Andorra</th>\n",
       "      <td>8117</td>\n",
       "      <td>84</td>\n",
       "      <td>7463</td>\n",
       "      <td>570</td>\n",
       "    </tr>\n",
       "    <tr>\n",
       "      <th>Angola</th>\n",
       "      <td>17568</td>\n",
       "      <td>405</td>\n",
       "      <td>11146</td>\n",
       "      <td>6017</td>\n",
       "    </tr>\n",
       "    <tr>\n",
       "      <th>...</th>\n",
       "      <td>...</td>\n",
       "      <td>...</td>\n",
       "      <td>...</td>\n",
       "      <td>...</td>\n",
       "    </tr>\n",
       "    <tr>\n",
       "      <th>West Bank and Gaza</th>\n",
       "      <td>139223</td>\n",
       "      <td>1418</td>\n",
       "      <td>118926</td>\n",
       "      <td>18879</td>\n",
       "    </tr>\n",
       "    <tr>\n",
       "      <th>Winter Olympics 2022</th>\n",
       "      <td>0</td>\n",
       "      <td>0</td>\n",
       "      <td>0</td>\n",
       "      <td>0</td>\n",
       "    </tr>\n",
       "    <tr>\n",
       "      <th>Yemen</th>\n",
       "      <td>2101</td>\n",
       "      <td>610</td>\n",
       "      <td>1396</td>\n",
       "      <td>95</td>\n",
       "    </tr>\n",
       "    <tr>\n",
       "      <th>Zambia</th>\n",
       "      <td>20997</td>\n",
       "      <td>390</td>\n",
       "      <td>18773</td>\n",
       "      <td>1834</td>\n",
       "    </tr>\n",
       "    <tr>\n",
       "      <th>Zimbabwe</th>\n",
       "      <td>14084</td>\n",
       "      <td>369</td>\n",
       "      <td>11347</td>\n",
       "      <td>2368</td>\n",
       "    </tr>\n",
       "  </tbody>\n",
       "</table>\n",
       "<p>200 rows × 4 columns</p>\n",
       "</div>"
      ],
      "text/plain": [
       "                      Confirmed  Deaths  Recovered  Active\n",
       "Country_Region                                            \n",
       "Afghanistan               52513    2201      41727    8585\n",
       "Albania                   58316    1181      33634   23501\n",
       "Algeria                   99897    2762      67395   29740\n",
       "Andorra                    8117      84       7463     570\n",
       "Angola                    17568     405      11146    6017\n",
       "...                         ...     ...        ...     ...\n",
       "West Bank and Gaza       139223    1418     118926   18879\n",
       "Winter Olympics 2022          0       0          0       0\n",
       "Yemen                      2101     610       1396      95\n",
       "Zambia                    20997     390      18773    1834\n",
       "Zimbabwe                  14084     369      11347    2368\n",
       "\n",
       "[200 rows x 4 columns]"
      ]
     },
     "execution_count": 109,
     "metadata": {},
     "output_type": "execute_result"
    }
   ],
   "source": [
    "country_region_data = covid_data.groupby('Country_Region')[['Confirmed','Deaths','Recovered','Active']].sum()\n",
    "country_region_data"
   ]
  },
  {
   "cell_type": "code",
   "execution_count": 111,
   "metadata": {},
   "outputs": [
    {
     "data": {
      "text/html": [
       "<div>\n",
       "<style scoped>\n",
       "    .dataframe tbody tr th:only-of-type {\n",
       "        vertical-align: middle;\n",
       "    }\n",
       "\n",
       "    .dataframe tbody tr th {\n",
       "        vertical-align: top;\n",
       "    }\n",
       "\n",
       "    .dataframe thead th {\n",
       "        text-align: right;\n",
       "    }\n",
       "</style>\n",
       "<table border=\"1\" class=\"dataframe\">\n",
       "  <thead>\n",
       "    <tr style=\"text-align: right;\">\n",
       "      <th></th>\n",
       "      <th>Confirmed</th>\n",
       "      <th>Deaths</th>\n",
       "      <th>Recovered</th>\n",
       "      <th>Active</th>\n",
       "    </tr>\n",
       "    <tr>\n",
       "      <th>Country_Region</th>\n",
       "      <th></th>\n",
       "      <th></th>\n",
       "      <th></th>\n",
       "      <th></th>\n",
       "    </tr>\n",
       "  </thead>\n",
       "  <tbody>\n",
       "    <tr>\n",
       "      <th>US</th>\n",
       "      <td>20397401</td>\n",
       "      <td>352844</td>\n",
       "      <td>0</td>\n",
       "      <td>19978335</td>\n",
       "    </tr>\n",
       "    <tr>\n",
       "      <th>India</th>\n",
       "      <td>10305788</td>\n",
       "      <td>149218</td>\n",
       "      <td>9929568</td>\n",
       "      <td>273109</td>\n",
       "    </tr>\n",
       "    <tr>\n",
       "      <th>Brazil</th>\n",
       "      <td>7703971</td>\n",
       "      <td>195541</td>\n",
       "      <td>6855372</td>\n",
       "      <td>649795</td>\n",
       "    </tr>\n",
       "    <tr>\n",
       "      <th>Russia</th>\n",
       "      <td>3153960</td>\n",
       "      <td>56798</td>\n",
       "      <td>2553467</td>\n",
       "      <td>543695</td>\n",
       "    </tr>\n",
       "    <tr>\n",
       "      <th>France</th>\n",
       "      <td>2697014</td>\n",
       "      <td>64891</td>\n",
       "      <td>200822</td>\n",
       "      <td>2431301</td>\n",
       "    </tr>\n",
       "    <tr>\n",
       "      <th>United Kingdom</th>\n",
       "      <td>2549671</td>\n",
       "      <td>95917</td>\n",
       "      <td>5682</td>\n",
       "      <td>2469774</td>\n",
       "    </tr>\n",
       "    <tr>\n",
       "      <th>Turkey</th>\n",
       "      <td>2220855</td>\n",
       "      <td>21093</td>\n",
       "      <td>2114760</td>\n",
       "      <td>85002</td>\n",
       "    </tr>\n",
       "    <tr>\n",
       "      <th>Italy</th>\n",
       "      <td>2129376</td>\n",
       "      <td>74621</td>\n",
       "      <td>1479988</td>\n",
       "      <td>574767</td>\n",
       "    </tr>\n",
       "    <tr>\n",
       "      <th>Spain</th>\n",
       "      <td>1928265</td>\n",
       "      <td>50837</td>\n",
       "      <td>150376</td>\n",
       "      <td>1727052</td>\n",
       "    </tr>\n",
       "    <tr>\n",
       "      <th>Germany</th>\n",
       "      <td>1721839</td>\n",
       "      <td>33071</td>\n",
       "      <td>1388744</td>\n",
       "      <td>339610</td>\n",
       "    </tr>\n",
       "  </tbody>\n",
       "</table>\n",
       "</div>"
      ],
      "text/plain": [
       "                Confirmed  Deaths  Recovered    Active\n",
       "Country_Region                                        \n",
       "US               20397401  352844          0  19978335\n",
       "India            10305788  149218    9929568    273109\n",
       "Brazil            7703971  195541    6855372    649795\n",
       "Russia            3153960   56798    2553467    543695\n",
       "France            2697014   64891     200822   2431301\n",
       "United Kingdom    2549671   95917       5682   2469774\n",
       "Turkey            2220855   21093    2114760     85002\n",
       "Italy             2129376   74621    1479988    574767\n",
       "Spain             1928265   50837     150376   1727052\n",
       "Germany           1721839   33071    1388744    339610"
      ]
     },
     "execution_count": 111,
     "metadata": {},
     "output_type": "execute_result"
    }
   ],
   "source": [
    "sorted_country_region_data = country_region_data.sort_values(by='Confirmed', ascending=False)\n",
    "sorted_country_region_data.head(10)"
   ]
  },
  {
   "cell_type": "markdown",
   "metadata": {},
   "source": [
    "#### Show the Top 10 Countries with Active cases"
   ]
  },
  {
   "cell_type": "code",
   "execution_count": 115,
   "metadata": {},
   "outputs": [
    {
     "data": {
      "text/html": [
       "<div>\n",
       "<style scoped>\n",
       "    .dataframe tbody tr th:only-of-type {\n",
       "        vertical-align: middle;\n",
       "    }\n",
       "\n",
       "    .dataframe tbody tr th {\n",
       "        vertical-align: top;\n",
       "    }\n",
       "\n",
       "    .dataframe thead th {\n",
       "        text-align: right;\n",
       "    }\n",
       "</style>\n",
       "<table border=\"1\" class=\"dataframe\">\n",
       "  <thead>\n",
       "    <tr style=\"text-align: right;\">\n",
       "      <th></th>\n",
       "      <th>Confirmed</th>\n",
       "      <th>Deaths</th>\n",
       "      <th>Recovered</th>\n",
       "      <th>Active</th>\n",
       "    </tr>\n",
       "    <tr>\n",
       "      <th>Country_Region</th>\n",
       "      <th></th>\n",
       "      <th></th>\n",
       "      <th></th>\n",
       "      <th></th>\n",
       "    </tr>\n",
       "  </thead>\n",
       "  <tbody>\n",
       "    <tr>\n",
       "      <th>US</th>\n",
       "      <td>20397401</td>\n",
       "      <td>352844</td>\n",
       "      <td>0</td>\n",
       "      <td>19978335</td>\n",
       "    </tr>\n",
       "    <tr>\n",
       "      <th>United Kingdom</th>\n",
       "      <td>2549671</td>\n",
       "      <td>95917</td>\n",
       "      <td>5682</td>\n",
       "      <td>2469774</td>\n",
       "    </tr>\n",
       "    <tr>\n",
       "      <th>France</th>\n",
       "      <td>2697014</td>\n",
       "      <td>64891</td>\n",
       "      <td>200822</td>\n",
       "      <td>2431301</td>\n",
       "    </tr>\n",
       "    <tr>\n",
       "      <th>Spain</th>\n",
       "      <td>1928265</td>\n",
       "      <td>50837</td>\n",
       "      <td>150376</td>\n",
       "      <td>1727052</td>\n",
       "    </tr>\n",
       "    <tr>\n",
       "      <th>Mexico</th>\n",
       "      <td>1437185</td>\n",
       "      <td>126507</td>\n",
       "      <td>1083768</td>\n",
       "      <td>1310678</td>\n",
       "    </tr>\n",
       "    <tr>\n",
       "      <th>Peru</th>\n",
       "      <td>1015137</td>\n",
       "      <td>93231</td>\n",
       "      <td>951318</td>\n",
       "      <td>921906</td>\n",
       "    </tr>\n",
       "    <tr>\n",
       "      <th>Netherlands</th>\n",
       "      <td>816616</td>\n",
       "      <td>11624</td>\n",
       "      <td>9651</td>\n",
       "      <td>795341</td>\n",
       "    </tr>\n",
       "    <tr>\n",
       "      <th>Brazil</th>\n",
       "      <td>7703971</td>\n",
       "      <td>195541</td>\n",
       "      <td>6855372</td>\n",
       "      <td>649795</td>\n",
       "    </tr>\n",
       "    <tr>\n",
       "      <th>Belgium</th>\n",
       "      <td>648289</td>\n",
       "      <td>19581</td>\n",
       "      <td>0</td>\n",
       "      <td>637588</td>\n",
       "    </tr>\n",
       "    <tr>\n",
       "      <th>Italy</th>\n",
       "      <td>2129376</td>\n",
       "      <td>74621</td>\n",
       "      <td>1479988</td>\n",
       "      <td>574767</td>\n",
       "    </tr>\n",
       "  </tbody>\n",
       "</table>\n",
       "</div>"
      ],
      "text/plain": [
       "                Confirmed  Deaths  Recovered    Active\n",
       "Country_Region                                        \n",
       "US               20397401  352844          0  19978335\n",
       "United Kingdom    2549671   95917       5682   2469774\n",
       "France            2697014   64891     200822   2431301\n",
       "Spain             1928265   50837     150376   1727052\n",
       "Mexico            1437185  126507    1083768   1310678\n",
       "Peru              1015137   93231     951318    921906\n",
       "Netherlands        816616   11624       9651    795341\n",
       "Brazil            7703971  195541    6855372    649795\n",
       "Belgium            648289   19581          0    637588\n",
       "Italy             2129376   74621    1479988    574767"
      ]
     },
     "execution_count": 115,
     "metadata": {},
     "output_type": "execute_result"
    }
   ],
   "source": [
    "sorted_country_region_data = country_region_data.sort_values(by='Active', ascending=False)\n",
    "sorted_country_region_data.head(10)"
   ]
  },
  {
   "cell_type": "markdown",
   "metadata": {},
   "source": [
    "### Question 5"
   ]
  },
  {
   "cell_type": "markdown",
   "metadata": {},
   "source": [
    "#### Plot Country-wise Total deaths, confirmed, recovered and active casaes where total deaths have exceeded 50,000"
   ]
  },
  {
   "cell_type": "code",
   "execution_count": 117,
   "metadata": {},
   "outputs": [],
   "source": [
    "import matplotlib.pyplot as plt"
   ]
  },
  {
   "cell_type": "code",
   "execution_count": 121,
   "metadata": {},
   "outputs": [
    {
     "data": {
      "image/png": "[encoded data removed]",
      "text/plain": [
       "<Figure size 1200x800 with 1 Axes>"
      ]
     },
     "metadata": {},
     "output_type": "display_data"
    }
   ],
   "source": [
    "# Group data by 'Country_Region' and calculate the sum for each country\n",
    "country_summary = covid_data.groupby('Country_Region')[['Confirmed', 'Deaths', 'Recovered', 'Active']].sum()\n",
    "\n",
    "# Filter countries where total deaths exceed 50,000\n",
    "countries_high_deaths = country_summary[country_summary['Deaths'] > 50000]\n",
    "\n",
    "# Plot the data\n",
    "countries_high_deaths.plot(kind='line', figsize=(12, 8))\n",
    "\n",
    "# Add titles and labels\n",
    "plt.title('Country-wise Total Cases (Deaths > 50,000)', fontsize=16)\n",
    "plt.xlabel('Country', fontsize=14)\n",
    "plt.ylabel('Number of Cases', fontsize=14)\n",
    "plt.xticks(rotation=45, ha='right')\n",
    "\n",
    "# Show the plot\n",
    "plt.tight_layout()\n",
    "plt.show()"
   ]
  },
  {
   "cell_type": "markdown",
   "metadata": {},
   "source": [
    "### Question 6"
   ]
  },
  {
   "cell_type": "markdown",
   "metadata": {},
   "source": [
    "### Plot Province/State wise Deaths in USA"
   ]
  },
  {
   "cell_type": "code",
   "execution_count": 134,
   "metadata": {},
   "outputs": [],
   "source": [
    "import plotly.express as px"
   ]
  },
  {
   "cell_type": "code",
   "execution_count": 136,
   "metadata": {},
   "outputs": [],
   "source": [
    "covid_data= pd.read_csv('https://raw.githubusercontent.com/CSSEGISandData/COVID-19/master/csse_covid_19_data/csse_covid_19_daily_reports/01-09-2021.csv')"
   ]
  },
  {
   "cell_type": "code",
   "execution_count": 138,
   "metadata": {},
   "outputs": [
    {
     "data": {
      "text/plain": [
       "Index(['FIPS', 'Admin2', 'Province_State', 'Country_Region', 'Last_Update',\n",
       "       'Lat', 'Long_', 'Confirmed', 'Deaths', 'Recovered', 'Active',\n",
       "       'Combined_Key', 'Incident_Rate', 'Case_Fatality_Ratio'],\n",
       "      dtype='object')"
      ]
     },
     "execution_count": 138,
     "metadata": {},
     "output_type": "execute_result"
    }
   ],
   "source": [
    "covid_data.columns"
   ]
  },
  {
   "cell_type": "code",
   "execution_count": 152,
   "metadata": {},
   "outputs": [
    {
     "data": {
      "application/vnd.plotly.v1+json": {
       "config": {
        "plotlyServerURL": "https://plot.ly"
       },
       "data": [
        {
         "alignmentgroup": "True",
         "hovertemplate": "State=%{x}<br>Deaths=%{marker.color}<extra></extra>",
         "legendgroup": "",
         "marker": {
          "color": [
           1274,
           823,
           98,
           1444,
           266,
           1,
           5299,
           2553,
           224,
           1272,
           961,
           108,
           969,
           6373,
           105,
           2952,
           5251,
           62,
           7128,
           0,
           6,
           5070,
           592,
           0,
           8,
           396,
           2683,
           137,
           332,
           4338,
           231,
           10036,
           4010,
           451,
           50,
           56,
           1060,
           421,
           1376,
           115,
           3534,
           3,
           843,
           18,
           235,
           5464,
           9392,
           5945,
           805,
           482,
           188,
           154,
           271,
           7786,
           9,
           278,
           1547,
           12,
           1430,
           868,
           52,
           1159,
           3,
           678,
           1281,
           219,
           988,
           1,
           0,
           218,
           617,
           3163,
           1632,
           509,
           699,
           29638,
           5268,
           3115,
           980,
           447,
           402,
           10472,
           546,
           191,
           4117,
           5143,
           8828,
           521,
           2,
           10150,
           1014,
           62,
           327,
           0,
           96,
           580,
           424,
           461,
           808,
           3484,
           1231,
           136,
           4540,
           169,
           6,
           4,
           622,
           18060,
           4392,
           818,
           5600,
           6324,
           0,
           310,
           1683,
           582,
           1831,
           19,
           1625,
           2,
           1150,
           259,
           1128,
           10666,
           1,
           813,
           4351,
           1547,
           720,
           174,
           1652,
           0,
           13,
           8279,
           88347,
           5307,
           1111,
           0,
           1,
           0,
           164,
           22804,
           74,
           122,
           194,
           1876,
           1,
           12,
           128,
           28,
           1420,
           2,
           371,
           1398,
           11457,
           12,
           45,
           101,
           746,
           6964,
           34,
           3,
           0,
           120,
           155,
           20,
           124,
           5750,
           8,
           2,
           37,
           16,
           2765,
           2,
           4340,
           49,
           6,
           0,
           150,
           792,
           2949,
           308,
           6,
           13,
           22,
           3461,
           3704,
           958,
           56,
           500,
           157,
           399,
           1131,
           4512,
           1183,
           4,
           268,
           40,
           3764,
           1528,
           19210,
           10089,
           145,
           1,
           4127,
           1326,
           52,
           439,
           25,
           831,
           578,
           25,
           6587,
           1909,
           85,
           56,
           75,
           1045,
           0,
           1,
           2,
           44,
           354,
           2469,
           279,
           4,
           14,
           194,
           120,
           211,
           189,
           82,
           315,
           3164,
           43,
           181,
           12138,
           13,
           9,
           487,
           2876,
           3279,
           204,
           302,
           576,
           1170,
           473,
           706,
           1728,
           2067,
           1017,
           240,
           272,
           11,
           609,
           246,
           1066,
           1842,
           216,
           32,
           200,
           319,
           72,
           558,
           4886,
           594,
           127,
           0,
           4681,
           4114,
           296,
           2,
           0,
           2999,
           42786,
           1151,
           290,
           25728,
           2755,
           279,
           105,
           7833,
           332,
           0,
           1860,
           0,
           3701,
           159,
           11971,
           66,
           237,
           1107,
           50027,
           432,
           365,
           733,
           4555,
           1685,
           128,
           43,
           6246,
           11071,
           4667,
           2546,
           589,
           56,
           235,
           143,
           7,
           44,
           776,
           10947,
           20251,
           14145,
           2901,
           22,
           12594,
           5731,
           5146,
           6173,
           17,
           10,
           8,
           210,
           1054,
           1,
           916,
           101,
           1497,
           11873,
           3073,
           769,
           685,
           547,
           84,
           18,
           7,
           0,
           26,
           1065,
           973,
           1084,
           1737,
           17,
           0,
           3450,
           9,
           0,
           862,
           19854,
           2732,
           54,
           39288,
           4,
           2313,
           3,
           0,
           0,
           1787,
           2462,
           1791,
           7866,
           144,
           2189,
           7425,
           1360,
           101,
           2060,
           2,
           0,
           0,
           65,
           99,
           1040,
           228,
           5447,
           1,
           602,
           2205,
           1121,
           1891,
           14899,
           7,
           15,
           84,
           2738,
           938,
           4922,
           225,
           1603,
           288,
           379,
           666,
           396,
           786,
           778,
           1006,
           8,
           3038,
           7304,
           3800,
           8742,
           357,
           17710,
           335,
           18,
           2,
           1224,
           9826,
           2897,
           8165,
           0,
           6467,
           798,
           1,
           414,
           0,
           105,
           636,
           5972,
           1616,
           2648,
           10,
           9699,
           1557,
           252,
           0,
           8762,
           6,
           2177,
           706,
           2085,
           2731,
           0,
           0,
           42,
           1740,
           2062,
           3100,
           9413,
           26704,
           843,
           529,
           1908,
           793,
           2199,
           184,
           529,
           283,
           3981,
           832,
           3,
           0,
           0,
           8328,
           0,
           244,
           405,
           17,
           690,
           41,
           3197,
           1618,
           5611,
           2530,
           48298,
           440,
           19,
           817,
           191,
           534,
           7264,
           72,
           2563,
           276,
           3,
           7,
           7,
           0,
           16,
           0,
           49,
           3,
           2695,
           129,
           4317,
           3693,
           27,
           814,
           355,
           4380,
           328,
           4,
           5758,
           1570,
           12,
           791,
           3361,
           685,
           550,
           1665,
           3268,
           810,
           3390,
           207,
           12215,
           300,
           13,
           211,
           1565,
           7704,
           1,
           479,
           30441,
           1298,
           3,
           0,
           1490,
           1270,
           9,
           9,
           682,
           1379,
           226,
           3840,
           1,
           26,
           388,
           842,
           778,
           6,
           469,
           209,
           157,
           1592,
           416,
           474,
           652,
           20184,
           388,
           1390,
           931,
           8481,
           1568,
           388,
           4555,
           1283,
           126,
           92,
           255,
           267,
           1396,
           13,
           7345,
           6510,
           156,
           14,
           820,
           415,
           24,
           5381,
           544,
           502,
           469,
           535,
           1254,
           26,
           8,
           5,
           8,
           5751,
           0,
           0,
           3698,
           9922,
           0,
           1570,
           9,
           5567,
           489,
           3,
           10,
           3,
           353,
           11,
           230,
           2495,
           1,
           2,
           407,
           1865,
           656,
           667,
           138,
           1,
           683,
           2963
          ],
          "coloraxis": "coloraxis",
          "pattern": {
           "shape": ""
          }
         },
         "name": "",
         "offsetgroup": "",
         "orientation": "v",
         "showlegend": false,
         "textposition": "auto",
         "type": "bar",
         "x": [
          "Abruzzo",
          "Acre",
          "Adygea Republic",
          "Aguascalientes",
          "Aichi",
          "Akita",
          "Alabama",
          "Alagoas",
          "Alaska",
          "Alberta",
          "Altai Krai",
          "Altai Republic",
          "Amapa",
          "Amazonas",
          "Amur Oblast",
          "Ancash",
          "Andalusia",
          "Andaman and Nicobar Islands",
          "Andhra Pradesh",
          "Anguilla",
          "Anhui",
          "Antioquia",
          "Antofagasta",
          "Antwerp",
          "Aomori",
          "Apurimac",
          "Aragon",
          "Arauca",
          "Araucania",
          "Arequipa",
          "Arica y Parinacota",
          "Arizona",
          "Arkansas",
          "Arkhangelsk Oblast",
          "Aruba",
          "Arunachal Pradesh",
          "Assam",
          "Astrakhan Oblast",
          "Asturias",
          "Atacama",
          "Atlantico",
          "Australian Capital Territory",
          "Ayacucho",
          "Aysen",
          "Azad Jammu and Kashmir",
          "Baden-Wurttemberg",
          "Bahia",
          "Baja California",
          "Baja California Sur",
          "Baleares",
          "Balochistan",
          "Bashkortostan Republic",
          "Basilicata",
          "Bayern",
          "Beijing",
          "Belgorod Oblast",
          "Berlin",
          "Bermuda",
          "Bihar",
          "Biobio",
          "Blekinge",
          "Bolivar",
          "Bonaire, Sint Eustatius and Saba",
          "Boyaca",
          "Brandenburg",
          "Bremen",
          "British Columbia",
          "British Virgin Islands",
          "Brussels",
          "Bryansk Oblast",
          "Buryatia Republic",
          "C. Valenciana",
          "Cajamarca",
          "Calabria",
          "Caldas",
          "California",
          "Callao",
          "Campania",
          "Campeche",
          "Canarias",
          "Cantabria",
          "Capital District",
          "Caqueta",
          "Casanare",
          "Castilla - La Mancha",
          "Castilla y Leon",
          "Catalonia",
          "Cauca",
          "Cayman Islands",
          "Ceara",
          "Cesar",
          "Ceuta",
          "Chandigarh",
          "Channel Islands",
          "Chechen Republic",
          "Chelyabinsk Oblast",
          "Cherkasy Oblast",
          "Chernihiv Oblast",
          "Chernivtsi Oblast",
          "Chhattisgarh",
          "Chiapas",
          "Chiba",
          "Chihuahua",
          "Choco",
          "Chongqing",
          "Chukotka Autonomous Okrug",
          "Chuvashia Republic",
          "Ciudad de Mexico",
          "Coahuila",
          "Colima",
          "Colorado",
          "Connecticut",
          "Cook Islands",
          "Coquimbo",
          "Cordoba",
          "Crimea Republic*",
          "Cundinamarca",
          "Curacao",
          "Cusco",
          "Dadra and Nagar Haveli and Daman and Diu",
          "Dagestan Republic",
          "Dalarna",
          "Delaware",
          "Delhi",
          "Diamond Princess",
          "District of Columbia",
          "Distrito Federal",
          "Dnipropetrovsk Oblast",
          "Donetsk Oblast",
          "Drenthe",
          "Durango",
          "East Flanders",
          "Ehime",
          "Emilia-Romagna",
          "England",
          "Espirito Santo",
          "Extremadura",
          "Falkland Islands (Malvinas)",
          "Faroe Islands",
          "Flemish Brabant",
          "Flevoland",
          "Florida",
          "French Guiana",
          "French Polynesia",
          "Friesland",
          "Friuli Venezia Giulia",
          "Fujian",
          "Fukui",
          "Fukuoka",
          "Fukushima",
          "Galicia",
          "Gansu",
          "Gavleborg",
          "Gelderland",
          "Georgia",
          "Gibraltar",
          "Gifu",
          "Gilgit-Baltistan",
          "Goa",
          "Goias",
          "Gotland",
          "Grand Princess",
          "Greenland",
          "Groningen",
          "Guadeloupe",
          "Guainia",
          "Guam",
          "Guanajuato",
          "Guangdong",
          "Guangxi",
          "Guaviare",
          "Guernsey",
          "Guerrero",
          "Guizhou",
          "Gujarat",
          "Gunma",
          "Hainan",
          "Hainaut",
          "Halland",
          "Hamburg",
          "Haryana",
          "Hawaii",
          "Hebei",
          "Heilongjiang",
          "Henan",
          "Hessen",
          "Hidalgo",
          "Himachal Pradesh",
          "Hiroshima",
          "Hokkaido",
          "Hong Kong",
          "Huancavelica",
          "Huanuco",
          "Hubei",
          "Huila",
          "Hunan",
          "Hyogo",
          "Ibaraki",
          "Ica",
          "Idaho",
          "Illinois",
          "Indiana",
          "Ingushetia Republic",
          "Inner Mongolia",
          "Iowa",
          "Irkutsk Oblast",
          "Ishikawa",
          "Islamabad",
          "Isle of Man",
          "Ivano-Frankivsk Oblast",
          "Ivanovo Oblast",
          "Iwate",
          "Jalisco",
          "Jammu and Kashmir",
          "Jamtland Harjedalen",
          "Jersey",
          "Jewish Autonomous Okrug",
          "Jharkhand",
          "Jiangsu",
          "Jiangxi",
          "Jilin",
          "Johor",
          "Jonkoping",
          "Junin",
          "Kabardino-Balkarian Republic",
          "Kagawa",
          "Kagoshima",
          "Kaliningrad Oblast",
          "Kalmar",
          "Kalmykia Republic",
          "Kaluga Oblast",
          "Kamchatka Krai",
          "Kanagawa",
          "Kansas",
          "Karachay-Cherkess Republic",
          "Karelia Republic",
          "Karnataka",
          "Kedah",
          "Kelantan",
          "Kemerovo Oblast",
          "Kentucky",
          "Kerala",
          "Khabarovsk Krai",
          "Khakassia Republic",
          "Khanty-Mansi Autonomous Okrug",
          "Kharkiv Oblast",
          "Kherson Oblast",
          "Khmelnytskyi Oblast",
          "Khyber Pakhtunkhwa",
          "Kiev",
          "Kiev Oblast",
          "Kirov Oblast",
          "Kirovohrad Oblast",
          "Kochi",
          "Komi Republic",
          "Kostroma Oblast",
          "Krasnodar Krai",
          "Krasnoyarsk Krai",
          "Kronoberg",
          "Kumamoto",
          "Kurgan Oblast",
          "Kursk Oblast",
          "Kyoto",
          "La Guajira",
          "La Libertad",
          "La Rioja",
          "Ladakh",
          "Lakshadweep",
          "Lambayeque",
          "Lazio",
          "Leningrad Oblast",
          "Liaoning",
          "Liege",
          "Liguria",
          "Lima",
          "Limburg",
          "Lipetsk Oblast",
          "Lombardia",
          "Loreto",
          "Los Lagos",
          "Los Rios",
          "Louisiana",
          "Luhansk Oblast",
          "Luxembourg",
          "Lviv Oblast",
          "Macau",
          "Madhya Pradesh",
          "Madre de Dios",
          "Madrid",
          "Magadan Oblast",
          "Magallanes",
          "Magdalena",
          "Maharashtra",
          "Maine",
          "Manipur",
          "Manitoba",
          "Maranhao",
          "Marche",
          "Mari El Republic",
          "Martinique",
          "Maryland",
          "Massachusetts",
          "Mato Grosso",
          "Mato Grosso do Sul",
          "Maule",
          "Mayotte",
          "Mecklenburg-Vorpommern",
          "Meghalaya",
          "Melaka",
          "Melilla",
          "Meta",
          "Metropolitana",
          "Mexico",
          "Michigan",
          "Michoacan",
          "Mie",
          "Minas Gerais",
          "Minnesota",
          "Mississippi",
          "Missouri",
          "Miyagi",
          "Miyazaki",
          "Mizoram",
          "Molise",
          "Montana",
          "Montserrat",
          "Moquegua",
          "Mordovia Republic",
          "Morelos",
          "Moscow",
          "Moscow Oblast",
          "Murcia",
          "Murmansk Oblast",
          "Mykolaiv Oblast",
          "Nagaland",
          "Nagano",
          "Nagasaki",
          "Namur",
          "Nara",
          "Narino",
          "Navarra",
          "Nayarit",
          "Nebraska",
          "Negeri Sembilan",
          "Nenets Autonomous Okrug",
          "Nevada",
          "New Brunswick",
          "New Caledonia",
          "New Hampshire",
          "New Jersey",
          "New Mexico",
          "New South Wales",
          "New York",
          "Newfoundland and Labrador",
          "Niedersachsen",
          "Niigata",
          "Ningxia",
          "Niue",
          "Nizhny Novgorod Oblast",
          "Noord-Brabant",
          "Noord-Holland",
          "Nordrhein-Westfalen",
          "Norrbotten",
          "Norte de Santander",
          "North Carolina",
          "North Dakota",
          "North Ossetia - Alania Republic",
          "Northern Ireland",
          "Northern Mariana Islands",
          "Northern Territory",
          "Northwest Territories",
          "Nova Scotia",
          "Novgorod Oblast",
          "Novosibirsk Oblast",
          "Nuble",
          "Nuevo Leon",
          "Nunavut",
          "OHiggins",
          "Oaxaca",
          "Odessa Oblast",
          "Odisha",
          "Ohio",
          "Oita",
          "Okayama",
          "Okinawa",
          "Oklahoma",
          "Omsk Oblast",
          "Ontario",
          "Orebro",
          "Oregon",
          "Orel Oblast",
          "Orenburg Oblast",
          "Osaka",
          "Ostergotland",
          "Overijssel",
          "P.A. Bolzano",
          "P.A. Trento",
          "Pahang",
          "Pais Vasco",
          "Para",
          "Paraiba",
          "Parana",
          "Pasco",
          "Pennsylvania",
          "Penza Oblast",
          "Perak",
          "Perlis",
          "Perm Krai",
          "Pernambuco",
          "Piaui",
          "Piemonte",
          "Pitcairn Islands",
          "Piura",
          "Poltava Oblast",
          "Port Quarantine",
          "Primorsky Krai",
          "Prince Edward Island",
          "Pskov Oblast",
          "Puducherry",
          "Puebla",
          "Puerto Rico",
          "Puglia",
          "Pulau Pinang",
          "Punjab",
          "Puno",
          "Putumayo",
          "Qinghai",
          "Quebec",
          "Queensland",
          "Queretaro",
          "Quindio",
          "Quintana Roo",
          "Rajasthan",
          "Recovered",
          "Repatriated Travellers",
          "Reunion",
          "Rheinland-Pfalz",
          "Rhode Island",
          "Rio Grande do Norte",
          "Rio Grande do Sul",
          "Rio de Janeiro",
          "Risaralda",
          "Rivne Oblast",
          "Rondonia",
          "Roraima",
          "Rostov Oblast",
          "Ryazan Oblast",
          "Saarland",
          "Sabah",
          "Sachsen",
          "Sachsen-Anhalt",
          "Saga",
          "Saint Barthelemy",
          "Saint Helena, Ascension and Tristan da Cunha",
          "Saint Petersburg",
          "Saint Pierre and Miquelon",
          "Saitama",
          "Sakha (Yakutiya) Republic",
          "Sakhalin Oblast",
          "Samara Oblast",
          "San Andres y Providencia",
          "San Luis Potosi",
          "San Martin",
          "Santa Catarina",
          "Santander",
          "Sao Paulo",
          "Saratov Oblast",
          "Sarawak",
          "Sardegna",
          "Saskatchewan",
          "Schleswig-Holstein",
          "Scotland",
          "Selangor",
          "Sergipe",
          "Sevastopol*",
          "Shaanxi",
          "Shandong",
          "Shanghai",
          "Shanxi",
          "Shiga",
          "Shimane",
          "Shizuoka",
          "Sichuan",
          "Sicilia",
          "Sikkim",
          "Sinaloa",
          "Sindh",
          "Sint Maarten",
          "Skane",
          "Smolensk Oblast",
          "Sonora",
          "Sormland",
          "South Australia",
          "South Carolina",
          "South Dakota",
          "St Martin",
          "Stavropol Krai",
          "Stockholm",
          "Sucre",
          "Sumy Oblast",
          "Sverdlovsk Oblast",
          "Tabasco",
          "Tacna",
          "Tamaulipas",
          "Tambov Oblast",
          "Tamil Nadu",
          "Tarapaca",
          "Tasmania",
          "Tatarstan Republic",
          "Telangana",
          "Tennessee",
          "Terengganu",
          "Ternopil Oblast",
          "Texas",
          "Thuringen",
          "Tianjin",
          "Tibet",
          "Tlaxcala",
          "Tocantins",
          "Tochigi",
          "Tokushima",
          "Tokyo",
          "Tolima",
          "Tomsk Oblast",
          "Toscana",
          "Tottori",
          "Toyama",
          "Tripura",
          "Tula Oblast",
          "Tumbes",
          "Turks and Caicos Islands",
          "Tver Oblast",
          "Tyumen Oblast",
          "Tyva Republic",
          "Ucayali",
          "Udmurt Republic",
          "Ulyanovsk Oblast",
          "Umbria",
          "Unknown",
          "Uppsala",
          "Utah",
          "Utrecht",
          "Uttar Pradesh",
          "Uttarakhand",
          "Valle d'Aosta",
          "Valle del Cauca",
          "Valparaiso",
          "Varmland",
          "Vasterbotten",
          "Vasternorrland",
          "Vastmanland",
          "Vastra Gotaland",
          "Vaupes",
          "Veneto",
          "Veracruz",
          "Vermont",
          "Vichada",
          "Victoria",
          "Vinnytsia Oblast",
          "Virgin Islands",
          "Virginia",
          "Vladimir Oblast",
          "Volgograd Oblast",
          "Vologda Oblast",
          "Volyn Oblast",
          "Voronezh Oblast",
          "W.P. Kuala Lumpur",
          "W.P. Labuan",
          "W.P. Putrajaya",
          "Wakayama",
          "Wales",
          "Wallis and Futuna",
          "Walloon Brabant",
          "Washington",
          "West Bengal",
          "West Flanders",
          "West Virginia",
          "Western Australia",
          "Wisconsin",
          "Wyoming",
          "Xinjiang",
          "Yamagata",
          "Yamaguchi",
          "Yamalo-Nenets Autonomous Okrug",
          "Yamanashi",
          "Yaroslavl Oblast",
          "Yucatan",
          "Yukon",
          "Yunnan",
          "Zabaykalsky Krai",
          "Zacatecas",
          "Zakarpattia Oblast",
          "Zaporizhia Oblast",
          "Zeeland",
          "Zhejiang",
          "Zhytomyr Oblast",
          "Zuid-Holland"
         ],
         "xaxis": "x",
         "y": [
          1274,
          823,
          98,
          1444,
          266,
          1,
          5299,
          2553,
          224,
          1272,
          961,
          108,
          969,
          6373,
          105,
          2952,
          5251,
          62,
          7128,
          0,
          6,
          5070,
          592,
          0,
          8,
          396,
          2683,
          137,
          332,
          4338,
          231,
          10036,
          4010,
          451,
          50,
          56,
          1060,
          421,
          1376,
          115,
          3534,
          3,
          843,
          18,
          235,
          5464,
          9392,
          5945,
          805,
          482,
          188,
          154,
          271,
          7786,
          9,
          278,
          1547,
          12,
          1430,
          868,
          52,
          1159,
          3,
          678,
          1281,
          219,
          988,
          1,
          0,
          218,
          617,
          3163,
          1632,
          509,
          699,
          29638,
          5268,
          3115,
          980,
          447,
          402,
          10472,
          546,
          191,
          4117,
          5143,
          8828,
          521,
          2,
          10150,
          1014,
          62,
          327,
          0,
          96,
          580,
          424,
          461,
          808,
          3484,
          1231,
          136,
          4540,
          169,
          6,
          4,
          622,
          18060,
          4392,
          818,
          5600,
          6324,
          0,
          310,
          1683,
          582,
          1831,
          19,
          1625,
          2,
          1150,
          259,
          1128,
          10666,
          1,
          813,
          4351,
          1547,
          720,
          174,
          1652,
          0,
          13,
          8279,
          88347,
          5307,
          1111,
          0,
          1,
          0,
          164,
          22804,
          74,
          122,
          194,
          1876,
          1,
          12,
          128,
          28,
          1420,
          2,
          371,
          1398,
          11457,
          12,
          45,
          101,
          746,
          6964,
          34,
          3,
          0,
          120,
          155,
          20,
          124,
          5750,
          8,
          2,
          37,
          16,
          2765,
          2,
          4340,
          49,
          6,
          0,
          150,
          792,
          2949,
          308,
          6,
          13,
          22,
          3461,
          3704,
          958,
          56,
          500,
          157,
          399,
          1131,
          4512,
          1183,
          4,
          268,
          40,
          3764,
          1528,
          19210,
          10089,
          145,
          1,
          4127,
          1326,
          52,
          439,
          25,
          831,
          578,
          25,
          6587,
          1909,
          85,
          56,
          75,
          1045,
          0,
          1,
          2,
          44,
          354,
          2469,
          279,
          4,
          14,
          194,
          120,
          211,
          189,
          82,
          315,
          3164,
          43,
          181,
          12138,
          13,
          9,
          487,
          2876,
          3279,
          204,
          302,
          576,
          1170,
          473,
          706,
          1728,
          2067,
          1017,
          240,
          272,
          11,
          609,
          246,
          1066,
          1842,
          216,
          32,
          200,
          319,
          72,
          558,
          4886,
          594,
          127,
          0,
          4681,
          4114,
          296,
          2,
          0,
          2999,
          42786,
          1151,
          290,
          25728,
          2755,
          279,
          105,
          7833,
          332,
          0,
          1860,
          0,
          3701,
          159,
          11971,
          66,
          237,
          1107,
          50027,
          432,
          365,
          733,
          4555,
          1685,
          128,
          43,
          6246,
          11071,
          4667,
          2546,
          589,
          56,
          235,
          143,
          7,
          44,
          776,
          10947,
          20251,
          14145,
          2901,
          22,
          12594,
          5731,
          5146,
          6173,
          17,
          10,
          8,
          210,
          1054,
          1,
          916,
          101,
          1497,
          11873,
          3073,
          769,
          685,
          547,
          84,
          18,
          7,
          0,
          26,
          1065,
          973,
          1084,
          1737,
          17,
          0,
          3450,
          9,
          0,
          862,
          19854,
          2732,
          54,
          39288,
          4,
          2313,
          3,
          0,
          0,
          1787,
          2462,
          1791,
          7866,
          144,
          2189,
          7425,
          1360,
          101,
          2060,
          2,
          0,
          0,
          65,
          99,
          1040,
          228,
          5447,
          1,
          602,
          2205,
          1121,
          1891,
          14899,
          7,
          15,
          84,
          2738,
          938,
          4922,
          225,
          1603,
          288,
          379,
          666,
          396,
          786,
          778,
          1006,
          8,
          3038,
          7304,
          3800,
          8742,
          357,
          17710,
          335,
          18,
          2,
          1224,
          9826,
          2897,
          8165,
          0,
          6467,
          798,
          1,
          414,
          0,
          105,
          636,
          5972,
          1616,
          2648,
          10,
          9699,
          1557,
          252,
          0,
          8762,
          6,
          2177,
          706,
          2085,
          2731,
          0,
          0,
          42,
          1740,
          2062,
          3100,
          9413,
          26704,
          843,
          529,
          1908,
          793,
          2199,
          184,
          529,
          283,
          3981,
          832,
          3,
          0,
          0,
          8328,
          0,
          244,
          405,
          17,
          690,
          41,
          3197,
          1618,
          5611,
          2530,
          48298,
          440,
          19,
          817,
          191,
          534,
          7264,
          72,
          2563,
          276,
          3,
          7,
          7,
          0,
          16,
          0,
          49,
          3,
          2695,
          129,
          4317,
          3693,
          27,
          814,
          355,
          4380,
          328,
          4,
          5758,
          1570,
          12,
          791,
          3361,
          685,
          550,
          1665,
          3268,
          810,
          3390,
          207,
          12215,
          300,
          13,
          211,
          1565,
          7704,
          1,
          479,
          30441,
          1298,
          3,
          0,
          1490,
          1270,
          9,
          9,
          682,
          1379,
          226,
          3840,
          1,
          26,
          388,
          842,
          778,
          6,
          469,
          209,
          157,
          1592,
          416,
          474,
          652,
          20184,
          388,
          1390,
          931,
          8481,
          1568,
          388,
          4555,
          1283,
          126,
          92,
          255,
          267,
          1396,
          13,
          7345,
          6510,
          156,
          14,
          820,
          415,
          24,
          5381,
          544,
          502,
          469,
          535,
          1254,
          26,
          8,
          5,
          8,
          5751,
          0,
          0,
          3698,
          9922,
          0,
          1570,
          9,
          5567,
          489,
          3,
          10,
          3,
          353,
          11,
          230,
          2495,
          1,
          2,
          407,
          1865,
          656,
          667,
          138,
          1,
          683,
          2963
         ],
         "yaxis": "y"
        }
       ],
       "layout": {
        "autosize": true,
        "barmode": "relative",
        "coloraxis": {
         "colorbar": {
          "title": {
           "text": "Deaths"
          }
         },
         "colorscale": [
          [
           0,
           "#0d0887"
          ],
          [
           0.1111111111111111,
           "#46039f"
          ],
          [
           0.2222222222222222,
           "#7201a8"
          ],
          [
           0.3333333333333333,
           "#9c179e"
          ],
          [
           0.4444444444444444,
           "#bd3786"
          ],
          [
           0.5555555555555556,
           "#d8576b"
          ],
          [
           0.6666666666666666,
           "#ed7953"
          ],
          [
           0.7777777777777778,
           "#fb9f3a"
          ],
          [
           0.8888888888888888,
           "#fdca26"
          ],
          [
           1,
           "#f0f921"
          ]
         ]
        },
        "legend": {
         "tracegroupgap": 0
        },
        "template": {
         "data": {
          "bar": [
           {
            "error_x": {
             "color": "#2a3f5f"
            },
            "error_y": {
             "color": "#2a3f5f"
            },
            "marker": {
             "line": {
              "color": "#E5ECF6",
              "width": 0.5
             },
             "pattern": {
              "fillmode": "overlay",
              "size": 10,
              "solidity": 0.2
             }
            },
            "type": "bar"
           }
          ],
          "barpolar": [
           {
            "marker": {
             "line": {
              "color": "#E5ECF6",
              "width": 0.5
             },
             "pattern": {
              "fillmode": "overlay",
              "size": 10,
              "solidity": 0.2
             }
            },
            "type": "barpolar"
           }
          ],
          "carpet": [
           {
            "aaxis": {
             "endlinecolor": "#2a3f5f",
             "gridcolor": "white",
             "linecolor": "white",
             "minorgridcolor": "white",
             "startlinecolor": "#2a3f5f"
            },
            "baxis": {
             "endlinecolor": "#2a3f5f",
             "gridcolor": "white",
             "linecolor": "white",
             "minorgridcolor": "white",
             "startlinecolor": "#2a3f5f"
            },
            "type": "carpet"
           }
          ],
          "choropleth": [
           {
            "colorbar": {
             "outlinewidth": 0,
             "ticks": ""
            },
            "type": "choropleth"
           }
          ],
          "contour": [
           {
            "colorbar": {
             "outlinewidth": 0,
             "ticks": ""
            },
            "colorscale": [
             [
              0,
              "#0d0887"
             ],
             [
              0.1111111111111111,
              "#46039f"
             ],
             [
              0.2222222222222222,
              "#7201a8"
             ],
             [
              0.3333333333333333,
              "#9c179e"
             ],
             [
              0.4444444444444444,
              "#bd3786"
             ],
             [
              0.5555555555555556,
              "#d8576b"
             ],
             [
              0.6666666666666666,
              "#ed7953"
             ],
             [
              0.7777777777777778,
              "#fb9f3a"
             ],
             [
              0.8888888888888888,
              "#fdca26"
             ],
             [
              1,
              "#f0f921"
             ]
            ],
            "type": "contour"
           }
          ],
          "contourcarpet": [
           {
            "colorbar": {
             "outlinewidth": 0,
             "ticks": ""
            },
            "type": "contourcarpet"
           }
          ],
          "heatmap": [
           {
            "colorbar": {
             "outlinewidth": 0,
             "ticks": ""
            },
            "colorscale": [
             [
              0,
              "#0d0887"
             ],
             [
              0.1111111111111111,
              "#46039f"
             ],
             [
              0.2222222222222222,
              "#7201a8"
             ],
             [
              0.3333333333333333,
              "#9c179e"
             ],
             [
              0.4444444444444444,
              "#bd3786"
             ],
             [
              0.5555555555555556,
              "#d8576b"
             ],
             [
              0.6666666666666666,
              "#ed7953"
             ],
             [
              0.7777777777777778,
              "#fb9f3a"
             ],
             [
              0.8888888888888888,
              "#fdca26"
             ],
             [
              1,
              "#f0f921"
             ]
            ],
            "type": "heatmap"
           }
          ],
          "heatmapgl": [
           {
            "colorbar": {
             "outlinewidth": 0,
             "ticks": ""
            },
            "colorscale": [
             [
              0,
              "#0d0887"
             ],
             [
              0.1111111111111111,
              "#46039f"
             ],
             [
              0.2222222222222222,
              "#7201a8"
             ],
             [
              0.3333333333333333,
              "#9c179e"
             ],
             [
              0.4444444444444444,
              "#bd3786"
             ],
             [
              0.5555555555555556,
              "#d8576b"
             ],
             [
              0.6666666666666666,
              "#ed7953"
             ],
             [
              0.7777777777777778,
              "#fb9f3a"
             ],
             [
              0.8888888888888888,
              "#fdca26"
             ],
             [
              1,
              "#f0f921"
             ]
            ],
            "type": "heatmapgl"
           }
          ],
          "histogram": [
           {
            "marker": {
             "pattern": {
              "fillmode": "overlay",
              "size": 10,
              "solidity": 0.2
             }
            },
            "type": "histogram"
           }
          ],
          "histogram2d": [
           {
            "colorbar": {
             "outlinewidth": 0,
             "ticks": ""
            },
            "colorscale": [
             [
              0,
              "#0d0887"
             ],
             [
              0.1111111111111111,
              "#46039f"
             ],
             [
              0.2222222222222222,
              "#7201a8"
             ],
             [
              0.3333333333333333,
              "#9c179e"
             ],
             [
              0.4444444444444444,
              "#bd3786"
             ],
             [
              0.5555555555555556,
              "#d8576b"
             ],
             [
              0.6666666666666666,
              "#ed7953"
             ],
             [
              0.7777777777777778,
              "#fb9f3a"
             ],
             [
              0.8888888888888888,
              "#fdca26"
             ],
             [
              1,
              "#f0f921"
             ]
            ],
            "type": "histogram2d"
           }
          ],
          "histogram2dcontour": [
           {
            "colorbar": {
             "outlinewidth": 0,
             "ticks": ""
            },
            "colorscale": [
             [
              0,
              "#0d0887"
             ],
             [
              0.1111111111111111,
              "#46039f"
             ],
             [
              0.2222222222222222,
              "#7201a8"
             ],
             [
              0.3333333333333333,
              "#9c179e"
             ],
             [
              0.4444444444444444,
              "#bd3786"
             ],
             [
              0.5555555555555556,
              "#d8576b"
             ],
             [
              0.6666666666666666,
              "#ed7953"
             ],
             [
              0.7777777777777778,
              "#fb9f3a"
             ],
             [
              0.8888888888888888,
              "#fdca26"
             ],
             [
              1,
              "#f0f921"
             ]
            ],
            "type": "histogram2dcontour"
           }
          ],
          "mesh3d": [
           {
            "colorbar": {
             "outlinewidth": 0,
             "ticks": ""
            },
            "type": "mesh3d"
           }
          ],
          "parcoords": [
           {
            "line": {
             "colorbar": {
              "outlinewidth": 0,
              "ticks": ""
             }
            },
            "type": "parcoords"
           }
          ],
          "pie": [
           {
            "automargin": true,
            "type": "pie"
           }
          ],
          "scatter": [
           {
            "fillpattern": {
             "fillmode": "overlay",
             "size": 10,
             "solidity": 0.2
            },
            "type": "scatter"
           }
          ],
          "scatter3d": [
           {
            "line": {
             "colorbar": {
              "outlinewidth": 0,
              "ticks": ""
             }
            },
            "marker": {
             "colorbar": {
              "outlinewidth": 0,
              "ticks": ""
             }
            },
            "type": "scatter3d"
           }
          ],
          "scattercarpet": [
           {
            "marker": {
             "colorbar": {
              "outlinewidth": 0,
              "ticks": ""
             }
            },
            "type": "scattercarpet"
           }
          ],
          "scattergeo": [
           {
            "marker": {
             "colorbar": {
              "outlinewidth": 0,
              "ticks": ""
             }
            },
            "type": "scattergeo"
           }
          ],
          "scattergl": [
           {
            "marker": {
             "colorbar": {
              "outlinewidth": 0,
              "ticks": ""
             }
            },
            "type": "scattergl"
           }
          ],
          "scattermapbox": [
           {
            "marker": {
             "colorbar": {
              "outlinewidth": 0,
              "ticks": ""
             }
            },
            "type": "scattermapbox"
           }
          ],
          "scatterpolar": [
           {
            "marker": {
             "colorbar": {
              "outlinewidth": 0,
              "ticks": ""
             }
            },
            "type": "scatterpolar"
           }
          ],
          "scatterpolargl": [
           {
            "marker": {
             "colorbar": {
              "outlinewidth": 0,
              "ticks": ""
             }
            },
            "type": "scatterpolargl"
           }
          ],
          "scatterternary": [
           {
            "marker": {
             "colorbar": {
              "outlinewidth": 0,
              "ticks": ""
             }
            },
            "type": "scatterternary"
           }
          ],
          "surface": [
           {
            "colorbar": {
             "outlinewidth": 0,
             "ticks": ""
            },
            "colorscale": [
             [
              0,
              "#0d0887"
             ],
             [
              0.1111111111111111,
              "#46039f"
             ],
             [
              0.2222222222222222,
              "#7201a8"
             ],
             [
              0.3333333333333333,
              "#9c179e"
             ],
             [
              0.4444444444444444,
              "#bd3786"
             ],
             [
              0.5555555555555556,
              "#d8576b"
             ],
             [
              0.6666666666666666,
              "#ed7953"
             ],
             [
              0.7777777777777778,
              "#fb9f3a"
             ],
             [
              0.8888888888888888,
              "#fdca26"
             ],
             [
              1,
              "#f0f921"
             ]
            ],
            "type": "surface"
           }
          ],
          "table": [
           {
            "cells": {
             "fill": {
              "color": "#EBF0F8"
             },
             "line": {
              "color": "white"
             }
            },
            "header": {
             "fill": {
              "color": "#C8D4E3"
             },
             "line": {
              "color": "white"
             }
            },
            "type": "table"
           }
          ]
         },
         "layout": {
          "annotationdefaults": {
           "arrowcolor": "#2a3f5f",
           "arrowhead": 0,
           "arrowwidth": 1
          },
          "autotypenumbers": "strict",
          "coloraxis": {
           "colorbar": {
            "outlinewidth": 0,
            "ticks": ""
           }
          },
          "colorscale": {
           "diverging": [
            [
             0,
             "#8e0152"
            ],
            [
             0.1,
             "#c51b7d"
            ],
            [
             0.2,
             "#de77ae"
            ],
            [
             0.3,
             "#f1b6da"
            ],
            [
             0.4,
             "#fde0ef"
            ],
            [
             0.5,
             "#f7f7f7"
            ],
            [
             0.6,
             "#e6f5d0"
            ],
            [
             0.7,
             "#b8e186"
            ],
            [
             0.8,
             "#7fbc41"
            ],
            [
             0.9,
             "#4d9221"
            ],
            [
             1,
             "#276419"
            ]
           ],
           "sequential": [
            [
             0,
             "#0d0887"
            ],
            [
             0.1111111111111111,
             "#46039f"
            ],
            [
             0.2222222222222222,
             "#7201a8"
            ],
            [
             0.3333333333333333,
             "#9c179e"
            ],
            [
             0.4444444444444444,
             "#bd3786"
            ],
            [
             0.5555555555555556,
             "#d8576b"
            ],
            [
             0.6666666666666666,
             "#ed7953"
            ],
            [
             0.7777777777777778,
             "#fb9f3a"
            ],
            [
             0.8888888888888888,
             "#fdca26"
            ],
            [
             1,
             "#f0f921"
            ]
           ],
           "sequentialminus": [
            [
             0,
             "#0d0887"
            ],
            [
             0.1111111111111111,
             "#46039f"
            ],
            [
             0.2222222222222222,
             "#7201a8"
            ],
            [
             0.3333333333333333,
             "#9c179e"
            ],
            [
             0.4444444444444444,
             "#bd3786"
            ],
            [
             0.5555555555555556,
             "#d8576b"
            ],
            [
             0.6666666666666666,
             "#ed7953"
            ],
            [
             0.7777777777777778,
             "#fb9f3a"
            ],
            [
             0.8888888888888888,
             "#fdca26"
            ],
            [
             1,
             "#f0f921"
            ]
           ]
          },
          "colorway": [
           "#636efa",
           "#EF553B",
           "#00cc96",
           "#ab63fa",
           "#FFA15A",
           "#19d3f3",
           "#FF6692",
           "#B6E880",
           "#FF97FF",
           "#FECB52"
          ],
          "font": {
           "color": "#2a3f5f"
          },
          "geo": {
           "bgcolor": "white",
           "lakecolor": "white",
           "landcolor": "#E5ECF6",
           "showlakes": true,
           "showland": true,
           "subunitcolor": "white"
          },
          "hoverlabel": {
           "align": "left"
          },
          "hovermode": "closest",
          "mapbox": {
           "style": "light"
          },
          "paper_bgcolor": "white",
          "plot_bgcolor": "#E5ECF6",
          "polar": {
           "angularaxis": {
            "gridcolor": "white",
            "linecolor": "white",
            "ticks": ""
           },
           "bgcolor": "#E5ECF6",
           "radialaxis": {
            "gridcolor": "white",
            "linecolor": "white",
            "ticks": ""
           }
          },
          "scene": {
           "xaxis": {
            "backgroundcolor": "#E5ECF6",
            "gridcolor": "white",
            "gridwidth": 2,
            "linecolor": "white",
            "showbackground": true,
            "ticks": "",
            "zerolinecolor": "white"
           },
           "yaxis": {
            "backgroundcolor": "#E5ECF6",
            "gridcolor": "white",
            "gridwidth": 2,
            "linecolor": "white",
            "showbackground": true,
            "ticks": "",
            "zerolinecolor": "white"
           },
           "zaxis": {
            "backgroundcolor": "#E5ECF6",
            "gridcolor": "white",
            "gridwidth": 2,
            "linecolor": "white",
            "showbackground": true,
            "ticks": "",
            "zerolinecolor": "white"
           }
          },
          "shapedefaults": {
           "line": {
            "color": "#2a3f5f"
           }
          },
          "ternary": {
           "aaxis": {
            "gridcolor": "white",
            "linecolor": "white",
            "ticks": ""
           },
           "baxis": {
            "gridcolor": "white",
            "linecolor": "white",
            "ticks": ""
           },
           "bgcolor": "#E5ECF6",
           "caxis": {
            "gridcolor": "white",
            "linecolor": "white",
            "ticks": ""
           }
          },
          "title": {
           "x": 0.05
          },
          "xaxis": {
           "automargin": true,
           "gridcolor": "white",
           "linecolor": "white",
           "ticks": "",
           "title": {
            "standoff": 15
           },
           "zerolinecolor": "white",
           "zerolinewidth": 2
          },
          "yaxis": {
           "automargin": true,
           "gridcolor": "white",
           "linecolor": "white",
           "ticks": "",
           "title": {
            "standoff": 15
           },
           "zerolinecolor": "white",
           "zerolinewidth": 2
          }
         }
        },
        "title": {
         "text": "State-wise Deaths Reported of COVID-19 in the USA"
        },
        "xaxis": {
         "anchor": "y",
         "autorange": true,
         "domain": [
          0,
          1
         ],
         "range": [
          -0.5,
          596.5
         ],
         "tickangle": -45,
         "title": {
          "text": "State"
         },
         "type": "category"
        },
        "yaxis": {
         "anchor": "x",
         "autorange": true,
         "domain": [
          0,
          1
         ],
         "range": [
          0,
          92996.84210526316
         ],
         "title": {
          "text": "Deaths"
         },
         "type": "linear"
        }
       }
      },
      "image/png": "[encoded data removed]",
      "text/html": [
       "<div>                            <div id=\"03e7ead5-c734-4edc-8b16-cc0f20e9bed2\" class=\"plotly-graph-div\" style=\"height:600px; width:100%;\"></div>            <script type=\"text/javascript\">                require([\"plotly\"], function(Plotly) {                    window.PLOTLYENV=window.PLOTLYENV || {};                                    if (document.getElementById(\"03e7ead5-c734-4edc-8b16-cc0f20e9bed2\")) {                    Plotly.newPlot(                        \"03e7ead5-c734-4edc-8b16-cc0f20e9bed2\",                        [{\"alignmentgroup\":\"True\",\"hovertemplate\":\"State=%{x}\\u003cbr\\u003eDeaths=%{marker.color}\\u003cextra\\u003e\\u003c\\u002fextra\\u003e\",\"legendgroup\":\"\",\"marker\":{\"color\":[1274,823,98,1444,266,1,5299,2553,224,1272,961,108,969,6373,105,2952,5251,62,7128,0,6,5070,592,0,8,396,2683,137,332,4338,231,10036,4010,451,50,56,1060,421,1376,115,3534,3,843,18,235,5464,9392,5945,805,482,188,154,271,7786,9,278,1547,12,1430,868,52,1159,3,678,1281,219,988,1,0,218,617,3163,1632,509,699,29638,5268,3115,980,447,402,10472,546,191,4117,5143,8828,521,2,10150,1014,62,327,0,96,580,424,461,808,3484,1231,136,4540,169,6,4,622,18060,4392,818,5600,6324,0,310,1683,582,1831,19,1625,2,1150,259,1128,10666,1,813,4351,1547,720,174,1652,0,13,8279,88347,5307,1111,0,1,0,164,22804,74,122,194,1876,1,12,128,28,1420,2,371,1398,11457,12,45,101,746,6964,34,3,0,120,155,20,124,5750,8,2,37,16,2765,2,4340,49,6,0,150,792,2949,308,6,13,22,3461,3704,958,56,500,157,399,1131,4512,1183,4,268,40,3764,1528,19210,10089,145,1,4127,1326,52,439,25,831,578,25,6587,1909,85,56,75,1045,0,1,2,44,354,2469,279,4,14,194,120,211,189,82,315,3164,43,181,12138,13,9,487,2876,3279,204,302,576,1170,473,706,1728,2067,1017,240,272,11,609,246,1066,1842,216,32,200,319,72,558,4886,594,127,0,4681,4114,296,2,0,2999,42786,1151,290,25728,2755,279,105,7833,332,0,1860,0,3701,159,11971,66,237,1107,50027,432,365,733,4555,1685,128,43,6246,11071,4667,2546,589,56,235,143,7,44,776,10947,20251,14145,2901,22,12594,5731,5146,6173,17,10,8,210,1054,1,916,101,1497,11873,3073,769,685,547,84,18,7,0,26,1065,973,1084,1737,17,0,3450,9,0,862,19854,2732,54,39288,4,2313,3,0,0,1787,2462,1791,7866,144,2189,7425,1360,101,2060,2,0,0,65,99,1040,228,5447,1,602,2205,1121,1891,14899,7,15,84,2738,938,4922,225,1603,288,379,666,396,786,778,1006,8,3038,7304,3800,8742,357,17710,335,18,2,1224,9826,2897,8165,0,6467,798,1,414,0,105,636,5972,1616,2648,10,9699,1557,252,0,8762,6,2177,706,2085,2731,0,0,42,1740,2062,3100,9413,26704,843,529,1908,793,2199,184,529,283,3981,832,3,0,0,8328,0,244,405,17,690,41,3197,1618,5611,2530,48298,440,19,817,191,534,7264,72,2563,276,3,7,7,0,16,0,49,3,2695,129,4317,3693,27,814,355,4380,328,4,5758,1570,12,791,3361,685,550,1665,3268,810,3390,207,12215,300,13,211,1565,7704,1,479,30441,1298,3,0,1490,1270,9,9,682,1379,226,3840,1,26,388,842,778,6,469,209,157,1592,416,474,652,20184,388,1390,931,8481,1568,388,4555,1283,126,92,255,267,1396,13,7345,6510,156,14,820,415,24,5381,544,502,469,535,1254,26,8,5,8,5751,0,0,3698,9922,0,1570,9,5567,489,3,10,3,353,11,230,2495,1,2,407,1865,656,667,138,1,683,2963],\"coloraxis\":\"coloraxis\",\"pattern\":{\"shape\":\"\"}},\"name\":\"\",\"offsetgroup\":\"\",\"orientation\":\"v\",\"showlegend\":false,\"textposition\":\"auto\",\"x\":[\"Abruzzo\",\"Acre\",\"Adygea Republic\",\"Aguascalientes\",\"Aichi\",\"Akita\",\"Alabama\",\"Alagoas\",\"Alaska\",\"Alberta\",\"Altai Krai\",\"Altai Republic\",\"Amapa\",\"Amazonas\",\"Amur Oblast\",\"Ancash\",\"Andalusia\",\"Andaman and Nicobar Islands\",\"Andhra Pradesh\",\"Anguilla\",\"Anhui\",\"Antioquia\",\"Antofagasta\",\"Antwerp\",\"Aomori\",\"Apurimac\",\"Aragon\",\"Arauca\",\"Araucania\",\"Arequipa\",\"Arica y Parinacota\",\"Arizona\",\"Arkansas\",\"Arkhangelsk Oblast\",\"Aruba\",\"Arunachal Pradesh\",\"Assam\",\"Astrakhan Oblast\",\"Asturias\",\"Atacama\",\"Atlantico\",\"Australian Capital Territory\",\"Ayacucho\",\"Aysen\",\"Azad Jammu and Kashmir\",\"Baden-Wurttemberg\",\"Bahia\",\"Baja California\",\"Baja California Sur\",\"Baleares\",\"Balochistan\",\"Bashkortostan Republic\",\"Basilicata\",\"Bayern\",\"Beijing\",\"Belgorod Oblast\",\"Berlin\",\"Bermuda\",\"Bihar\",\"Biobio\",\"Blekinge\",\"Bolivar\",\"Bonaire, Sint Eustatius and Saba\",\"Boyaca\",\"Brandenburg\",\"Bremen\",\"British Columbia\",\"British Virgin Islands\",\"Brussels\",\"Bryansk Oblast\",\"Buryatia Republic\",\"C. Valenciana\",\"Cajamarca\",\"Calabria\",\"Caldas\",\"California\",\"Callao\",\"Campania\",\"Campeche\",\"Canarias\",\"Cantabria\",\"Capital District\",\"Caqueta\",\"Casanare\",\"Castilla - La Mancha\",\"Castilla y Leon\",\"Catalonia\",\"Cauca\",\"Cayman Islands\",\"Ceara\",\"Cesar\",\"Ceuta\",\"Chandigarh\",\"Channel Islands\",\"Chechen Republic\",\"Chelyabinsk Oblast\",\"Cherkasy Oblast\",\"Chernihiv Oblast\",\"Chernivtsi Oblast\",\"Chhattisgarh\",\"Chiapas\",\"Chiba\",\"Chihuahua\",\"Choco\",\"Chongqing\",\"Chukotka Autonomous Okrug\",\"Chuvashia Republic\",\"Ciudad de Mexico\",\"Coahuila\",\"Colima\",\"Colorado\",\"Connecticut\",\"Cook Islands\",\"Coquimbo\",\"Cordoba\",\"Crimea Republic*\",\"Cundinamarca\",\"Curacao\",\"Cusco\",\"Dadra and Nagar Haveli and Daman and Diu\",\"Dagestan Republic\",\"Dalarna\",\"Delaware\",\"Delhi\",\"Diamond Princess\",\"District of Columbia\",\"Distrito Federal\",\"Dnipropetrovsk Oblast\",\"Donetsk Oblast\",\"Drenthe\",\"Durango\",\"East Flanders\",\"Ehime\",\"Emilia-Romagna\",\"England\",\"Espirito Santo\",\"Extremadura\",\"Falkland Islands (Malvinas)\",\"Faroe Islands\",\"Flemish Brabant\",\"Flevoland\",\"Florida\",\"French Guiana\",\"French Polynesia\",\"Friesland\",\"Friuli Venezia Giulia\",\"Fujian\",\"Fukui\",\"Fukuoka\",\"Fukushima\",\"Galicia\",\"Gansu\",\"Gavleborg\",\"Gelderland\",\"Georgia\",\"Gibraltar\",\"Gifu\",\"Gilgit-Baltistan\",\"Goa\",\"Goias\",\"Gotland\",\"Grand Princess\",\"Greenland\",\"Groningen\",\"Guadeloupe\",\"Guainia\",\"Guam\",\"Guanajuato\",\"Guangdong\",\"Guangxi\",\"Guaviare\",\"Guernsey\",\"Guerrero\",\"Guizhou\",\"Gujarat\",\"Gunma\",\"Hainan\",\"Hainaut\",\"Halland\",\"Hamburg\",\"Haryana\",\"Hawaii\",\"Hebei\",\"Heilongjiang\",\"Henan\",\"Hessen\",\"Hidalgo\",\"Himachal Pradesh\",\"Hiroshima\",\"Hokkaido\",\"Hong Kong\",\"Huancavelica\",\"Huanuco\",\"Hubei\",\"Huila\",\"Hunan\",\"Hyogo\",\"Ibaraki\",\"Ica\",\"Idaho\",\"Illinois\",\"Indiana\",\"Ingushetia Republic\",\"Inner Mongolia\",\"Iowa\",\"Irkutsk Oblast\",\"Ishikawa\",\"Islamabad\",\"Isle of Man\",\"Ivano-Frankivsk Oblast\",\"Ivanovo Oblast\",\"Iwate\",\"Jalisco\",\"Jammu and Kashmir\",\"Jamtland Harjedalen\",\"Jersey\",\"Jewish Autonomous Okrug\",\"Jharkhand\",\"Jiangsu\",\"Jiangxi\",\"Jilin\",\"Johor\",\"Jonkoping\",\"Junin\",\"Kabardino-Balkarian Republic\",\"Kagawa\",\"Kagoshima\",\"Kaliningrad Oblast\",\"Kalmar\",\"Kalmykia Republic\",\"Kaluga Oblast\",\"Kamchatka Krai\",\"Kanagawa\",\"Kansas\",\"Karachay-Cherkess Republic\",\"Karelia Republic\",\"Karnataka\",\"Kedah\",\"Kelantan\",\"Kemerovo Oblast\",\"Kentucky\",\"Kerala\",\"Khabarovsk Krai\",\"Khakassia Republic\",\"Khanty-Mansi Autonomous Okrug\",\"Kharkiv Oblast\",\"Kherson Oblast\",\"Khmelnytskyi Oblast\",\"Khyber Pakhtunkhwa\",\"Kiev\",\"Kiev Oblast\",\"Kirov Oblast\",\"Kirovohrad Oblast\",\"Kochi\",\"Komi Republic\",\"Kostroma Oblast\",\"Krasnodar Krai\",\"Krasnoyarsk Krai\",\"Kronoberg\",\"Kumamoto\",\"Kurgan Oblast\",\"Kursk Oblast\",\"Kyoto\",\"La Guajira\",\"La Libertad\",\"La Rioja\",\"Ladakh\",\"Lakshadweep\",\"Lambayeque\",\"Lazio\",\"Leningrad Oblast\",\"Liaoning\",\"Liege\",\"Liguria\",\"Lima\",\"Limburg\",\"Lipetsk Oblast\",\"Lombardia\",\"Loreto\",\"Los Lagos\",\"Los Rios\",\"Louisiana\",\"Luhansk Oblast\",\"Luxembourg\",\"Lviv Oblast\",\"Macau\",\"Madhya Pradesh\",\"Madre de Dios\",\"Madrid\",\"Magadan Oblast\",\"Magallanes\",\"Magdalena\",\"Maharashtra\",\"Maine\",\"Manipur\",\"Manitoba\",\"Maranhao\",\"Marche\",\"Mari El Republic\",\"Martinique\",\"Maryland\",\"Massachusetts\",\"Mato Grosso\",\"Mato Grosso do Sul\",\"Maule\",\"Mayotte\",\"Mecklenburg-Vorpommern\",\"Meghalaya\",\"Melaka\",\"Melilla\",\"Meta\",\"Metropolitana\",\"Mexico\",\"Michigan\",\"Michoacan\",\"Mie\",\"Minas Gerais\",\"Minnesota\",\"Mississippi\",\"Missouri\",\"Miyagi\",\"Miyazaki\",\"Mizoram\",\"Molise\",\"Montana\",\"Montserrat\",\"Moquegua\",\"Mordovia Republic\",\"Morelos\",\"Moscow\",\"Moscow Oblast\",\"Murcia\",\"Murmansk Oblast\",\"Mykolaiv Oblast\",\"Nagaland\",\"Nagano\",\"Nagasaki\",\"Namur\",\"Nara\",\"Narino\",\"Navarra\",\"Nayarit\",\"Nebraska\",\"Negeri Sembilan\",\"Nenets Autonomous Okrug\",\"Nevada\",\"New Brunswick\",\"New Caledonia\",\"New Hampshire\",\"New Jersey\",\"New Mexico\",\"New South Wales\",\"New York\",\"Newfoundland and Labrador\",\"Niedersachsen\",\"Niigata\",\"Ningxia\",\"Niue\",\"Nizhny Novgorod Oblast\",\"Noord-Brabant\",\"Noord-Holland\",\"Nordrhein-Westfalen\",\"Norrbotten\",\"Norte de Santander\",\"North Carolina\",\"North Dakota\",\"North Ossetia - Alania Republic\",\"Northern Ireland\",\"Northern Mariana Islands\",\"Northern Territory\",\"Northwest Territories\",\"Nova Scotia\",\"Novgorod Oblast\",\"Novosibirsk Oblast\",\"Nuble\",\"Nuevo Leon\",\"Nunavut\",\"OHiggins\",\"Oaxaca\",\"Odessa Oblast\",\"Odisha\",\"Ohio\",\"Oita\",\"Okayama\",\"Okinawa\",\"Oklahoma\",\"Omsk Oblast\",\"Ontario\",\"Orebro\",\"Oregon\",\"Orel Oblast\",\"Orenburg Oblast\",\"Osaka\",\"Ostergotland\",\"Overijssel\",\"P.A. Bolzano\",\"P.A. Trento\",\"Pahang\",\"Pais Vasco\",\"Para\",\"Paraiba\",\"Parana\",\"Pasco\",\"Pennsylvania\",\"Penza Oblast\",\"Perak\",\"Perlis\",\"Perm Krai\",\"Pernambuco\",\"Piaui\",\"Piemonte\",\"Pitcairn Islands\",\"Piura\",\"Poltava Oblast\",\"Port Quarantine\",\"Primorsky Krai\",\"Prince Edward Island\",\"Pskov Oblast\",\"Puducherry\",\"Puebla\",\"Puerto Rico\",\"Puglia\",\"Pulau Pinang\",\"Punjab\",\"Puno\",\"Putumayo\",\"Qinghai\",\"Quebec\",\"Queensland\",\"Queretaro\",\"Quindio\",\"Quintana Roo\",\"Rajasthan\",\"Recovered\",\"Repatriated Travellers\",\"Reunion\",\"Rheinland-Pfalz\",\"Rhode Island\",\"Rio Grande do Norte\",\"Rio Grande do Sul\",\"Rio de Janeiro\",\"Risaralda\",\"Rivne Oblast\",\"Rondonia\",\"Roraima\",\"Rostov Oblast\",\"Ryazan Oblast\",\"Saarland\",\"Sabah\",\"Sachsen\",\"Sachsen-Anhalt\",\"Saga\",\"Saint Barthelemy\",\"Saint Helena, Ascension and Tristan da Cunha\",\"Saint Petersburg\",\"Saint Pierre and Miquelon\",\"Saitama\",\"Sakha (Yakutiya) Republic\",\"Sakhalin Oblast\",\"Samara Oblast\",\"San Andres y Providencia\",\"San Luis Potosi\",\"San Martin\",\"Santa Catarina\",\"Santander\",\"Sao Paulo\",\"Saratov Oblast\",\"Sarawak\",\"Sardegna\",\"Saskatchewan\",\"Schleswig-Holstein\",\"Scotland\",\"Selangor\",\"Sergipe\",\"Sevastopol*\",\"Shaanxi\",\"Shandong\",\"Shanghai\",\"Shanxi\",\"Shiga\",\"Shimane\",\"Shizuoka\",\"Sichuan\",\"Sicilia\",\"Sikkim\",\"Sinaloa\",\"Sindh\",\"Sint Maarten\",\"Skane\",\"Smolensk Oblast\",\"Sonora\",\"Sormland\",\"South Australia\",\"South Carolina\",\"South Dakota\",\"St Martin\",\"Stavropol Krai\",\"Stockholm\",\"Sucre\",\"Sumy Oblast\",\"Sverdlovsk Oblast\",\"Tabasco\",\"Tacna\",\"Tamaulipas\",\"Tambov Oblast\",\"Tamil Nadu\",\"Tarapaca\",\"Tasmania\",\"Tatarstan Republic\",\"Telangana\",\"Tennessee\",\"Terengganu\",\"Ternopil Oblast\",\"Texas\",\"Thuringen\",\"Tianjin\",\"Tibet\",\"Tlaxcala\",\"Tocantins\",\"Tochigi\",\"Tokushima\",\"Tokyo\",\"Tolima\",\"Tomsk Oblast\",\"Toscana\",\"Tottori\",\"Toyama\",\"Tripura\",\"Tula Oblast\",\"Tumbes\",\"Turks and Caicos Islands\",\"Tver Oblast\",\"Tyumen Oblast\",\"Tyva Republic\",\"Ucayali\",\"Udmurt Republic\",\"Ulyanovsk Oblast\",\"Umbria\",\"Unknown\",\"Uppsala\",\"Utah\",\"Utrecht\",\"Uttar Pradesh\",\"Uttarakhand\",\"Valle d'Aosta\",\"Valle del Cauca\",\"Valparaiso\",\"Varmland\",\"Vasterbotten\",\"Vasternorrland\",\"Vastmanland\",\"Vastra Gotaland\",\"Vaupes\",\"Veneto\",\"Veracruz\",\"Vermont\",\"Vichada\",\"Victoria\",\"Vinnytsia Oblast\",\"Virgin Islands\",\"Virginia\",\"Vladimir Oblast\",\"Volgograd Oblast\",\"Vologda Oblast\",\"Volyn Oblast\",\"Voronezh Oblast\",\"W.P. Kuala Lumpur\",\"W.P. Labuan\",\"W.P. Putrajaya\",\"Wakayama\",\"Wales\",\"Wallis and Futuna\",\"Walloon Brabant\",\"Washington\",\"West Bengal\",\"West Flanders\",\"West Virginia\",\"Western Australia\",\"Wisconsin\",\"Wyoming\",\"Xinjiang\",\"Yamagata\",\"Yamaguchi\",\"Yamalo-Nenets Autonomous Okrug\",\"Yamanashi\",\"Yaroslavl Oblast\",\"Yucatan\",\"Yukon\",\"Yunnan\",\"Zabaykalsky Krai\",\"Zacatecas\",\"Zakarpattia Oblast\",\"Zaporizhia Oblast\",\"Zeeland\",\"Zhejiang\",\"Zhytomyr Oblast\",\"Zuid-Holland\"],\"xaxis\":\"x\",\"y\":[1274,823,98,1444,266,1,5299,2553,224,1272,961,108,969,6373,105,2952,5251,62,7128,0,6,5070,592,0,8,396,2683,137,332,4338,231,10036,4010,451,50,56,1060,421,1376,115,3534,3,843,18,235,5464,9392,5945,805,482,188,154,271,7786,9,278,1547,12,1430,868,52,1159,3,678,1281,219,988,1,0,218,617,3163,1632,509,699,29638,5268,3115,980,447,402,10472,546,191,4117,5143,8828,521,2,10150,1014,62,327,0,96,580,424,461,808,3484,1231,136,4540,169,6,4,622,18060,4392,818,5600,6324,0,310,1683,582,1831,19,1625,2,1150,259,1128,10666,1,813,4351,1547,720,174,1652,0,13,8279,88347,5307,1111,0,1,0,164,22804,74,122,194,1876,1,12,128,28,1420,2,371,1398,11457,12,45,101,746,6964,34,3,0,120,155,20,124,5750,8,2,37,16,2765,2,4340,49,6,0,150,792,2949,308,6,13,22,3461,3704,958,56,500,157,399,1131,4512,1183,4,268,40,3764,1528,19210,10089,145,1,4127,1326,52,439,25,831,578,25,6587,1909,85,56,75,1045,0,1,2,44,354,2469,279,4,14,194,120,211,189,82,315,3164,43,181,12138,13,9,487,2876,3279,204,302,576,1170,473,706,1728,2067,1017,240,272,11,609,246,1066,1842,216,32,200,319,72,558,4886,594,127,0,4681,4114,296,2,0,2999,42786,1151,290,25728,2755,279,105,7833,332,0,1860,0,3701,159,11971,66,237,1107,50027,432,365,733,4555,1685,128,43,6246,11071,4667,2546,589,56,235,143,7,44,776,10947,20251,14145,2901,22,12594,5731,5146,6173,17,10,8,210,1054,1,916,101,1497,11873,3073,769,685,547,84,18,7,0,26,1065,973,1084,1737,17,0,3450,9,0,862,19854,2732,54,39288,4,2313,3,0,0,1787,2462,1791,7866,144,2189,7425,1360,101,2060,2,0,0,65,99,1040,228,5447,1,602,2205,1121,1891,14899,7,15,84,2738,938,4922,225,1603,288,379,666,396,786,778,1006,8,3038,7304,3800,8742,357,17710,335,18,2,1224,9826,2897,8165,0,6467,798,1,414,0,105,636,5972,1616,2648,10,9699,1557,252,0,8762,6,2177,706,2085,2731,0,0,42,1740,2062,3100,9413,26704,843,529,1908,793,2199,184,529,283,3981,832,3,0,0,8328,0,244,405,17,690,41,3197,1618,5611,2530,48298,440,19,817,191,534,7264,72,2563,276,3,7,7,0,16,0,49,3,2695,129,4317,3693,27,814,355,4380,328,4,5758,1570,12,791,3361,685,550,1665,3268,810,3390,207,12215,300,13,211,1565,7704,1,479,30441,1298,3,0,1490,1270,9,9,682,1379,226,3840,1,26,388,842,778,6,469,209,157,1592,416,474,652,20184,388,1390,931,8481,1568,388,4555,1283,126,92,255,267,1396,13,7345,6510,156,14,820,415,24,5381,544,502,469,535,1254,26,8,5,8,5751,0,0,3698,9922,0,1570,9,5567,489,3,10,3,353,11,230,2495,1,2,407,1865,656,667,138,1,683,2963],\"yaxis\":\"y\",\"type\":\"bar\"}],                        {\"template\":{\"data\":{\"histogram2dcontour\":[{\"type\":\"histogram2dcontour\",\"colorbar\":{\"outlinewidth\":0,\"ticks\":\"\"},\"colorscale\":[[0.0,\"#0d0887\"],[0.1111111111111111,\"#46039f\"],[0.2222222222222222,\"#7201a8\"],[0.3333333333333333,\"#9c179e\"],[0.4444444444444444,\"#bd3786\"],[0.5555555555555556,\"#d8576b\"],[0.6666666666666666,\"#ed7953\"],[0.7777777777777778,\"#fb9f3a\"],[0.8888888888888888,\"#fdca26\"],[1.0,\"#f0f921\"]]}],\"choropleth\":[{\"type\":\"choropleth\",\"colorbar\":{\"outlinewidth\":0,\"ticks\":\"\"}}],\"histogram2d\":[{\"type\":\"histogram2d\",\"colorbar\":{\"outlinewidth\":0,\"ticks\":\"\"},\"colorscale\":[[0.0,\"#0d0887\"],[0.1111111111111111,\"#46039f\"],[0.2222222222222222,\"#7201a8\"],[0.3333333333333333,\"#9c179e\"],[0.4444444444444444,\"#bd3786\"],[0.5555555555555556,\"#d8576b\"],[0.6666666666666666,\"#ed7953\"],[0.7777777777777778,\"#fb9f3a\"],[0.8888888888888888,\"#fdca26\"],[1.0,\"#f0f921\"]]}],\"heatmap\":[{\"type\":\"heatmap\",\"colorbar\":{\"outlinewidth\":0,\"ticks\":\"\"},\"colorscale\":[[0.0,\"#0d0887\"],[0.1111111111111111,\"#46039f\"],[0.2222222222222222,\"#7201a8\"],[0.3333333333333333,\"#9c179e\"],[0.4444444444444444,\"#bd3786\"],[0.5555555555555556,\"#d8576b\"],[0.6666666666666666,\"#ed7953\"],[0.7777777777777778,\"#fb9f3a\"],[0.8888888888888888,\"#fdca26\"],[1.0,\"#f0f921\"]]}],\"heatmapgl\":[{\"type\":\"heatmapgl\",\"colorbar\":{\"outlinewidth\":0,\"ticks\":\"\"},\"colorscale\":[[0.0,\"#0d0887\"],[0.1111111111111111,\"#46039f\"],[0.2222222222222222,\"#7201a8\"],[0.3333333333333333,\"#9c179e\"],[0.4444444444444444,\"#bd3786\"],[0.5555555555555556,\"#d8576b\"],[0.6666666666666666,\"#ed7953\"],[0.7777777777777778,\"#fb9f3a\"],[0.8888888888888888,\"#fdca26\"],[1.0,\"#f0f921\"]]}],\"contourcarpet\":[{\"type\":\"contourcarpet\",\"colorbar\":{\"outlinewidth\":0,\"ticks\":\"\"}}],\"contour\":[{\"type\":\"contour\",\"colorbar\":{\"outlinewidth\":0,\"ticks\":\"\"},\"colorscale\":[[0.0,\"#0d0887\"],[0.1111111111111111,\"#46039f\"],[0.2222222222222222,\"#7201a8\"],[0.3333333333333333,\"#9c179e\"],[0.4444444444444444,\"#bd3786\"],[0.5555555555555556,\"#d8576b\"],[0.6666666666666666,\"#ed7953\"],[0.7777777777777778,\"#fb9f3a\"],[0.8888888888888888,\"#fdca26\"],[1.0,\"#f0f921\"]]}],\"surface\":[{\"type\":\"surface\",\"colorbar\":{\"outlinewidth\":0,\"ticks\":\"\"},\"colorscale\":[[0.0,\"#0d0887\"],[0.1111111111111111,\"#46039f\"],[0.2222222222222222,\"#7201a8\"],[0.3333333333333333,\"#9c179e\"],[0.4444444444444444,\"#bd3786\"],[0.5555555555555556,\"#d8576b\"],[0.6666666666666666,\"#ed7953\"],[0.7777777777777778,\"#fb9f3a\"],[0.8888888888888888,\"#fdca26\"],[1.0,\"#f0f921\"]]}],\"mesh3d\":[{\"type\":\"mesh3d\",\"colorbar\":{\"outlinewidth\":0,\"ticks\":\"\"}}],\"scatter\":[{\"fillpattern\":{\"fillmode\":\"overlay\",\"size\":10,\"solidity\":0.2},\"type\":\"scatter\"}],\"parcoords\":[{\"type\":\"parcoords\",\"line\":{\"colorbar\":{\"outlinewidth\":0,\"ticks\":\"\"}}}],\"scatterpolargl\":[{\"type\":\"scatterpolargl\",\"marker\":{\"colorbar\":{\"outlinewidth\":0,\"ticks\":\"\"}}}],\"bar\":[{\"error_x\":{\"color\":\"#2a3f5f\"},\"error_y\":{\"color\":\"#2a3f5f\"},\"marker\":{\"line\":{\"color\":\"#E5ECF6\",\"width\":0.5},\"pattern\":{\"fillmode\":\"overlay\",\"size\":10,\"solidity\":0.2}},\"type\":\"bar\"}],\"scattergeo\":[{\"type\":\"scattergeo\",\"marker\":{\"colorbar\":{\"outlinewidth\":0,\"ticks\":\"\"}}}],\"scatterpolar\":[{\"type\":\"scatterpolar\",\"marker\":{\"colorbar\":{\"outlinewidth\":0,\"ticks\":\"\"}}}],\"histogram\":[{\"marker\":{\"pattern\":{\"fillmode\":\"overlay\",\"size\":10,\"solidity\":0.2}},\"type\":\"histogram\"}],\"scattergl\":[{\"type\":\"scattergl\",\"marker\":{\"colorbar\":{\"outlinewidth\":0,\"ticks\":\"\"}}}],\"scatter3d\":[{\"type\":\"scatter3d\",\"line\":{\"colorbar\":{\"outlinewidth\":0,\"ticks\":\"\"}},\"marker\":{\"colorbar\":{\"outlinewidth\":0,\"ticks\":\"\"}}}],\"scattermapbox\":[{\"type\":\"scattermapbox\",\"marker\":{\"colorbar\":{\"outlinewidth\":0,\"ticks\":\"\"}}}],\"scatterternary\":[{\"type\":\"scatterternary\",\"marker\":{\"colorbar\":{\"outlinewidth\":0,\"ticks\":\"\"}}}],\"scattercarpet\":[{\"type\":\"scattercarpet\",\"marker\":{\"colorbar\":{\"outlinewidth\":0,\"ticks\":\"\"}}}],\"carpet\":[{\"aaxis\":{\"endlinecolor\":\"#2a3f5f\",\"gridcolor\":\"white\",\"linecolor\":\"white\",\"minorgridcolor\":\"white\",\"startlinecolor\":\"#2a3f5f\"},\"baxis\":{\"endlinecolor\":\"#2a3f5f\",\"gridcolor\":\"white\",\"linecolor\":\"white\",\"minorgridcolor\":\"white\",\"startlinecolor\":\"#2a3f5f\"},\"type\":\"carpet\"}],\"table\":[{\"cells\":{\"fill\":{\"color\":\"#EBF0F8\"},\"line\":{\"color\":\"white\"}},\"header\":{\"fill\":{\"color\":\"#C8D4E3\"},\"line\":{\"color\":\"white\"}},\"type\":\"table\"}],\"barpolar\":[{\"marker\":{\"line\":{\"color\":\"#E5ECF6\",\"width\":0.5},\"pattern\":{\"fillmode\":\"overlay\",\"size\":10,\"solidity\":0.2}},\"type\":\"barpolar\"}],\"pie\":[{\"automargin\":true,\"type\":\"pie\"}]},\"layout\":{\"autotypenumbers\":\"strict\",\"colorway\":[\"#636efa\",\"#EF553B\",\"#00cc96\",\"#ab63fa\",\"#FFA15A\",\"#19d3f3\",\"#FF6692\",\"#B6E880\",\"#FF97FF\",\"#FECB52\"],\"font\":{\"color\":\"#2a3f5f\"},\"hovermode\":\"closest\",\"hoverlabel\":{\"align\":\"left\"},\"paper_bgcolor\":\"white\",\"plot_bgcolor\":\"#E5ECF6\",\"polar\":{\"bgcolor\":\"#E5ECF6\",\"angularaxis\":{\"gridcolor\":\"white\",\"linecolor\":\"white\",\"ticks\":\"\"},\"radialaxis\":{\"gridcolor\":\"white\",\"linecolor\":\"white\",\"ticks\":\"\"}},\"ternary\":{\"bgcolor\":\"#E5ECF6\",\"aaxis\":{\"gridcolor\":\"white\",\"linecolor\":\"white\",\"ticks\":\"\"},\"baxis\":{\"gridcolor\":\"white\",\"linecolor\":\"white\",\"ticks\":\"\"},\"caxis\":{\"gridcolor\":\"white\",\"linecolor\":\"white\",\"ticks\":\"\"}},\"coloraxis\":{\"colorbar\":{\"outlinewidth\":0,\"ticks\":\"\"}},\"colorscale\":{\"sequential\":[[0.0,\"#0d0887\"],[0.1111111111111111,\"#46039f\"],[0.2222222222222222,\"#7201a8\"],[0.3333333333333333,\"#9c179e\"],[0.4444444444444444,\"#bd3786\"],[0.5555555555555556,\"#d8576b\"],[0.6666666666666666,\"#ed7953\"],[0.7777777777777778,\"#fb9f3a\"],[0.8888888888888888,\"#fdca26\"],[1.0,\"#f0f921\"]],\"sequentialminus\":[[0.0,\"#0d0887\"],[0.1111111111111111,\"#46039f\"],[0.2222222222222222,\"#7201a8\"],[0.3333333333333333,\"#9c179e\"],[0.4444444444444444,\"#bd3786\"],[0.5555555555555556,\"#d8576b\"],[0.6666666666666666,\"#ed7953\"],[0.7777777777777778,\"#fb9f3a\"],[0.8888888888888888,\"#fdca26\"],[1.0,\"#f0f921\"]],\"diverging\":[[0,\"#8e0152\"],[0.1,\"#c51b7d\"],[0.2,\"#de77ae\"],[0.3,\"#f1b6da\"],[0.4,\"#fde0ef\"],[0.5,\"#f7f7f7\"],[0.6,\"#e6f5d0\"],[0.7,\"#b8e186\"],[0.8,\"#7fbc41\"],[0.9,\"#4d9221\"],[1,\"#276419\"]]},\"xaxis\":{\"gridcolor\":\"white\",\"linecolor\":\"white\",\"ticks\":\"\",\"title\":{\"standoff\":15},\"zerolinecolor\":\"white\",\"automargin\":true,\"zerolinewidth\":2},\"yaxis\":{\"gridcolor\":\"white\",\"linecolor\":\"white\",\"ticks\":\"\",\"title\":{\"standoff\":15},\"zerolinecolor\":\"white\",\"automargin\":true,\"zerolinewidth\":2},\"scene\":{\"xaxis\":{\"backgroundcolor\":\"#E5ECF6\",\"gridcolor\":\"white\",\"linecolor\":\"white\",\"showbackground\":true,\"ticks\":\"\",\"zerolinecolor\":\"white\",\"gridwidth\":2},\"yaxis\":{\"backgroundcolor\":\"#E5ECF6\",\"gridcolor\":\"white\",\"linecolor\":\"white\",\"showbackground\":true,\"ticks\":\"\",\"zerolinecolor\":\"white\",\"gridwidth\":2},\"zaxis\":{\"backgroundcolor\":\"#E5ECF6\",\"gridcolor\":\"white\",\"linecolor\":\"white\",\"showbackground\":true,\"ticks\":\"\",\"zerolinecolor\":\"white\",\"gridwidth\":2}},\"shapedefaults\":{\"line\":{\"color\":\"#2a3f5f\"}},\"annotationdefaults\":{\"arrowcolor\":\"#2a3f5f\",\"arrowhead\":0,\"arrowwidth\":1},\"geo\":{\"bgcolor\":\"white\",\"landcolor\":\"#E5ECF6\",\"subunitcolor\":\"white\",\"showland\":true,\"showlakes\":true,\"lakecolor\":\"white\"},\"title\":{\"x\":0.05},\"mapbox\":{\"style\":\"light\"}}},\"xaxis\":{\"anchor\":\"y\",\"domain\":[0.0,1.0],\"title\":{\"text\":\"State\"},\"tickangle\":-45},\"yaxis\":{\"anchor\":\"x\",\"domain\":[0.0,1.0],\"title\":{\"text\":\"Deaths\"}},\"coloraxis\":{\"colorbar\":{\"title\":{\"text\":\"Deaths\"}},\"colorscale\":[[0.0,\"#0d0887\"],[0.1111111111111111,\"#46039f\"],[0.2222222222222222,\"#7201a8\"],[0.3333333333333333,\"#9c179e\"],[0.4444444444444444,\"#bd3786\"],[0.5555555555555556,\"#d8576b\"],[0.6666666666666666,\"#ed7953\"],[0.7777777777777778,\"#fb9f3a\"],[0.8888888888888888,\"#fdca26\"],[1.0,\"#f0f921\"]]},\"legend\":{\"tracegroupgap\":0},\"title\":{\"text\":\"State-wise Deaths Reported of COVID-19 in the USA\"},\"barmode\":\"relative\",\"height\":600},                        {\"responsive\": true}                    ).then(function(){\n",
       "                            \n",
       "var gd = document.getElementById('03e7ead5-c734-4edc-8b16-cc0f20e9bed2');\n",
       "var x = new MutationObserver(function (mutations, observer) {{\n",
       "        var display = window.getComputedStyle(gd).display;\n",
       "        if (!display || display === 'none') {{\n",
       "            console.log([gd, 'removed!']);\n",
       "            Plotly.purge(gd);\n",
       "            observer.disconnect();\n",
       "        }}\n",
       "}});\n",
       "\n",
       "// Listen for the removal of the full notebook cells\n",
       "var notebookContainer = gd.closest('#notebook-container');\n",
       "if (notebookContainer) {{\n",
       "    x.observe(notebookContainer, {childList: true});\n",
       "}}\n",
       "\n",
       "// Listen for the clearing of the current output cell\n",
       "var outputEl = gd.closest('.output');\n",
       "if (outputEl) {{\n",
       "    x.observe(outputEl, {childList: true});\n",
       "}}\n",
       "\n",
       "                        })                };                });            </script>        </div>"
      ]
     },
     "metadata": {},
     "output_type": "display_data"
    }
   ],
   "source": [
    "state_deaths = covid_data.groupby('Province_State')['Deaths'].sum().reset_index()\n",
    "fig = px.bar(\n",
    "    state_deaths,\n",
    "    x='Province_State',  \n",
    "    y='Deaths',          \n",
    "    title='State-wise Deaths Reported of COVID-19 in the USA',\n",
    "    labels={'Province_State': 'State', 'Deaths': 'Deaths'},\n",
    "    color='Deaths',      \n",
    "    height=600\n",
    ")\n",
    "\n",
    "fig.update_layout(\n",
    "    xaxis_title=\"State\",\n",
    "    yaxis_title=\"Deaths\",\n",
    "    xaxis_tickangle=-45,  \n",
    ")\n",
    "\n",
    "fig.show()"
   ]
  },
  {
   "cell_type": "markdown",
   "metadata": {},
   "source": [
    "### Question 7"
   ]
  },
  {
   "cell_type": "markdown",
   "metadata": {},
   "source": [
    "### Plot Province/State Wise Active Cases in USA"
   ]
  },
  {
   "cell_type": "code",
   "execution_count": 158,
   "metadata": {},
   "outputs": [
    {
     "data": {
      "application/vnd.plotly.v1+json": {
       "config": {
        "plotlyServerURL": "https://plot.ly"
       },
       "data": [
        {
         "alignmentgroup": "True",
         "hovertemplate": "State=%{x}<br>Active=%{marker.color}<extra></extra>",
         "legendgroup": "",
         "marker": {
          "color": [
           11263,
           3762,
           1937,
           16247,
           3580,
           37,
           393851,
           2737,
           49755,
           14437,
           1599,
           824,
           15786,
           48248,
           1746,
           28532,
           260747,
           24,
           2607,
           2,
           1,
           22311,
           1193,
           81806,
           100,
           7429,
           76241,
           214,
           1392,
           44445,
           330,
           597309,
           247736,
           8468,
           527,
           64,
           3019,
           6732,
           25757,
           192,
           3604,
           0,
           14584,
           157,
           294,
           42033,
           6828,
           30907,
           18225,
           37571,
           286,
           5011,
           6559,
           55452,
           37,
           2308,
           17654,
           94,
           4247,
           2850,
           5737,
           1696,
           13,
           2479,
           14814,
           1293,
           7439,
           18,
           83202,
           2339,
           1969,
           151023,
           24097,
           9270,
           2707,
           2750669,
           38643,
           75276,
           6405,
           26843,
           16216,
           45762,
           885,
           590,
           97147,
           124822,
           351564,
           1516,
           46,
           58630,
           1927,
           3000,
           228,
           337,
           3661,
           13059,
           12445,
           11643,
           9421,
           9274,
           7273,
           3970,
           32907,
           120,
           0,
           51,
           1037,
           346710,
           47859,
           7421,
           353757,
           199670,
           0,
           329,
           481,
           5209,
           4064,
           758,
           24014,
           4,
           2201,
           11402,
           63347,
           3683,
           49,
           30644,
           6331,
           13152,
           7508,
           15284,
           24516,
           67262,
           200,
           58368,
           2543297,
           15566,
           39265,
           2,
           49,
           50413,
           21191,
           1441893,
           3901,
           12277,
           16833,
           12890,
           28,
           51,
           2953,
           341,
           54855,
           0,
           16030,
           96425,
           737395,
           1255,
           766,
           49,
           867,
           4529,
           2346,
           100,
           1,
           18403,
           6305,
           12,
           7275,
           82594,
           38,
           1,
           44,
           0,
           24010,
           0,
           7968,
           557,
           0,
           103707,
           14710,
           9011,
           2563,
           23589,
           185,
           9,
           6,
           26454,
           22630,
           1088,
           1224,
           1567,
           680,
           7536,
           19757,
           0,
           1351,
           1,
           1751,
           673,
           28574,
           147707,
           1006442,
           548634,
           1678,
           16,
           292044,
           4188,
           175,
           1976,
           20,
           7585,
           4687,
           54,
           49069,
           2094,
           4869,
           0,
           654,
           1494,
           3,
           0,
           0,
           5542,
           18599,
           26294,
           1405,
           156,
           239,
           1656,
           7657,
           2275,
           1677,
           1273,
           5143,
           241572,
           1548,
           5630,
           9471,
           455,
           409,
           2313,
           297521,
           64516,
           4547,
           2650,
           3102,
           11291,
           6477,
           4416,
           3181,
           71962,
           20860,
           6121,
           3685,
           84,
           1360,
           3617,
           8483,
           3043,
           9708,
           657,
           1397,
           2240,
           1351,
           516,
           32993,
           15625,
           203,
           0,
           28922,
           78169,
           2504,
           73,
           98184,
           5144,
           411911,
           82154,
           4252,
           55437,
           23670,
           2426,
           1014,
           333598,
           2938,
           18830,
           12882,
           0,
           8029,
           9450,
           368588,
           406,
           632,
           932,
           54129,
           28587,
           515,
           4664,
           5825,
           14606,
           1082,
           5976,
           297162,
           414061,
           6353,
           12427,
           1851,
           3212,
           3468,
           163,
           400,
           4559,
           1235,
           4919,
           135319,
           548408,
           31986,
           275,
           48454,
           428682,
           231722,
           471444,
           471,
           508,
           98,
           1165,
           85048,
           0,
           15336,
           2347,
           9496,
           153418,
           38814,
           60431,
           3456,
           18277,
           113,
           386,
           492,
           36034,
           374,
           2496,
           38664,
           7194,
           173883,
           1012,
           100,
           242859,
           172,
           0,
           51509,
           559396,
           152222,
           4953,
           1080226,
           7,
           16156,
           140,
           0,
           0,
           5839,
           133095,
           145071,
           63598,
           8190,
           1842,
           606930,
           93206,
           1325,
           86145,
           123,
           19,
           0,
           31,
           5473,
           2535,
           518,
           83431,
           0,
           735,
           27443,
           22451,
           1908,
           756078,
           172,
           519,
           533,
           322539,
           2215,
           27300,
           14231,
           122873,
           2284,
           3233,
           5501,
           15447,
           59827,
           11523,
           1838,
           567,
           95192,
           11130,
           38061,
           117358,
           6339,
           704110,
           5189,
           388,
           12,
           5636,
           24608,
           114,
           15829,
           0,
           36784,
           6800,
           177,
           8213,
           8,
           11919,
           328,
           44520,
           81014,
           54735,
           806,
           13481,
           17921,
           377,
           0,
           26816,
           27,
           32946,
           1433,
           14375,
           6730,
           0,
           0,
           375,
           16811,
           95552,
           32487,
           16206,
           6949,
           2505,
           3599,
           14800,
           2585,
           7635,
           1556,
           2195,
           3196,
           32356,
           7939,
           119,
           19,
           0,
           100965,
           1,
           4935,
           2117,
           2761,
           2074,
           32,
           38818,
           24348,
           22994,
           4575,
           141702,
           4981,
           150,
           17142,
           3186,
           6326,
           142924,
           9747,
           13106,
           388,
           22,
           5,
           106,
           3,
           415,
           19,
           754,
           21,
           40398,
           369,
           23362,
           18488,
           95,
           77931,
           3883,
           50125,
           9756,
           15,
           344326,
           101331,
           135,
           3084,
           122851,
           513,
           5149,
           5950,
           43399,
           14067,
           37332,
           2168,
           7304,
           1086,
           0,
           2878,
           4756,
           638746,
           114,
           3105,
           1921602,
           12580,
           14,
           0,
           10769,
           8426,
           1116,
           29,
           18475,
           2224,
           3621,
           9105,
           80,
           156,
           57,
           2060,
           8766,
           176,
           4481,
           1269,
           1013,
           19010,
           3265,
           2950,
           4237,
           15209,
           18939,
           302333,
           70721,
           11221,
           3215,
           437,
           7513,
           1468,
           6508,
           8978,
           10995,
           14685,
           80469,
           4,
           89451,
           38167,
           8634,
           12,
           45,
           6048,
           2119,
           388334,
           1875,
           1402,
           4173,
           2996,
           3579,
           3209,
           66,
           113,
           144,
           164175,
           3,
           25648,
           267897,
           8034,
           56115,
           98208,
           15,
           542567,
           46230,
           0,
           65,
           142,
           6275,
           175,
           1225,
           25014,
           10,
           9,
           1350,
           20363,
           3362,
           29180,
           11715,
           11,
           6809,
           211966
          ],
          "coloraxis": "coloraxis",
          "pattern": {
           "shape": ""
          }
         },
         "name": "",
         "offsetgroup": "",
         "orientation": "v",
         "showlegend": false,
         "textposition": "auto",
         "type": "bar",
         "x": [
          "Abruzzo",
          "Acre",
          "Adygea Republic",
          "Aguascalientes",
          "Aichi",
          "Akita",
          "Alabama",
          "Alagoas",
          "Alaska",
          "Alberta",
          "Altai Krai",
          "Altai Republic",
          "Amapa",
          "Amazonas",
          "Amur Oblast",
          "Ancash",
          "Andalusia",
          "Andaman and Nicobar Islands",
          "Andhra Pradesh",
          "Anguilla",
          "Anhui",
          "Antioquia",
          "Antofagasta",
          "Antwerp",
          "Aomori",
          "Apurimac",
          "Aragon",
          "Arauca",
          "Araucania",
          "Arequipa",
          "Arica y Parinacota",
          "Arizona",
          "Arkansas",
          "Arkhangelsk Oblast",
          "Aruba",
          "Arunachal Pradesh",
          "Assam",
          "Astrakhan Oblast",
          "Asturias",
          "Atacama",
          "Atlantico",
          "Australian Capital Territory",
          "Ayacucho",
          "Aysen",
          "Azad Jammu and Kashmir",
          "Baden-Wurttemberg",
          "Bahia",
          "Baja California",
          "Baja California Sur",
          "Baleares",
          "Balochistan",
          "Bashkortostan Republic",
          "Basilicata",
          "Bayern",
          "Beijing",
          "Belgorod Oblast",
          "Berlin",
          "Bermuda",
          "Bihar",
          "Biobio",
          "Blekinge",
          "Bolivar",
          "Bonaire, Sint Eustatius and Saba",
          "Boyaca",
          "Brandenburg",
          "Bremen",
          "British Columbia",
          "British Virgin Islands",
          "Brussels",
          "Bryansk Oblast",
          "Buryatia Republic",
          "C. Valenciana",
          "Cajamarca",
          "Calabria",
          "Caldas",
          "California",
          "Callao",
          "Campania",
          "Campeche",
          "Canarias",
          "Cantabria",
          "Capital District",
          "Caqueta",
          "Casanare",
          "Castilla - La Mancha",
          "Castilla y Leon",
          "Catalonia",
          "Cauca",
          "Cayman Islands",
          "Ceara",
          "Cesar",
          "Ceuta",
          "Chandigarh",
          "Channel Islands",
          "Chechen Republic",
          "Chelyabinsk Oblast",
          "Cherkasy Oblast",
          "Chernihiv Oblast",
          "Chernivtsi Oblast",
          "Chhattisgarh",
          "Chiapas",
          "Chiba",
          "Chihuahua",
          "Choco",
          "Chongqing",
          "Chukotka Autonomous Okrug",
          "Chuvashia Republic",
          "Ciudad de Mexico",
          "Coahuila",
          "Colima",
          "Colorado",
          "Connecticut",
          "Cook Islands",
          "Coquimbo",
          "Cordoba",
          "Crimea Republic*",
          "Cundinamarca",
          "Curacao",
          "Cusco",
          "Dadra and Nagar Haveli and Daman and Diu",
          "Dagestan Republic",
          "Dalarna",
          "Delaware",
          "Delhi",
          "Diamond Princess",
          "District of Columbia",
          "Distrito Federal",
          "Dnipropetrovsk Oblast",
          "Donetsk Oblast",
          "Drenthe",
          "Durango",
          "East Flanders",
          "Ehime",
          "Emilia-Romagna",
          "England",
          "Espirito Santo",
          "Extremadura",
          "Falkland Islands (Malvinas)",
          "Faroe Islands",
          "Flemish Brabant",
          "Flevoland",
          "Florida",
          "French Guiana",
          "French Polynesia",
          "Friesland",
          "Friuli Venezia Giulia",
          "Fujian",
          "Fukui",
          "Fukuoka",
          "Fukushima",
          "Galicia",
          "Gansu",
          "Gavleborg",
          "Gelderland",
          "Georgia",
          "Gibraltar",
          "Gifu",
          "Gilgit-Baltistan",
          "Goa",
          "Goias",
          "Gotland",
          "Grand Princess",
          "Greenland",
          "Groningen",
          "Guadeloupe",
          "Guainia",
          "Guam",
          "Guanajuato",
          "Guangdong",
          "Guangxi",
          "Guaviare",
          "Guernsey",
          "Guerrero",
          "Guizhou",
          "Gujarat",
          "Gunma",
          "Hainan",
          "Hainaut",
          "Halland",
          "Hamburg",
          "Haryana",
          "Hawaii",
          "Hebei",
          "Heilongjiang",
          "Henan",
          "Hessen",
          "Hidalgo",
          "Himachal Pradesh",
          "Hiroshima",
          "Hokkaido",
          "Hong Kong",
          "Huancavelica",
          "Huanuco",
          "Hubei",
          "Huila",
          "Hunan",
          "Hyogo",
          "Ibaraki",
          "Ica",
          "Idaho",
          "Illinois",
          "Indiana",
          "Ingushetia Republic",
          "Inner Mongolia",
          "Iowa",
          "Irkutsk Oblast",
          "Ishikawa",
          "Islamabad",
          "Isle of Man",
          "Ivano-Frankivsk Oblast",
          "Ivanovo Oblast",
          "Iwate",
          "Jalisco",
          "Jammu and Kashmir",
          "Jamtland Harjedalen",
          "Jersey",
          "Jewish Autonomous Okrug",
          "Jharkhand",
          "Jiangsu",
          "Jiangxi",
          "Jilin",
          "Johor",
          "Jonkoping",
          "Junin",
          "Kabardino-Balkarian Republic",
          "Kagawa",
          "Kagoshima",
          "Kaliningrad Oblast",
          "Kalmar",
          "Kalmykia Republic",
          "Kaluga Oblast",
          "Kamchatka Krai",
          "Kanagawa",
          "Kansas",
          "Karachay-Cherkess Republic",
          "Karelia Republic",
          "Karnataka",
          "Kedah",
          "Kelantan",
          "Kemerovo Oblast",
          "Kentucky",
          "Kerala",
          "Khabarovsk Krai",
          "Khakassia Republic",
          "Khanty-Mansi Autonomous Okrug",
          "Kharkiv Oblast",
          "Kherson Oblast",
          "Khmelnytskyi Oblast",
          "Khyber Pakhtunkhwa",
          "Kiev",
          "Kiev Oblast",
          "Kirov Oblast",
          "Kirovohrad Oblast",
          "Kochi",
          "Komi Republic",
          "Kostroma Oblast",
          "Krasnodar Krai",
          "Krasnoyarsk Krai",
          "Kronoberg",
          "Kumamoto",
          "Kurgan Oblast",
          "Kursk Oblast",
          "Kyoto",
          "La Guajira",
          "La Libertad",
          "La Rioja",
          "Ladakh",
          "Lakshadweep",
          "Lambayeque",
          "Lazio",
          "Leningrad Oblast",
          "Liaoning",
          "Liege",
          "Liguria",
          "Lima",
          "Limburg",
          "Lipetsk Oblast",
          "Lombardia",
          "Loreto",
          "Los Lagos",
          "Los Rios",
          "Louisiana",
          "Luhansk Oblast",
          "Luxembourg",
          "Lviv Oblast",
          "Macau",
          "Madhya Pradesh",
          "Madre de Dios",
          "Madrid",
          "Magadan Oblast",
          "Magallanes",
          "Magdalena",
          "Maharashtra",
          "Maine",
          "Manipur",
          "Manitoba",
          "Maranhao",
          "Marche",
          "Mari El Republic",
          "Martinique",
          "Maryland",
          "Massachusetts",
          "Mato Grosso",
          "Mato Grosso do Sul",
          "Maule",
          "Mayotte",
          "Mecklenburg-Vorpommern",
          "Meghalaya",
          "Melaka",
          "Melilla",
          "Meta",
          "Metropolitana",
          "Mexico",
          "Michigan",
          "Michoacan",
          "Mie",
          "Minas Gerais",
          "Minnesota",
          "Mississippi",
          "Missouri",
          "Miyagi",
          "Miyazaki",
          "Mizoram",
          "Molise",
          "Montana",
          "Montserrat",
          "Moquegua",
          "Mordovia Republic",
          "Morelos",
          "Moscow",
          "Moscow Oblast",
          "Murcia",
          "Murmansk Oblast",
          "Mykolaiv Oblast",
          "Nagaland",
          "Nagano",
          "Nagasaki",
          "Namur",
          "Nara",
          "Narino",
          "Navarra",
          "Nayarit",
          "Nebraska",
          "Negeri Sembilan",
          "Nenets Autonomous Okrug",
          "Nevada",
          "New Brunswick",
          "New Caledonia",
          "New Hampshire",
          "New Jersey",
          "New Mexico",
          "New South Wales",
          "New York",
          "Newfoundland and Labrador",
          "Niedersachsen",
          "Niigata",
          "Ningxia",
          "Niue",
          "Nizhny Novgorod Oblast",
          "Noord-Brabant",
          "Noord-Holland",
          "Nordrhein-Westfalen",
          "Norrbotten",
          "Norte de Santander",
          "North Carolina",
          "North Dakota",
          "North Ossetia - Alania Republic",
          "Northern Ireland",
          "Northern Mariana Islands",
          "Northern Territory",
          "Northwest Territories",
          "Nova Scotia",
          "Novgorod Oblast",
          "Novosibirsk Oblast",
          "Nuble",
          "Nuevo Leon",
          "Nunavut",
          "OHiggins",
          "Oaxaca",
          "Odessa Oblast",
          "Odisha",
          "Ohio",
          "Oita",
          "Okayama",
          "Okinawa",
          "Oklahoma",
          "Omsk Oblast",
          "Ontario",
          "Orebro",
          "Oregon",
          "Orel Oblast",
          "Orenburg Oblast",
          "Osaka",
          "Ostergotland",
          "Overijssel",
          "P.A. Bolzano",
          "P.A. Trento",
          "Pahang",
          "Pais Vasco",
          "Para",
          "Paraiba",
          "Parana",
          "Pasco",
          "Pennsylvania",
          "Penza Oblast",
          "Perak",
          "Perlis",
          "Perm Krai",
          "Pernambuco",
          "Piaui",
          "Piemonte",
          "Pitcairn Islands",
          "Piura",
          "Poltava Oblast",
          "Port Quarantine",
          "Primorsky Krai",
          "Prince Edward Island",
          "Pskov Oblast",
          "Puducherry",
          "Puebla",
          "Puerto Rico",
          "Puglia",
          "Pulau Pinang",
          "Punjab",
          "Puno",
          "Putumayo",
          "Qinghai",
          "Quebec",
          "Queensland",
          "Queretaro",
          "Quindio",
          "Quintana Roo",
          "Rajasthan",
          "Recovered",
          "Repatriated Travellers",
          "Reunion",
          "Rheinland-Pfalz",
          "Rhode Island",
          "Rio Grande do Norte",
          "Rio Grande do Sul",
          "Rio de Janeiro",
          "Risaralda",
          "Rivne Oblast",
          "Rondonia",
          "Roraima",
          "Rostov Oblast",
          "Ryazan Oblast",
          "Saarland",
          "Sabah",
          "Sachsen",
          "Sachsen-Anhalt",
          "Saga",
          "Saint Barthelemy",
          "Saint Helena, Ascension and Tristan da Cunha",
          "Saint Petersburg",
          "Saint Pierre and Miquelon",
          "Saitama",
          "Sakha (Yakutiya) Republic",
          "Sakhalin Oblast",
          "Samara Oblast",
          "San Andres y Providencia",
          "San Luis Potosi",
          "San Martin",
          "Santa Catarina",
          "Santander",
          "Sao Paulo",
          "Saratov Oblast",
          "Sarawak",
          "Sardegna",
          "Saskatchewan",
          "Schleswig-Holstein",
          "Scotland",
          "Selangor",
          "Sergipe",
          "Sevastopol*",
          "Shaanxi",
          "Shandong",
          "Shanghai",
          "Shanxi",
          "Shiga",
          "Shimane",
          "Shizuoka",
          "Sichuan",
          "Sicilia",
          "Sikkim",
          "Sinaloa",
          "Sindh",
          "Sint Maarten",
          "Skane",
          "Smolensk Oblast",
          "Sonora",
          "Sormland",
          "South Australia",
          "South Carolina",
          "South Dakota",
          "St Martin",
          "Stavropol Krai",
          "Stockholm",
          "Sucre",
          "Sumy Oblast",
          "Sverdlovsk Oblast",
          "Tabasco",
          "Tacna",
          "Tamaulipas",
          "Tambov Oblast",
          "Tamil Nadu",
          "Tarapaca",
          "Tasmania",
          "Tatarstan Republic",
          "Telangana",
          "Tennessee",
          "Terengganu",
          "Ternopil Oblast",
          "Texas",
          "Thuringen",
          "Tianjin",
          "Tibet",
          "Tlaxcala",
          "Tocantins",
          "Tochigi",
          "Tokushima",
          "Tokyo",
          "Tolima",
          "Tomsk Oblast",
          "Toscana",
          "Tottori",
          "Toyama",
          "Tripura",
          "Tula Oblast",
          "Tumbes",
          "Turks and Caicos Islands",
          "Tver Oblast",
          "Tyumen Oblast",
          "Tyva Republic",
          "Ucayali",
          "Udmurt Republic",
          "Ulyanovsk Oblast",
          "Umbria",
          "Unknown",
          "Uppsala",
          "Utah",
          "Utrecht",
          "Uttar Pradesh",
          "Uttarakhand",
          "Valle d'Aosta",
          "Valle del Cauca",
          "Valparaiso",
          "Varmland",
          "Vasterbotten",
          "Vasternorrland",
          "Vastmanland",
          "Vastra Gotaland",
          "Vaupes",
          "Veneto",
          "Veracruz",
          "Vermont",
          "Vichada",
          "Victoria",
          "Vinnytsia Oblast",
          "Virgin Islands",
          "Virginia",
          "Vladimir Oblast",
          "Volgograd Oblast",
          "Vologda Oblast",
          "Volyn Oblast",
          "Voronezh Oblast",
          "W.P. Kuala Lumpur",
          "W.P. Labuan",
          "W.P. Putrajaya",
          "Wakayama",
          "Wales",
          "Wallis and Futuna",
          "Walloon Brabant",
          "Washington",
          "West Bengal",
          "West Flanders",
          "West Virginia",
          "Western Australia",
          "Wisconsin",
          "Wyoming",
          "Xinjiang",
          "Yamagata",
          "Yamaguchi",
          "Yamalo-Nenets Autonomous Okrug",
          "Yamanashi",
          "Yaroslavl Oblast",
          "Yucatan",
          "Yukon",
          "Yunnan",
          "Zabaykalsky Krai",
          "Zacatecas",
          "Zakarpattia Oblast",
          "Zaporizhia Oblast",
          "Zeeland",
          "Zhejiang",
          "Zhytomyr Oblast",
          "Zuid-Holland"
         ],
         "xaxis": "x",
         "y": [
          11263,
          3762,
          1937,
          16247,
          3580,
          37,
          393851,
          2737,
          49755,
          14437,
          1599,
          824,
          15786,
          48248,
          1746,
          28532,
          260747,
          24,
          2607,
          2,
          1,
          22311,
          1193,
          81806,
          100,
          7429,
          76241,
          214,
          1392,
          44445,
          330,
          597309,
          247736,
          8468,
          527,
          64,
          3019,
          6732,
          25757,
          192,
          3604,
          0,
          14584,
          157,
          294,
          42033,
          6828,
          30907,
          18225,
          37571,
          286,
          5011,
          6559,
          55452,
          37,
          2308,
          17654,
          94,
          4247,
          2850,
          5737,
          1696,
          13,
          2479,
          14814,
          1293,
          7439,
          18,
          83202,
          2339,
          1969,
          151023,
          24097,
          9270,
          2707,
          2750669,
          38643,
          75276,
          6405,
          26843,
          16216,
          45762,
          885,
          590,
          97147,
          124822,
          351564,
          1516,
          46,
          58630,
          1927,
          3000,
          228,
          337,
          3661,
          13059,
          12445,
          11643,
          9421,
          9274,
          7273,
          3970,
          32907,
          120,
          0,
          51,
          1037,
          346710,
          47859,
          7421,
          353757,
          199670,
          0,
          329,
          481,
          5209,
          4064,
          758,
          24014,
          4,
          2201,
          11402,
          63347,
          3683,
          49,
          30644,
          6331,
          13152,
          7508,
          15284,
          24516,
          67262,
          200,
          58368,
          2543297,
          15566,
          39265,
          2,
          49,
          50413,
          21191,
          1441893,
          3901,
          12277,
          16833,
          12890,
          28,
          51,
          2953,
          341,
          54855,
          0,
          16030,
          96425,
          737395,
          1255,
          766,
          49,
          867,
          4529,
          2346,
          100,
          1,
          18403,
          6305,
          12,
          7275,
          82594,
          38,
          1,
          44,
          0,
          24010,
          0,
          7968,
          557,
          0,
          103707,
          14710,
          9011,
          2563,
          23589,
          185,
          9,
          6,
          26454,
          22630,
          1088,
          1224,
          1567,
          680,
          7536,
          19757,
          0,
          1351,
          1,
          1751,
          673,
          28574,
          147707,
          1006442,
          548634,
          1678,
          16,
          292044,
          4188,
          175,
          1976,
          20,
          7585,
          4687,
          54,
          49069,
          2094,
          4869,
          0,
          654,
          1494,
          3,
          0,
          0,
          5542,
          18599,
          26294,
          1405,
          156,
          239,
          1656,
          7657,
          2275,
          1677,
          1273,
          5143,
          241572,
          1548,
          5630,
          9471,
          455,
          409,
          2313,
          297521,
          64516,
          4547,
          2650,
          3102,
          11291,
          6477,
          4416,
          3181,
          71962,
          20860,
          6121,
          3685,
          84,
          1360,
          3617,
          8483,
          3043,
          9708,
          657,
          1397,
          2240,
          1351,
          516,
          32993,
          15625,
          203,
          0,
          28922,
          78169,
          2504,
          73,
          98184,
          5144,
          411911,
          82154,
          4252,
          55437,
          23670,
          2426,
          1014,
          333598,
          2938,
          18830,
          12882,
          0,
          8029,
          9450,
          368588,
          406,
          632,
          932,
          54129,
          28587,
          515,
          4664,
          5825,
          14606,
          1082,
          5976,
          297162,
          414061,
          6353,
          12427,
          1851,
          3212,
          3468,
          163,
          400,
          4559,
          1235,
          4919,
          135319,
          548408,
          31986,
          275,
          48454,
          428682,
          231722,
          471444,
          471,
          508,
          98,
          1165,
          85048,
          0,
          15336,
          2347,
          9496,
          153418,
          38814,
          60431,
          3456,
          18277,
          113,
          386,
          492,
          36034,
          374,
          2496,
          38664,
          7194,
          173883,
          1012,
          100,
          242859,
          172,
          0,
          51509,
          559396,
          152222,
          4953,
          1080226,
          7,
          16156,
          140,
          0,
          0,
          5839,
          133095,
          145071,
          63598,
          8190,
          1842,
          606930,
          93206,
          1325,
          86145,
          123,
          19,
          0,
          31,
          5473,
          2535,
          518,
          83431,
          0,
          735,
          27443,
          22451,
          1908,
          756078,
          172,
          519,
          533,
          322539,
          2215,
          27300,
          14231,
          122873,
          2284,
          3233,
          5501,
          15447,
          59827,
          11523,
          1838,
          567,
          95192,
          11130,
          38061,
          117358,
          6339,
          704110,
          5189,
          388,
          12,
          5636,
          24608,
          114,
          15829,
          0,
          36784,
          6800,
          177,
          8213,
          8,
          11919,
          328,
          44520,
          81014,
          54735,
          806,
          13481,
          17921,
          377,
          0,
          26816,
          27,
          32946,
          1433,
          14375,
          6730,
          0,
          0,
          375,
          16811,
          95552,
          32487,
          16206,
          6949,
          2505,
          3599,
          14800,
          2585,
          7635,
          1556,
          2195,
          3196,
          32356,
          7939,
          119,
          19,
          0,
          100965,
          1,
          4935,
          2117,
          2761,
          2074,
          32,
          38818,
          24348,
          22994,
          4575,
          141702,
          4981,
          150,
          17142,
          3186,
          6326,
          142924,
          9747,
          13106,
          388,
          22,
          5,
          106,
          3,
          415,
          19,
          754,
          21,
          40398,
          369,
          23362,
          18488,
          95,
          77931,
          3883,
          50125,
          9756,
          15,
          344326,
          101331,
          135,
          3084,
          122851,
          513,
          5149,
          5950,
          43399,
          14067,
          37332,
          2168,
          7304,
          1086,
          0,
          2878,
          4756,
          638746,
          114,
          3105,
          1921602,
          12580,
          14,
          0,
          10769,
          8426,
          1116,
          29,
          18475,
          2224,
          3621,
          9105,
          80,
          156,
          57,
          2060,
          8766,
          176,
          4481,
          1269,
          1013,
          19010,
          3265,
          2950,
          4237,
          15209,
          18939,
          302333,
          70721,
          11221,
          3215,
          437,
          7513,
          1468,
          6508,
          8978,
          10995,
          14685,
          80469,
          4,
          89451,
          38167,
          8634,
          12,
          45,
          6048,
          2119,
          388334,
          1875,
          1402,
          4173,
          2996,
          3579,
          3209,
          66,
          113,
          144,
          164175,
          3,
          25648,
          267897,
          8034,
          56115,
          98208,
          15,
          542567,
          46230,
          0,
          65,
          142,
          6275,
          175,
          1225,
          25014,
          10,
          9,
          1350,
          20363,
          3362,
          29180,
          11715,
          11,
          6809,
          211966
         ],
         "yaxis": "y"
        }
       ],
       "layout": {
        "autosize": true,
        "barmode": "relative",
        "coloraxis": {
         "colorbar": {
          "title": {
           "text": "Active"
          }
         },
         "colorscale": [
          [
           0,
           "#0d0887"
          ],
          [
           0.1111111111111111,
           "#46039f"
          ],
          [
           0.2222222222222222,
           "#7201a8"
          ],
          [
           0.3333333333333333,
           "#9c179e"
          ],
          [
           0.4444444444444444,
           "#bd3786"
          ],
          [
           0.5555555555555556,
           "#d8576b"
          ],
          [
           0.6666666666666666,
           "#ed7953"
          ],
          [
           0.7777777777777778,
           "#fb9f3a"
          ],
          [
           0.8888888888888888,
           "#fdca26"
          ],
          [
           1,
           "#f0f921"
          ]
         ]
        },
        "legend": {
         "tracegroupgap": 0
        },
        "template": {
         "data": {
          "bar": [
           {
            "error_x": {
             "color": "#2a3f5f"
            },
            "error_y": {
             "color": "#2a3f5f"
            },
            "marker": {
             "line": {
              "color": "#E5ECF6",
              "width": 0.5
             },
             "pattern": {
              "fillmode": "overlay",
              "size": 10,
              "solidity": 0.2
             }
            },
            "type": "bar"
           }
          ],
          "barpolar": [
           {
            "marker": {
             "line": {
              "color": "#E5ECF6",
              "width": 0.5
             },
             "pattern": {
              "fillmode": "overlay",
              "size": 10,
              "solidity": 0.2
             }
            },
            "type": "barpolar"
           }
          ],
          "carpet": [
           {
            "aaxis": {
             "endlinecolor": "#2a3f5f",
             "gridcolor": "white",
             "linecolor": "white",
             "minorgridcolor": "white",
             "startlinecolor": "#2a3f5f"
            },
            "baxis": {
             "endlinecolor": "#2a3f5f",
             "gridcolor": "white",
             "linecolor": "white",
             "minorgridcolor": "white",
             "startlinecolor": "#2a3f5f"
            },
            "type": "carpet"
           }
          ],
          "choropleth": [
           {
            "colorbar": {
             "outlinewidth": 0,
             "ticks": ""
            },
            "type": "choropleth"
           }
          ],
          "contour": [
           {
            "colorbar": {
             "outlinewidth": 0,
             "ticks": ""
            },
            "colorscale": [
             [
              0,
              "#0d0887"
             ],
             [
              0.1111111111111111,
              "#46039f"
             ],
             [
              0.2222222222222222,
              "#7201a8"
             ],
             [
              0.3333333333333333,
              "#9c179e"
             ],
             [
              0.4444444444444444,
              "#bd3786"
             ],
             [
              0.5555555555555556,
              "#d8576b"
             ],
             [
              0.6666666666666666,
              "#ed7953"
             ],
             [
              0.7777777777777778,
              "#fb9f3a"
             ],
             [
              0.8888888888888888,
              "#fdca26"
             ],
             [
              1,
              "#f0f921"
             ]
            ],
            "type": "contour"
           }
          ],
          "contourcarpet": [
           {
            "colorbar": {
             "outlinewidth": 0,
             "ticks": ""
            },
            "type": "contourcarpet"
           }
          ],
          "heatmap": [
           {
            "colorbar": {
             "outlinewidth": 0,
             "ticks": ""
            },
            "colorscale": [
             [
              0,
              "#0d0887"
             ],
             [
              0.1111111111111111,
              "#46039f"
             ],
             [
              0.2222222222222222,
              "#7201a8"
             ],
             [
              0.3333333333333333,
              "#9c179e"
             ],
             [
              0.4444444444444444,
              "#bd3786"
             ],
             [
              0.5555555555555556,
              "#d8576b"
             ],
             [
              0.6666666666666666,
              "#ed7953"
             ],
             [
              0.7777777777777778,
              "#fb9f3a"
             ],
             [
              0.8888888888888888,
              "#fdca26"
             ],
             [
              1,
              "#f0f921"
             ]
            ],
            "type": "heatmap"
           }
          ],
          "heatmapgl": [
           {
            "colorbar": {
             "outlinewidth": 0,
             "ticks": ""
            },
            "colorscale": [
             [
              0,
              "#0d0887"
             ],
             [
              0.1111111111111111,
              "#46039f"
             ],
             [
              0.2222222222222222,
              "#7201a8"
             ],
             [
              0.3333333333333333,
              "#9c179e"
             ],
             [
              0.4444444444444444,
              "#bd3786"
             ],
             [
              0.5555555555555556,
              "#d8576b"
             ],
             [
              0.6666666666666666,
              "#ed7953"
             ],
             [
              0.7777777777777778,
              "#fb9f3a"
             ],
             [
              0.8888888888888888,
              "#fdca26"
             ],
             [
              1,
              "#f0f921"
             ]
            ],
            "type": "heatmapgl"
           }
          ],
          "histogram": [
           {
            "marker": {
             "pattern": {
              "fillmode": "overlay",
              "size": 10,
              "solidity": 0.2
             }
            },
            "type": "histogram"
           }
          ],
          "histogram2d": [
           {
            "colorbar": {
             "outlinewidth": 0,
             "ticks": ""
            },
            "colorscale": [
             [
              0,
              "#0d0887"
             ],
             [
              0.1111111111111111,
              "#46039f"
             ],
             [
              0.2222222222222222,
              "#7201a8"
             ],
             [
              0.3333333333333333,
              "#9c179e"
             ],
             [
              0.4444444444444444,
              "#bd3786"
             ],
             [
              0.5555555555555556,
              "#d8576b"
             ],
             [
              0.6666666666666666,
              "#ed7953"
             ],
             [
              0.7777777777777778,
              "#fb9f3a"
             ],
             [
              0.8888888888888888,
              "#fdca26"
             ],
             [
              1,
              "#f0f921"
             ]
            ],
            "type": "histogram2d"
           }
          ],
          "histogram2dcontour": [
           {
            "colorbar": {
             "outlinewidth": 0,
             "ticks": ""
            },
            "colorscale": [
             [
              0,
              "#0d0887"
             ],
             [
              0.1111111111111111,
              "#46039f"
             ],
             [
              0.2222222222222222,
              "#7201a8"
             ],
             [
              0.3333333333333333,
              "#9c179e"
             ],
             [
              0.4444444444444444,
              "#bd3786"
             ],
             [
              0.5555555555555556,
              "#d8576b"
             ],
             [
              0.6666666666666666,
              "#ed7953"
             ],
             [
              0.7777777777777778,
              "#fb9f3a"
             ],
             [
              0.8888888888888888,
              "#fdca26"
             ],
             [
              1,
              "#f0f921"
             ]
            ],
            "type": "histogram2dcontour"
           }
          ],
          "mesh3d": [
           {
            "colorbar": {
             "outlinewidth": 0,
             "ticks": ""
            },
            "type": "mesh3d"
           }
          ],
          "parcoords": [
           {
            "line": {
             "colorbar": {
              "outlinewidth": 0,
              "ticks": ""
             }
            },
            "type": "parcoords"
           }
          ],
          "pie": [
           {
            "automargin": true,
            "type": "pie"
           }
          ],
          "scatter": [
           {
            "fillpattern": {
             "fillmode": "overlay",
             "size": 10,
             "solidity": 0.2
            },
            "type": "scatter"
           }
          ],
          "scatter3d": [
           {
            "line": {
             "colorbar": {
              "outlinewidth": 0,
              "ticks": ""
             }
            },
            "marker": {
             "colorbar": {
              "outlinewidth": 0,
              "ticks": ""
             }
            },
            "type": "scatter3d"
           }
          ],
          "scattercarpet": [
           {
            "marker": {
             "colorbar": {
              "outlinewidth": 0,
              "ticks": ""
             }
            },
            "type": "scattercarpet"
           }
          ],
          "scattergeo": [
           {
            "marker": {
             "colorbar": {
              "outlinewidth": 0,
              "ticks": ""
             }
            },
            "type": "scattergeo"
           }
          ],
          "scattergl": [
           {
            "marker": {
             "colorbar": {
              "outlinewidth": 0,
              "ticks": ""
             }
            },
            "type": "scattergl"
           }
          ],
          "scattermapbox": [
           {
            "marker": {
             "colorbar": {
              "outlinewidth": 0,
              "ticks": ""
             }
            },
            "type": "scattermapbox"
           }
          ],
          "scatterpolar": [
           {
            "marker": {
             "colorbar": {
              "outlinewidth": 0,
              "ticks": ""
             }
            },
            "type": "scatterpolar"
           }
          ],
          "scatterpolargl": [
           {
            "marker": {
             "colorbar": {
              "outlinewidth": 0,
              "ticks": ""
             }
            },
            "type": "scatterpolargl"
           }
          ],
          "scatterternary": [
           {
            "marker": {
             "colorbar": {
              "outlinewidth": 0,
              "ticks": ""
             }
            },
            "type": "scatterternary"
           }
          ],
          "surface": [
           {
            "colorbar": {
             "outlinewidth": 0,
             "ticks": ""
            },
            "colorscale": [
             [
              0,
              "#0d0887"
             ],
             [
              0.1111111111111111,
              "#46039f"
             ],
             [
              0.2222222222222222,
              "#7201a8"
             ],
             [
              0.3333333333333333,
              "#9c179e"
             ],
             [
              0.4444444444444444,
              "#bd3786"
             ],
             [
              0.5555555555555556,
              "#d8576b"
             ],
             [
              0.6666666666666666,
              "#ed7953"
             ],
             [
              0.7777777777777778,
              "#fb9f3a"
             ],
             [
              0.8888888888888888,
              "#fdca26"
             ],
             [
              1,
              "#f0f921"
             ]
            ],
            "type": "surface"
           }
          ],
          "table": [
           {
            "cells": {
             "fill": {
              "color": "#EBF0F8"
             },
             "line": {
              "color": "white"
             }
            },
            "header": {
             "fill": {
              "color": "#C8D4E3"
             },
             "line": {
              "color": "white"
             }
            },
            "type": "table"
           }
          ]
         },
         "layout": {
          "annotationdefaults": {
           "arrowcolor": "#2a3f5f",
           "arrowhead": 0,
           "arrowwidth": 1
          },
          "autotypenumbers": "strict",
          "coloraxis": {
           "colorbar": {
            "outlinewidth": 0,
            "ticks": ""
           }
          },
          "colorscale": {
           "diverging": [
            [
             0,
             "#8e0152"
            ],
            [
             0.1,
             "#c51b7d"
            ],
            [
             0.2,
             "#de77ae"
            ],
            [
             0.3,
             "#f1b6da"
            ],
            [
             0.4,
             "#fde0ef"
            ],
            [
             0.5,
             "#f7f7f7"
            ],
            [
             0.6,
             "#e6f5d0"
            ],
            [
             0.7,
             "#b8e186"
            ],
            [
             0.8,
             "#7fbc41"
            ],
            [
             0.9,
             "#4d9221"
            ],
            [
             1,
             "#276419"
            ]
           ],
           "sequential": [
            [
             0,
             "#0d0887"
            ],
            [
             0.1111111111111111,
             "#46039f"
            ],
            [
             0.2222222222222222,
             "#7201a8"
            ],
            [
             0.3333333333333333,
             "#9c179e"
            ],
            [
             0.4444444444444444,
             "#bd3786"
            ],
            [
             0.5555555555555556,
             "#d8576b"
            ],
            [
             0.6666666666666666,
             "#ed7953"
            ],
            [
             0.7777777777777778,
             "#fb9f3a"
            ],
            [
             0.8888888888888888,
             "#fdca26"
            ],
            [
             1,
             "#f0f921"
            ]
           ],
           "sequentialminus": [
            [
             0,
             "#0d0887"
            ],
            [
             0.1111111111111111,
             "#46039f"
            ],
            [
             0.2222222222222222,
             "#7201a8"
            ],
            [
             0.3333333333333333,
             "#9c179e"
            ],
            [
             0.4444444444444444,
             "#bd3786"
            ],
            [
             0.5555555555555556,
             "#d8576b"
            ],
            [
             0.6666666666666666,
             "#ed7953"
            ],
            [
             0.7777777777777778,
             "#fb9f3a"
            ],
            [
             0.8888888888888888,
             "#fdca26"
            ],
            [
             1,
             "#f0f921"
            ]
           ]
          },
          "colorway": [
           "#636efa",
           "#EF553B",
           "#00cc96",
           "#ab63fa",
           "#FFA15A",
           "#19d3f3",
           "#FF6692",
           "#B6E880",
           "#FF97FF",
           "#FECB52"
          ],
          "font": {
           "color": "#2a3f5f"
          },
          "geo": {
           "bgcolor": "white",
           "lakecolor": "white",
           "landcolor": "#E5ECF6",
           "showlakes": true,
           "showland": true,
           "subunitcolor": "white"
          },
          "hoverlabel": {
           "align": "left"
          },
          "hovermode": "closest",
          "mapbox": {
           "style": "light"
          },
          "paper_bgcolor": "white",
          "plot_bgcolor": "#E5ECF6",
          "polar": {
           "angularaxis": {
            "gridcolor": "white",
            "linecolor": "white",
            "ticks": ""
           },
           "bgcolor": "#E5ECF6",
           "radialaxis": {
            "gridcolor": "white",
            "linecolor": "white",
            "ticks": ""
           }
          },
          "scene": {
           "xaxis": {
            "backgroundcolor": "#E5ECF6",
            "gridcolor": "white",
            "gridwidth": 2,
            "linecolor": "white",
            "showbackground": true,
            "ticks": "",
            "zerolinecolor": "white"
           },
           "yaxis": {
            "backgroundcolor": "#E5ECF6",
            "gridcolor": "white",
            "gridwidth": 2,
            "linecolor": "white",
            "showbackground": true,
            "ticks": "",
            "zerolinecolor": "white"
           },
           "zaxis": {
            "backgroundcolor": "#E5ECF6",
            "gridcolor": "white",
            "gridwidth": 2,
            "linecolor": "white",
            "showbackground": true,
            "ticks": "",
            "zerolinecolor": "white"
           }
          },
          "shapedefaults": {
           "line": {
            "color": "#2a3f5f"
           }
          },
          "ternary": {
           "aaxis": {
            "gridcolor": "white",
            "linecolor": "white",
            "ticks": ""
           },
           "baxis": {
            "gridcolor": "white",
            "linecolor": "white",
            "ticks": ""
           },
           "bgcolor": "#E5ECF6",
           "caxis": {
            "gridcolor": "white",
            "linecolor": "white",
            "ticks": ""
           }
          },
          "title": {
           "x": 0.05
          },
          "xaxis": {
           "automargin": true,
           "gridcolor": "white",
           "linecolor": "white",
           "ticks": "",
           "title": {
            "standoff": 15
           },
           "zerolinecolor": "white",
           "zerolinewidth": 2
          },
          "yaxis": {
           "automargin": true,
           "gridcolor": "white",
           "linecolor": "white",
           "ticks": "",
           "title": {
            "standoff": 15
           },
           "zerolinecolor": "white",
           "zerolinewidth": 2
          }
         }
        },
        "title": {
         "text": "State-wise Active Reported of COVID-19 in the USA"
        },
        "xaxis": {
         "anchor": "y",
         "autorange": true,
         "domain": [
          0,
          1
         ],
         "range": [
          -0.5,
          596.5
         ],
         "tickangle": -45,
         "title": {
          "text": "State"
         },
         "type": "category"
        },
        "yaxis": {
         "anchor": "x",
         "autorange": true,
         "domain": [
          0,
          1
         ],
         "range": [
          0,
          2895441.052631579
         ],
         "title": {
          "text": "Active"
         },
         "type": "linear"
        }
       }
      },
      "image/png": "[encoded data removed]",
      "text/html": [
       "<div>                            <div id=\"ea35e518-0a2c-4cec-b2bf-f2ab82108860\" class=\"plotly-graph-div\" style=\"height:600px; width:100%;\"></div>            <script type=\"text/javascript\">                require([\"plotly\"], function(Plotly) {                    window.PLOTLYENV=window.PLOTLYENV || {};                                    if (document.getElementById(\"ea35e518-0a2c-4cec-b2bf-f2ab82108860\")) {                    Plotly.newPlot(                        \"ea35e518-0a2c-4cec-b2bf-f2ab82108860\",                        [{\"alignmentgroup\":\"True\",\"hovertemplate\":\"State=%{x}\\u003cbr\\u003eActive=%{marker.color}\\u003cextra\\u003e\\u003c\\u002fextra\\u003e\",\"legendgroup\":\"\",\"marker\":{\"color\":[11263,3762,1937,16247,3580,37,393851,2737,49755,14437,1599,824,15786,48248,1746,28532,260747,24,2607,2,1,22311,1193,81806,100,7429,76241,214,1392,44445,330,597309,247736,8468,527,64,3019,6732,25757,192,3604,0,14584,157,294,42033,6828,30907,18225,37571,286,5011,6559,55452,37,2308,17654,94,4247,2850,5737,1696,13,2479,14814,1293,7439,18,83202,2339,1969,151023,24097,9270,2707,2750669,38643,75276,6405,26843,16216,45762,885,590,97147,124822,351564,1516,46,58630,1927,3000,228,337,3661,13059,12445,11643,9421,9274,7273,3970,32907,120,0,51,1037,346710,47859,7421,353757,199670,0,329,481,5209,4064,758,24014,4,2201,11402,63347,3683,49,30644,6331,13152,7508,15284,24516,67262,200,58368,2543297,15566,39265,2,49,50413,21191,1441893,3901,12277,16833,12890,28,51,2953,341,54855,0,16030,96425,737395,1255,766,49,867,4529,2346,100,1,18403,6305,12,7275,82594,38,1,44,0,24010,0,7968,557,0,103707,14710,9011,2563,23589,185,9,6,26454,22630,1088,1224,1567,680,7536,19757,0,1351,1,1751,673,28574,147707,1006442,548634,1678,16,292044,4188,175,1976,20,7585,4687,54,49069,2094,4869,0,654,1494,3,0,0,5542,18599,26294,1405,156,239,1656,7657,2275,1677,1273,5143,241572,1548,5630,9471,455,409,2313,297521,64516,4547,2650,3102,11291,6477,4416,3181,71962,20860,6121,3685,84,1360,3617,8483,3043,9708,657,1397,2240,1351,516,32993,15625,203,0,28922,78169,2504,73,98184,5144,411911,82154,4252,55437,23670,2426,1014,333598,2938,18830,12882,0,8029,9450,368588,406,632,932,54129,28587,515,4664,5825,14606,1082,5976,297162,414061,6353,12427,1851,3212,3468,163,400,4559,1235,4919,135319,548408,31986,275,48454,428682,231722,471444,471,508,98,1165,85048,0,15336,2347,9496,153418,38814,60431,3456,18277,113,386,492,36034,374,2496,38664,7194,173883,1012,100,242859,172,0,51509,559396,152222,4953,1080226,7,16156,140,0,0,5839,133095,145071,63598,8190,1842,606930,93206,1325,86145,123,19,0,31,5473,2535,518,83431,0,735,27443,22451,1908,756078,172,519,533,322539,2215,27300,14231,122873,2284,3233,5501,15447,59827,11523,1838,567,95192,11130,38061,117358,6339,704110,5189,388,12,5636,24608,114,15829,0,36784,6800,177,8213,8,11919,328,44520,81014,54735,806,13481,17921,377,0,26816,27,32946,1433,14375,6730,0,0,375,16811,95552,32487,16206,6949,2505,3599,14800,2585,7635,1556,2195,3196,32356,7939,119,19,0,100965,1,4935,2117,2761,2074,32,38818,24348,22994,4575,141702,4981,150,17142,3186,6326,142924,9747,13106,388,22,5,106,3,415,19,754,21,40398,369,23362,18488,95,77931,3883,50125,9756,15,344326,101331,135,3084,122851,513,5149,5950,43399,14067,37332,2168,7304,1086,0,2878,4756,638746,114,3105,1921602,12580,14,0,10769,8426,1116,29,18475,2224,3621,9105,80,156,57,2060,8766,176,4481,1269,1013,19010,3265,2950,4237,15209,18939,302333,70721,11221,3215,437,7513,1468,6508,8978,10995,14685,80469,4,89451,38167,8634,12,45,6048,2119,388334,1875,1402,4173,2996,3579,3209,66,113,144,164175,3,25648,267897,8034,56115,98208,15,542567,46230,0,65,142,6275,175,1225,25014,10,9,1350,20363,3362,29180,11715,11,6809,211966],\"coloraxis\":\"coloraxis\",\"pattern\":{\"shape\":\"\"}},\"name\":\"\",\"offsetgroup\":\"\",\"orientation\":\"v\",\"showlegend\":false,\"textposition\":\"auto\",\"x\":[\"Abruzzo\",\"Acre\",\"Adygea Republic\",\"Aguascalientes\",\"Aichi\",\"Akita\",\"Alabama\",\"Alagoas\",\"Alaska\",\"Alberta\",\"Altai Krai\",\"Altai Republic\",\"Amapa\",\"Amazonas\",\"Amur Oblast\",\"Ancash\",\"Andalusia\",\"Andaman and Nicobar Islands\",\"Andhra Pradesh\",\"Anguilla\",\"Anhui\",\"Antioquia\",\"Antofagasta\",\"Antwerp\",\"Aomori\",\"Apurimac\",\"Aragon\",\"Arauca\",\"Araucania\",\"Arequipa\",\"Arica y Parinacota\",\"Arizona\",\"Arkansas\",\"Arkhangelsk Oblast\",\"Aruba\",\"Arunachal Pradesh\",\"Assam\",\"Astrakhan Oblast\",\"Asturias\",\"Atacama\",\"Atlantico\",\"Australian Capital Territory\",\"Ayacucho\",\"Aysen\",\"Azad Jammu and Kashmir\",\"Baden-Wurttemberg\",\"Bahia\",\"Baja California\",\"Baja California Sur\",\"Baleares\",\"Balochistan\",\"Bashkortostan Republic\",\"Basilicata\",\"Bayern\",\"Beijing\",\"Belgorod Oblast\",\"Berlin\",\"Bermuda\",\"Bihar\",\"Biobio\",\"Blekinge\",\"Bolivar\",\"Bonaire, Sint Eustatius and Saba\",\"Boyaca\",\"Brandenburg\",\"Bremen\",\"British Columbia\",\"British Virgin Islands\",\"Brussels\",\"Bryansk Oblast\",\"Buryatia Republic\",\"C. Valenciana\",\"Cajamarca\",\"Calabria\",\"Caldas\",\"California\",\"Callao\",\"Campania\",\"Campeche\",\"Canarias\",\"Cantabria\",\"Capital District\",\"Caqueta\",\"Casanare\",\"Castilla - La Mancha\",\"Castilla y Leon\",\"Catalonia\",\"Cauca\",\"Cayman Islands\",\"Ceara\",\"Cesar\",\"Ceuta\",\"Chandigarh\",\"Channel Islands\",\"Chechen Republic\",\"Chelyabinsk Oblast\",\"Cherkasy Oblast\",\"Chernihiv Oblast\",\"Chernivtsi Oblast\",\"Chhattisgarh\",\"Chiapas\",\"Chiba\",\"Chihuahua\",\"Choco\",\"Chongqing\",\"Chukotka Autonomous Okrug\",\"Chuvashia Republic\",\"Ciudad de Mexico\",\"Coahuila\",\"Colima\",\"Colorado\",\"Connecticut\",\"Cook Islands\",\"Coquimbo\",\"Cordoba\",\"Crimea Republic*\",\"Cundinamarca\",\"Curacao\",\"Cusco\",\"Dadra and Nagar Haveli and Daman and Diu\",\"Dagestan Republic\",\"Dalarna\",\"Delaware\",\"Delhi\",\"Diamond Princess\",\"District of Columbia\",\"Distrito Federal\",\"Dnipropetrovsk Oblast\",\"Donetsk Oblast\",\"Drenthe\",\"Durango\",\"East Flanders\",\"Ehime\",\"Emilia-Romagna\",\"England\",\"Espirito Santo\",\"Extremadura\",\"Falkland Islands (Malvinas)\",\"Faroe Islands\",\"Flemish Brabant\",\"Flevoland\",\"Florida\",\"French Guiana\",\"French Polynesia\",\"Friesland\",\"Friuli Venezia Giulia\",\"Fujian\",\"Fukui\",\"Fukuoka\",\"Fukushima\",\"Galicia\",\"Gansu\",\"Gavleborg\",\"Gelderland\",\"Georgia\",\"Gibraltar\",\"Gifu\",\"Gilgit-Baltistan\",\"Goa\",\"Goias\",\"Gotland\",\"Grand Princess\",\"Greenland\",\"Groningen\",\"Guadeloupe\",\"Guainia\",\"Guam\",\"Guanajuato\",\"Guangdong\",\"Guangxi\",\"Guaviare\",\"Guernsey\",\"Guerrero\",\"Guizhou\",\"Gujarat\",\"Gunma\",\"Hainan\",\"Hainaut\",\"Halland\",\"Hamburg\",\"Haryana\",\"Hawaii\",\"Hebei\",\"Heilongjiang\",\"Henan\",\"Hessen\",\"Hidalgo\",\"Himachal Pradesh\",\"Hiroshima\",\"Hokkaido\",\"Hong Kong\",\"Huancavelica\",\"Huanuco\",\"Hubei\",\"Huila\",\"Hunan\",\"Hyogo\",\"Ibaraki\",\"Ica\",\"Idaho\",\"Illinois\",\"Indiana\",\"Ingushetia Republic\",\"Inner Mongolia\",\"Iowa\",\"Irkutsk Oblast\",\"Ishikawa\",\"Islamabad\",\"Isle of Man\",\"Ivano-Frankivsk Oblast\",\"Ivanovo Oblast\",\"Iwate\",\"Jalisco\",\"Jammu and Kashmir\",\"Jamtland Harjedalen\",\"Jersey\",\"Jewish Autonomous Okrug\",\"Jharkhand\",\"Jiangsu\",\"Jiangxi\",\"Jilin\",\"Johor\",\"Jonkoping\",\"Junin\",\"Kabardino-Balkarian Republic\",\"Kagawa\",\"Kagoshima\",\"Kaliningrad Oblast\",\"Kalmar\",\"Kalmykia Republic\",\"Kaluga Oblast\",\"Kamchatka Krai\",\"Kanagawa\",\"Kansas\",\"Karachay-Cherkess Republic\",\"Karelia Republic\",\"Karnataka\",\"Kedah\",\"Kelantan\",\"Kemerovo Oblast\",\"Kentucky\",\"Kerala\",\"Khabarovsk Krai\",\"Khakassia Republic\",\"Khanty-Mansi Autonomous Okrug\",\"Kharkiv Oblast\",\"Kherson Oblast\",\"Khmelnytskyi Oblast\",\"Khyber Pakhtunkhwa\",\"Kiev\",\"Kiev Oblast\",\"Kirov Oblast\",\"Kirovohrad Oblast\",\"Kochi\",\"Komi Republic\",\"Kostroma Oblast\",\"Krasnodar Krai\",\"Krasnoyarsk Krai\",\"Kronoberg\",\"Kumamoto\",\"Kurgan Oblast\",\"Kursk Oblast\",\"Kyoto\",\"La Guajira\",\"La Libertad\",\"La Rioja\",\"Ladakh\",\"Lakshadweep\",\"Lambayeque\",\"Lazio\",\"Leningrad Oblast\",\"Liaoning\",\"Liege\",\"Liguria\",\"Lima\",\"Limburg\",\"Lipetsk Oblast\",\"Lombardia\",\"Loreto\",\"Los Lagos\",\"Los Rios\",\"Louisiana\",\"Luhansk Oblast\",\"Luxembourg\",\"Lviv Oblast\",\"Macau\",\"Madhya Pradesh\",\"Madre de Dios\",\"Madrid\",\"Magadan Oblast\",\"Magallanes\",\"Magdalena\",\"Maharashtra\",\"Maine\",\"Manipur\",\"Manitoba\",\"Maranhao\",\"Marche\",\"Mari El Republic\",\"Martinique\",\"Maryland\",\"Massachusetts\",\"Mato Grosso\",\"Mato Grosso do Sul\",\"Maule\",\"Mayotte\",\"Mecklenburg-Vorpommern\",\"Meghalaya\",\"Melaka\",\"Melilla\",\"Meta\",\"Metropolitana\",\"Mexico\",\"Michigan\",\"Michoacan\",\"Mie\",\"Minas Gerais\",\"Minnesota\",\"Mississippi\",\"Missouri\",\"Miyagi\",\"Miyazaki\",\"Mizoram\",\"Molise\",\"Montana\",\"Montserrat\",\"Moquegua\",\"Mordovia Republic\",\"Morelos\",\"Moscow\",\"Moscow Oblast\",\"Murcia\",\"Murmansk Oblast\",\"Mykolaiv Oblast\",\"Nagaland\",\"Nagano\",\"Nagasaki\",\"Namur\",\"Nara\",\"Narino\",\"Navarra\",\"Nayarit\",\"Nebraska\",\"Negeri Sembilan\",\"Nenets Autonomous Okrug\",\"Nevada\",\"New Brunswick\",\"New Caledonia\",\"New Hampshire\",\"New Jersey\",\"New Mexico\",\"New South Wales\",\"New York\",\"Newfoundland and Labrador\",\"Niedersachsen\",\"Niigata\",\"Ningxia\",\"Niue\",\"Nizhny Novgorod Oblast\",\"Noord-Brabant\",\"Noord-Holland\",\"Nordrhein-Westfalen\",\"Norrbotten\",\"Norte de Santander\",\"North Carolina\",\"North Dakota\",\"North Ossetia - Alania Republic\",\"Northern Ireland\",\"Northern Mariana Islands\",\"Northern Territory\",\"Northwest Territories\",\"Nova Scotia\",\"Novgorod Oblast\",\"Novosibirsk Oblast\",\"Nuble\",\"Nuevo Leon\",\"Nunavut\",\"OHiggins\",\"Oaxaca\",\"Odessa Oblast\",\"Odisha\",\"Ohio\",\"Oita\",\"Okayama\",\"Okinawa\",\"Oklahoma\",\"Omsk Oblast\",\"Ontario\",\"Orebro\",\"Oregon\",\"Orel Oblast\",\"Orenburg Oblast\",\"Osaka\",\"Ostergotland\",\"Overijssel\",\"P.A. Bolzano\",\"P.A. Trento\",\"Pahang\",\"Pais Vasco\",\"Para\",\"Paraiba\",\"Parana\",\"Pasco\",\"Pennsylvania\",\"Penza Oblast\",\"Perak\",\"Perlis\",\"Perm Krai\",\"Pernambuco\",\"Piaui\",\"Piemonte\",\"Pitcairn Islands\",\"Piura\",\"Poltava Oblast\",\"Port Quarantine\",\"Primorsky Krai\",\"Prince Edward Island\",\"Pskov Oblast\",\"Puducherry\",\"Puebla\",\"Puerto Rico\",\"Puglia\",\"Pulau Pinang\",\"Punjab\",\"Puno\",\"Putumayo\",\"Qinghai\",\"Quebec\",\"Queensland\",\"Queretaro\",\"Quindio\",\"Quintana Roo\",\"Rajasthan\",\"Recovered\",\"Repatriated Travellers\",\"Reunion\",\"Rheinland-Pfalz\",\"Rhode Island\",\"Rio Grande do Norte\",\"Rio Grande do Sul\",\"Rio de Janeiro\",\"Risaralda\",\"Rivne Oblast\",\"Rondonia\",\"Roraima\",\"Rostov Oblast\",\"Ryazan Oblast\",\"Saarland\",\"Sabah\",\"Sachsen\",\"Sachsen-Anhalt\",\"Saga\",\"Saint Barthelemy\",\"Saint Helena, Ascension and Tristan da Cunha\",\"Saint Petersburg\",\"Saint Pierre and Miquelon\",\"Saitama\",\"Sakha (Yakutiya) Republic\",\"Sakhalin Oblast\",\"Samara Oblast\",\"San Andres y Providencia\",\"San Luis Potosi\",\"San Martin\",\"Santa Catarina\",\"Santander\",\"Sao Paulo\",\"Saratov Oblast\",\"Sarawak\",\"Sardegna\",\"Saskatchewan\",\"Schleswig-Holstein\",\"Scotland\",\"Selangor\",\"Sergipe\",\"Sevastopol*\",\"Shaanxi\",\"Shandong\",\"Shanghai\",\"Shanxi\",\"Shiga\",\"Shimane\",\"Shizuoka\",\"Sichuan\",\"Sicilia\",\"Sikkim\",\"Sinaloa\",\"Sindh\",\"Sint Maarten\",\"Skane\",\"Smolensk Oblast\",\"Sonora\",\"Sormland\",\"South Australia\",\"South Carolina\",\"South Dakota\",\"St Martin\",\"Stavropol Krai\",\"Stockholm\",\"Sucre\",\"Sumy Oblast\",\"Sverdlovsk Oblast\",\"Tabasco\",\"Tacna\",\"Tamaulipas\",\"Tambov Oblast\",\"Tamil Nadu\",\"Tarapaca\",\"Tasmania\",\"Tatarstan Republic\",\"Telangana\",\"Tennessee\",\"Terengganu\",\"Ternopil Oblast\",\"Texas\",\"Thuringen\",\"Tianjin\",\"Tibet\",\"Tlaxcala\",\"Tocantins\",\"Tochigi\",\"Tokushima\",\"Tokyo\",\"Tolima\",\"Tomsk Oblast\",\"Toscana\",\"Tottori\",\"Toyama\",\"Tripura\",\"Tula Oblast\",\"Tumbes\",\"Turks and Caicos Islands\",\"Tver Oblast\",\"Tyumen Oblast\",\"Tyva Republic\",\"Ucayali\",\"Udmurt Republic\",\"Ulyanovsk Oblast\",\"Umbria\",\"Unknown\",\"Uppsala\",\"Utah\",\"Utrecht\",\"Uttar Pradesh\",\"Uttarakhand\",\"Valle d'Aosta\",\"Valle del Cauca\",\"Valparaiso\",\"Varmland\",\"Vasterbotten\",\"Vasternorrland\",\"Vastmanland\",\"Vastra Gotaland\",\"Vaupes\",\"Veneto\",\"Veracruz\",\"Vermont\",\"Vichada\",\"Victoria\",\"Vinnytsia Oblast\",\"Virgin Islands\",\"Virginia\",\"Vladimir Oblast\",\"Volgograd Oblast\",\"Vologda Oblast\",\"Volyn Oblast\",\"Voronezh Oblast\",\"W.P. Kuala Lumpur\",\"W.P. Labuan\",\"W.P. Putrajaya\",\"Wakayama\",\"Wales\",\"Wallis and Futuna\",\"Walloon Brabant\",\"Washington\",\"West Bengal\",\"West Flanders\",\"West Virginia\",\"Western Australia\",\"Wisconsin\",\"Wyoming\",\"Xinjiang\",\"Yamagata\",\"Yamaguchi\",\"Yamalo-Nenets Autonomous Okrug\",\"Yamanashi\",\"Yaroslavl Oblast\",\"Yucatan\",\"Yukon\",\"Yunnan\",\"Zabaykalsky Krai\",\"Zacatecas\",\"Zakarpattia Oblast\",\"Zaporizhia Oblast\",\"Zeeland\",\"Zhejiang\",\"Zhytomyr Oblast\",\"Zuid-Holland\"],\"xaxis\":\"x\",\"y\":[11263,3762,1937,16247,3580,37,393851,2737,49755,14437,1599,824,15786,48248,1746,28532,260747,24,2607,2,1,22311,1193,81806,100,7429,76241,214,1392,44445,330,597309,247736,8468,527,64,3019,6732,25757,192,3604,0,14584,157,294,42033,6828,30907,18225,37571,286,5011,6559,55452,37,2308,17654,94,4247,2850,5737,1696,13,2479,14814,1293,7439,18,83202,2339,1969,151023,24097,9270,2707,2750669,38643,75276,6405,26843,16216,45762,885,590,97147,124822,351564,1516,46,58630,1927,3000,228,337,3661,13059,12445,11643,9421,9274,7273,3970,32907,120,0,51,1037,346710,47859,7421,353757,199670,0,329,481,5209,4064,758,24014,4,2201,11402,63347,3683,49,30644,6331,13152,7508,15284,24516,67262,200,58368,2543297,15566,39265,2,49,50413,21191,1441893,3901,12277,16833,12890,28,51,2953,341,54855,0,16030,96425,737395,1255,766,49,867,4529,2346,100,1,18403,6305,12,7275,82594,38,1,44,0,24010,0,7968,557,0,103707,14710,9011,2563,23589,185,9,6,26454,22630,1088,1224,1567,680,7536,19757,0,1351,1,1751,673,28574,147707,1006442,548634,1678,16,292044,4188,175,1976,20,7585,4687,54,49069,2094,4869,0,654,1494,3,0,0,5542,18599,26294,1405,156,239,1656,7657,2275,1677,1273,5143,241572,1548,5630,9471,455,409,2313,297521,64516,4547,2650,3102,11291,6477,4416,3181,71962,20860,6121,3685,84,1360,3617,8483,3043,9708,657,1397,2240,1351,516,32993,15625,203,0,28922,78169,2504,73,98184,5144,411911,82154,4252,55437,23670,2426,1014,333598,2938,18830,12882,0,8029,9450,368588,406,632,932,54129,28587,515,4664,5825,14606,1082,5976,297162,414061,6353,12427,1851,3212,3468,163,400,4559,1235,4919,135319,548408,31986,275,48454,428682,231722,471444,471,508,98,1165,85048,0,15336,2347,9496,153418,38814,60431,3456,18277,113,386,492,36034,374,2496,38664,7194,173883,1012,100,242859,172,0,51509,559396,152222,4953,1080226,7,16156,140,0,0,5839,133095,145071,63598,8190,1842,606930,93206,1325,86145,123,19,0,31,5473,2535,518,83431,0,735,27443,22451,1908,756078,172,519,533,322539,2215,27300,14231,122873,2284,3233,5501,15447,59827,11523,1838,567,95192,11130,38061,117358,6339,704110,5189,388,12,5636,24608,114,15829,0,36784,6800,177,8213,8,11919,328,44520,81014,54735,806,13481,17921,377,0,26816,27,32946,1433,14375,6730,0,0,375,16811,95552,32487,16206,6949,2505,3599,14800,2585,7635,1556,2195,3196,32356,7939,119,19,0,100965,1,4935,2117,2761,2074,32,38818,24348,22994,4575,141702,4981,150,17142,3186,6326,142924,9747,13106,388,22,5,106,3,415,19,754,21,40398,369,23362,18488,95,77931,3883,50125,9756,15,344326,101331,135,3084,122851,513,5149,5950,43399,14067,37332,2168,7304,1086,0,2878,4756,638746,114,3105,1921602,12580,14,0,10769,8426,1116,29,18475,2224,3621,9105,80,156,57,2060,8766,176,4481,1269,1013,19010,3265,2950,4237,15209,18939,302333,70721,11221,3215,437,7513,1468,6508,8978,10995,14685,80469,4,89451,38167,8634,12,45,6048,2119,388334,1875,1402,4173,2996,3579,3209,66,113,144,164175,3,25648,267897,8034,56115,98208,15,542567,46230,0,65,142,6275,175,1225,25014,10,9,1350,20363,3362,29180,11715,11,6809,211966],\"yaxis\":\"y\",\"type\":\"bar\"}],                        {\"template\":{\"data\":{\"histogram2dcontour\":[{\"type\":\"histogram2dcontour\",\"colorbar\":{\"outlinewidth\":0,\"ticks\":\"\"},\"colorscale\":[[0.0,\"#0d0887\"],[0.1111111111111111,\"#46039f\"],[0.2222222222222222,\"#7201a8\"],[0.3333333333333333,\"#9c179e\"],[0.4444444444444444,\"#bd3786\"],[0.5555555555555556,\"#d8576b\"],[0.6666666666666666,\"#ed7953\"],[0.7777777777777778,\"#fb9f3a\"],[0.8888888888888888,\"#fdca26\"],[1.0,\"#f0f921\"]]}],\"choropleth\":[{\"type\":\"choropleth\",\"colorbar\":{\"outlinewidth\":0,\"ticks\":\"\"}}],\"histogram2d\":[{\"type\":\"histogram2d\",\"colorbar\":{\"outlinewidth\":0,\"ticks\":\"\"},\"colorscale\":[[0.0,\"#0d0887\"],[0.1111111111111111,\"#46039f\"],[0.2222222222222222,\"#7201a8\"],[0.3333333333333333,\"#9c179e\"],[0.4444444444444444,\"#bd3786\"],[0.5555555555555556,\"#d8576b\"],[0.6666666666666666,\"#ed7953\"],[0.7777777777777778,\"#fb9f3a\"],[0.8888888888888888,\"#fdca26\"],[1.0,\"#f0f921\"]]}],\"heatmap\":[{\"type\":\"heatmap\",\"colorbar\":{\"outlinewidth\":0,\"ticks\":\"\"},\"colorscale\":[[0.0,\"#0d0887\"],[0.1111111111111111,\"#46039f\"],[0.2222222222222222,\"#7201a8\"],[0.3333333333333333,\"#9c179e\"],[0.4444444444444444,\"#bd3786\"],[0.5555555555555556,\"#d8576b\"],[0.6666666666666666,\"#ed7953\"],[0.7777777777777778,\"#fb9f3a\"],[0.8888888888888888,\"#fdca26\"],[1.0,\"#f0f921\"]]}],\"heatmapgl\":[{\"type\":\"heatmapgl\",\"colorbar\":{\"outlinewidth\":0,\"ticks\":\"\"},\"colorscale\":[[0.0,\"#0d0887\"],[0.1111111111111111,\"#46039f\"],[0.2222222222222222,\"#7201a8\"],[0.3333333333333333,\"#9c179e\"],[0.4444444444444444,\"#bd3786\"],[0.5555555555555556,\"#d8576b\"],[0.6666666666666666,\"#ed7953\"],[0.7777777777777778,\"#fb9f3a\"],[0.8888888888888888,\"#fdca26\"],[1.0,\"#f0f921\"]]}],\"contourcarpet\":[{\"type\":\"contourcarpet\",\"colorbar\":{\"outlinewidth\":0,\"ticks\":\"\"}}],\"contour\":[{\"type\":\"contour\",\"colorbar\":{\"outlinewidth\":0,\"ticks\":\"\"},\"colorscale\":[[0.0,\"#0d0887\"],[0.1111111111111111,\"#46039f\"],[0.2222222222222222,\"#7201a8\"],[0.3333333333333333,\"#9c179e\"],[0.4444444444444444,\"#bd3786\"],[0.5555555555555556,\"#d8576b\"],[0.6666666666666666,\"#ed7953\"],[0.7777777777777778,\"#fb9f3a\"],[0.8888888888888888,\"#fdca26\"],[1.0,\"#f0f921\"]]}],\"surface\":[{\"type\":\"surface\",\"colorbar\":{\"outlinewidth\":0,\"ticks\":\"\"},\"colorscale\":[[0.0,\"#0d0887\"],[0.1111111111111111,\"#46039f\"],[0.2222222222222222,\"#7201a8\"],[0.3333333333333333,\"#9c179e\"],[0.4444444444444444,\"#bd3786\"],[0.5555555555555556,\"#d8576b\"],[0.6666666666666666,\"#ed7953\"],[0.7777777777777778,\"#fb9f3a\"],[0.8888888888888888,\"#fdca26\"],[1.0,\"#f0f921\"]]}],\"mesh3d\":[{\"type\":\"mesh3d\",\"colorbar\":{\"outlinewidth\":0,\"ticks\":\"\"}}],\"scatter\":[{\"fillpattern\":{\"fillmode\":\"overlay\",\"size\":10,\"solidity\":0.2},\"type\":\"scatter\"}],\"parcoords\":[{\"type\":\"parcoords\",\"line\":{\"colorbar\":{\"outlinewidth\":0,\"ticks\":\"\"}}}],\"scatterpolargl\":[{\"type\":\"scatterpolargl\",\"marker\":{\"colorbar\":{\"outlinewidth\":0,\"ticks\":\"\"}}}],\"bar\":[{\"error_x\":{\"color\":\"#2a3f5f\"},\"error_y\":{\"color\":\"#2a3f5f\"},\"marker\":{\"line\":{\"color\":\"#E5ECF6\",\"width\":0.5},\"pattern\":{\"fillmode\":\"overlay\",\"size\":10,\"solidity\":0.2}},\"type\":\"bar\"}],\"scattergeo\":[{\"type\":\"scattergeo\",\"marker\":{\"colorbar\":{\"outlinewidth\":0,\"ticks\":\"\"}}}],\"scatterpolar\":[{\"type\":\"scatterpolar\",\"marker\":{\"colorbar\":{\"outlinewidth\":0,\"ticks\":\"\"}}}],\"histogram\":[{\"marker\":{\"pattern\":{\"fillmode\":\"overlay\",\"size\":10,\"solidity\":0.2}},\"type\":\"histogram\"}],\"scattergl\":[{\"type\":\"scattergl\",\"marker\":{\"colorbar\":{\"outlinewidth\":0,\"ticks\":\"\"}}}],\"scatter3d\":[{\"type\":\"scatter3d\",\"line\":{\"colorbar\":{\"outlinewidth\":0,\"ticks\":\"\"}},\"marker\":{\"colorbar\":{\"outlinewidth\":0,\"ticks\":\"\"}}}],\"scattermapbox\":[{\"type\":\"scattermapbox\",\"marker\":{\"colorbar\":{\"outlinewidth\":0,\"ticks\":\"\"}}}],\"scatterternary\":[{\"type\":\"scatterternary\",\"marker\":{\"colorbar\":{\"outlinewidth\":0,\"ticks\":\"\"}}}],\"scattercarpet\":[{\"type\":\"scattercarpet\",\"marker\":{\"colorbar\":{\"outlinewidth\":0,\"ticks\":\"\"}}}],\"carpet\":[{\"aaxis\":{\"endlinecolor\":\"#2a3f5f\",\"gridcolor\":\"white\",\"linecolor\":\"white\",\"minorgridcolor\":\"white\",\"startlinecolor\":\"#2a3f5f\"},\"baxis\":{\"endlinecolor\":\"#2a3f5f\",\"gridcolor\":\"white\",\"linecolor\":\"white\",\"minorgridcolor\":\"white\",\"startlinecolor\":\"#2a3f5f\"},\"type\":\"carpet\"}],\"table\":[{\"cells\":{\"fill\":{\"color\":\"#EBF0F8\"},\"line\":{\"color\":\"white\"}},\"header\":{\"fill\":{\"color\":\"#C8D4E3\"},\"line\":{\"color\":\"white\"}},\"type\":\"table\"}],\"barpolar\":[{\"marker\":{\"line\":{\"color\":\"#E5ECF6\",\"width\":0.5},\"pattern\":{\"fillmode\":\"overlay\",\"size\":10,\"solidity\":0.2}},\"type\":\"barpolar\"}],\"pie\":[{\"automargin\":true,\"type\":\"pie\"}]},\"layout\":{\"autotypenumbers\":\"strict\",\"colorway\":[\"#636efa\",\"#EF553B\",\"#00cc96\",\"#ab63fa\",\"#FFA15A\",\"#19d3f3\",\"#FF6692\",\"#B6E880\",\"#FF97FF\",\"#FECB52\"],\"font\":{\"color\":\"#2a3f5f\"},\"hovermode\":\"closest\",\"hoverlabel\":{\"align\":\"left\"},\"paper_bgcolor\":\"white\",\"plot_bgcolor\":\"#E5ECF6\",\"polar\":{\"bgcolor\":\"#E5ECF6\",\"angularaxis\":{\"gridcolor\":\"white\",\"linecolor\":\"white\",\"ticks\":\"\"},\"radialaxis\":{\"gridcolor\":\"white\",\"linecolor\":\"white\",\"ticks\":\"\"}},\"ternary\":{\"bgcolor\":\"#E5ECF6\",\"aaxis\":{\"gridcolor\":\"white\",\"linecolor\":\"white\",\"ticks\":\"\"},\"baxis\":{\"gridcolor\":\"white\",\"linecolor\":\"white\",\"ticks\":\"\"},\"caxis\":{\"gridcolor\":\"white\",\"linecolor\":\"white\",\"ticks\":\"\"}},\"coloraxis\":{\"colorbar\":{\"outlinewidth\":0,\"ticks\":\"\"}},\"colorscale\":{\"sequential\":[[0.0,\"#0d0887\"],[0.1111111111111111,\"#46039f\"],[0.2222222222222222,\"#7201a8\"],[0.3333333333333333,\"#9c179e\"],[0.4444444444444444,\"#bd3786\"],[0.5555555555555556,\"#d8576b\"],[0.6666666666666666,\"#ed7953\"],[0.7777777777777778,\"#fb9f3a\"],[0.8888888888888888,\"#fdca26\"],[1.0,\"#f0f921\"]],\"sequentialminus\":[[0.0,\"#0d0887\"],[0.1111111111111111,\"#46039f\"],[0.2222222222222222,\"#7201a8\"],[0.3333333333333333,\"#9c179e\"],[0.4444444444444444,\"#bd3786\"],[0.5555555555555556,\"#d8576b\"],[0.6666666666666666,\"#ed7953\"],[0.7777777777777778,\"#fb9f3a\"],[0.8888888888888888,\"#fdca26\"],[1.0,\"#f0f921\"]],\"diverging\":[[0,\"#8e0152\"],[0.1,\"#c51b7d\"],[0.2,\"#de77ae\"],[0.3,\"#f1b6da\"],[0.4,\"#fde0ef\"],[0.5,\"#f7f7f7\"],[0.6,\"#e6f5d0\"],[0.7,\"#b8e186\"],[0.8,\"#7fbc41\"],[0.9,\"#4d9221\"],[1,\"#276419\"]]},\"xaxis\":{\"gridcolor\":\"white\",\"linecolor\":\"white\",\"ticks\":\"\",\"title\":{\"standoff\":15},\"zerolinecolor\":\"white\",\"automargin\":true,\"zerolinewidth\":2},\"yaxis\":{\"gridcolor\":\"white\",\"linecolor\":\"white\",\"ticks\":\"\",\"title\":{\"standoff\":15},\"zerolinecolor\":\"white\",\"automargin\":true,\"zerolinewidth\":2},\"scene\":{\"xaxis\":{\"backgroundcolor\":\"#E5ECF6\",\"gridcolor\":\"white\",\"linecolor\":\"white\",\"showbackground\":true,\"ticks\":\"\",\"zerolinecolor\":\"white\",\"gridwidth\":2},\"yaxis\":{\"backgroundcolor\":\"#E5ECF6\",\"gridcolor\":\"white\",\"linecolor\":\"white\",\"showbackground\":true,\"ticks\":\"\",\"zerolinecolor\":\"white\",\"gridwidth\":2},\"zaxis\":{\"backgroundcolor\":\"#E5ECF6\",\"gridcolor\":\"white\",\"linecolor\":\"white\",\"showbackground\":true,\"ticks\":\"\",\"zerolinecolor\":\"white\",\"gridwidth\":2}},\"shapedefaults\":{\"line\":{\"color\":\"#2a3f5f\"}},\"annotationdefaults\":{\"arrowcolor\":\"#2a3f5f\",\"arrowhead\":0,\"arrowwidth\":1},\"geo\":{\"bgcolor\":\"white\",\"landcolor\":\"#E5ECF6\",\"subunitcolor\":\"white\",\"showland\":true,\"showlakes\":true,\"lakecolor\":\"white\"},\"title\":{\"x\":0.05},\"mapbox\":{\"style\":\"light\"}}},\"xaxis\":{\"anchor\":\"y\",\"domain\":[0.0,1.0],\"title\":{\"text\":\"State\"},\"tickangle\":-45},\"yaxis\":{\"anchor\":\"x\",\"domain\":[0.0,1.0],\"title\":{\"text\":\"Active\"}},\"coloraxis\":{\"colorbar\":{\"title\":{\"text\":\"Active\"}},\"colorscale\":[[0.0,\"#0d0887\"],[0.1111111111111111,\"#46039f\"],[0.2222222222222222,\"#7201a8\"],[0.3333333333333333,\"#9c179e\"],[0.4444444444444444,\"#bd3786\"],[0.5555555555555556,\"#d8576b\"],[0.6666666666666666,\"#ed7953\"],[0.7777777777777778,\"#fb9f3a\"],[0.8888888888888888,\"#fdca26\"],[1.0,\"#f0f921\"]]},\"legend\":{\"tracegroupgap\":0},\"title\":{\"text\":\"State-wise Active Reported of COVID-19 in the USA\"},\"barmode\":\"relative\",\"height\":600},                        {\"responsive\": true}                    ).then(function(){\n",
       "                            \n",
       "var gd = document.getElementById('ea35e518-0a2c-4cec-b2bf-f2ab82108860');\n",
       "var x = new MutationObserver(function (mutations, observer) {{\n",
       "        var display = window.getComputedStyle(gd).display;\n",
       "        if (!display || display === 'none') {{\n",
       "            console.log([gd, 'removed!']);\n",
       "            Plotly.purge(gd);\n",
       "            observer.disconnect();\n",
       "        }}\n",
       "}});\n",
       "\n",
       "// Listen for the removal of the full notebook cells\n",
       "var notebookContainer = gd.closest('#notebook-container');\n",
       "if (notebookContainer) {{\n",
       "    x.observe(notebookContainer, {childList: true});\n",
       "}}\n",
       "\n",
       "// Listen for the clearing of the current output cell\n",
       "var outputEl = gd.closest('.output');\n",
       "if (outputEl) {{\n",
       "    x.observe(outputEl, {childList: true});\n",
       "}}\n",
       "\n",
       "                        })                };                });            </script>        </div>"
      ]
     },
     "metadata": {},
     "output_type": "display_data"
    }
   ],
   "source": [
    "state_deaths = covid_data.groupby('Province_State')['Active'].sum().reset_index()\n",
    "fig = px.bar(\n",
    "    state_deaths,\n",
    "    x='Province_State',  \n",
    "    y='Active',          \n",
    "    title='State-wise Active Reported of COVID-19 in the USA',\n",
    "    labels={'Province_State': 'State', 'Active': 'Active'},\n",
    "    color='Active',      \n",
    "    height=600\n",
    ")\n",
    "\n",
    "fig.update_layout(\n",
    "    xaxis_title=\"State\",\n",
    "    yaxis_title=\"Active\",\n",
    "    xaxis_tickangle=-45,  \n",
    ")\n",
    "\n",
    "fig.show()"
   ]
  },
  {
   "cell_type": "markdown",
   "metadata": {},
   "source": [
    "### Question 8"
   ]
  },
  {
   "cell_type": "markdown",
   "metadata": {},
   "source": [
    "### Plot Province/State Wise Confirmed cases in USA"
   ]
  },
  {
   "cell_type": "code",
   "execution_count": 170,
   "metadata": {},
   "outputs": [
    {
     "name": "stdout",
     "output_type": "stream",
     "text": [
      "              Province_State  Confirmed  Deaths  Recovered   Active\n",
      "0                    Alabama     399150    5299          0   393851\n",
      "1                     Alaska      49979     224          0    49755\n",
      "2                    Arizona     607345   10036          0   597309\n",
      "3                   Arkansas     251746    4010          0   247736\n",
      "4                 California    2776975   29638          0  2750669\n",
      "5                   Colorado     381434    5600          0   353757\n",
      "6                Connecticut     205994    6324          0   199670\n",
      "7                   Delaware      64475    1128          0    63347\n",
      "8           Diamond Princess         49       0          0       49\n",
      "9       District of Columbia      31457     813          0    30644\n",
      "10                   Florida    1464697   22804          0  1441893\n",
      "11                   Georgia     748852   11457          0   737395\n",
      "12            Grand Princess        103       3          0      100\n",
      "13                      Guam       7399     124          0     7275\n",
      "14                    Hawaii      23897     308          0    23589\n",
      "15                     Idaho     149235    1528          0   147707\n",
      "16                  Illinois    1024039   19210          0  1006442\n",
      "17                   Indiana     558560   10089          0   548634\n",
      "18                      Iowa     296171    4127          0   292044\n",
      "19                    Kansas     244347    3164          0   241572\n",
      "20                  Kentucky     300397    2876          0   297521\n",
      "21                 Louisiana     341431    7833          0   333598\n",
      "22                     Maine      29019     432          0    28587\n",
      "23                  Maryland     303364    6246          0   297162\n",
      "24             Massachusetts     427135   11071          0   414061\n",
      "25                  Michigan     562553   14145          0   548408\n",
      "26                 Minnesota     434413    5731          0   428682\n",
      "27               Mississippi     236868    5146          0   231722\n",
      "28                  Missouri     477617    6173          0   471444\n",
      "29                   Montana      86102    1054          0    85048\n",
      "30                  Nebraska     175620    1737          0   173883\n",
      "31                    Nevada     246309    3450          0   242859\n",
      "32             New Hampshire      52371     862          0    51509\n",
      "33                New Jersey     579250   19854          0   559396\n",
      "34                New Mexico     154954    2732          0   152222\n",
      "35                  New York    1119284   39288          0  1080226\n",
      "36            North Carolina     614355    7425          0   606930\n",
      "37              North Dakota      93951    1360          0    93206\n",
      "38  Northern Mariana Islands        125       2          0      123\n",
      "39                      Ohio     770977   14899          0   756078\n",
      "40                  Oklahoma     325277    2738          0   322539\n",
      "41                    Oregon     124476    1603          0   122873\n",
      "42              Pennsylvania     721820   17710          0   704110\n",
      "43               Puerto Rico      82630    1616          0    81014\n",
      "44                 Recovered          0       0          0        0\n",
      "45              Rhode Island      97614    2062          0    95552\n",
      "46            South Carolina     350084    5758          0   344326\n",
      "47              South Dakota     102901    1570          0   101331\n",
      "48                 Tennessee     643181    7704          0   638746\n",
      "49                     Texas    1988676   30441          0  1921602\n",
      "50                      Utah     303723    1390          0   302333\n",
      "51                   Vermont       8790     156          0     8634\n",
      "52            Virgin Islands       2143      24          0     2119\n",
      "53                  Virginia     393715    5381          0   388334\n",
      "54                Washington     271595    3698          0   267897\n",
      "55             West Virginia      99778    1570          0    98208\n",
      "56                 Wisconsin     548134    5567          0   542567\n",
      "57                   Wyoming      46719     489          0    46230\n",
      "    Province_State       Case    Count\n",
      "0          Alabama  Confirmed   399150\n",
      "1           Alaska  Confirmed    49979\n",
      "2          Arizona  Confirmed   607345\n",
      "3         Arkansas  Confirmed   251746\n",
      "4       California  Confirmed  2776975\n",
      "..             ...        ...      ...\n",
      "111       Virginia     Deaths     5381\n",
      "112     Washington     Deaths     3698\n",
      "113  West Virginia     Deaths     1570\n",
      "114      Wisconsin     Deaths     5567\n",
      "115        Wyoming     Deaths      489\n",
      "\n",
      "[116 rows x 3 columns]\n"
     ]
    }
   ],
   "source": [
    "import pandas as pd\n",
    "import plotly.express as px\n",
    "\n",
    "covid_data = pd.read_csv('https://raw.githubusercontent.com/CSSEGISandData/COVID-19/master/csse_covid_19_data/csse_covid_19_daily_reports/01-09-2021.csv')\n",
    "\n",
    "usa_data = covid_data[covid_data['Country_Region'] == 'US']\n",
    "\n",
    "state_summary = usa_data.groupby('Province_State')[['Confirmed', 'Deaths', 'Recovered', 'Active']].sum().reset_index()\n",
    "print(state_summary)\n",
    "state_summary_melted = state_summary.melt(\n",
    "    id_vars='Province_State', \n",
    "    value_vars=['Confirmed', 'Deaths'], \n",
    "    var_name='Case', \n",
    "    value_name='Count'\n",
    ")\n",
    "\n",
    "print(state_summary_melted)\n"
   ]
  },
  {
   "cell_type": "code",
   "execution_count": 166,
   "metadata": {},
   "outputs": [
    {
     "data": {
      "application/vnd.plotly.v1+json": {
       "config": {
        "plotlyServerURL": "https://plot.ly"
       },
       "data": [
        {
         "alignmentgroup": "True",
         "hovertemplate": "Case Type=Confirmed<br>State=%{x}<br>Count=%{y}<extra></extra>",
         "legendgroup": "Confirmed",
         "marker": {
          "color": "#636efa",
          "pattern": {
           "shape": ""
          }
         },
         "name": "Confirmed",
         "offsetgroup": "Confirmed",
         "orientation": "v",
         "showlegend": true,
         "textposition": "auto",
         "type": "bar",
         "x": [
          "Alabama",
          "Alaska",
          "Arizona",
          "Arkansas",
          "California",
          "Colorado",
          "Connecticut",
          "Delaware",
          "Diamond Princess",
          "District of Columbia",
          "Florida",
          "Georgia",
          "Grand Princess",
          "Guam",
          "Hawaii",
          "Idaho",
          "Illinois",
          "Indiana",
          "Iowa",
          "Kansas",
          "Kentucky",
          "Louisiana",
          "Maine",
          "Maryland",
          "Massachusetts",
          "Michigan",
          "Minnesota",
          "Mississippi",
          "Missouri",
          "Montana",
          "Nebraska",
          "Nevada",
          "New Hampshire",
          "New Jersey",
          "New Mexico",
          "New York",
          "North Carolina",
          "North Dakota",
          "Northern Mariana Islands",
          "Ohio",
          "Oklahoma",
          "Oregon",
          "Pennsylvania",
          "Puerto Rico",
          "Recovered",
          "Rhode Island",
          "South Carolina",
          "South Dakota",
          "Tennessee",
          "Texas",
          "Utah",
          "Vermont",
          "Virgin Islands",
          "Virginia",
          "Washington",
          "West Virginia",
          "Wisconsin",
          "Wyoming"
         ],
         "xaxis": "x",
         "y": [
          399150,
          49979,
          607345,
          251746,
          2776975,
          381434,
          205994,
          64475,
          49,
          31457,
          1464697,
          748852,
          103,
          7399,
          23897,
          149235,
          1024039,
          558560,
          296171,
          244347,
          300397,
          341431,
          29019,
          303364,
          427135,
          562553,
          434413,
          236868,
          477617,
          86102,
          175620,
          246309,
          52371,
          579250,
          154954,
          1119284,
          614355,
          93951,
          125,
          770977,
          325277,
          124476,
          721820,
          82630,
          0,
          97614,
          350084,
          102901,
          643181,
          1988676,
          303723,
          8790,
          2143,
          393715,
          271595,
          99778,
          548134,
          46719
         ],
         "yaxis": "y"
        },
        {
         "alignmentgroup": "True",
         "hovertemplate": "Case Type=Deaths<br>State=%{x}<br>Count=%{y}<extra></extra>",
         "legendgroup": "Deaths",
         "marker": {
          "color": "#EF553B",
          "pattern": {
           "shape": ""
          }
         },
         "name": "Deaths",
         "offsetgroup": "Deaths",
         "orientation": "v",
         "showlegend": true,
         "textposition": "auto",
         "type": "bar",
         "x": [
          "Alabama",
          "Alaska",
          "Arizona",
          "Arkansas",
          "California",
          "Colorado",
          "Connecticut",
          "Delaware",
          "Diamond Princess",
          "District of Columbia",
          "Florida",
          "Georgia",
          "Grand Princess",
          "Guam",
          "Hawaii",
          "Idaho",
          "Illinois",
          "Indiana",
          "Iowa",
          "Kansas",
          "Kentucky",
          "Louisiana",
          "Maine",
          "Maryland",
          "Massachusetts",
          "Michigan",
          "Minnesota",
          "Mississippi",
          "Missouri",
          "Montana",
          "Nebraska",
          "Nevada",
          "New Hampshire",
          "New Jersey",
          "New Mexico",
          "New York",
          "North Carolina",
          "North Dakota",
          "Northern Mariana Islands",
          "Ohio",
          "Oklahoma",
          "Oregon",
          "Pennsylvania",
          "Puerto Rico",
          "Recovered",
          "Rhode Island",
          "South Carolina",
          "South Dakota",
          "Tennessee",
          "Texas",
          "Utah",
          "Vermont",
          "Virgin Islands",
          "Virginia",
          "Washington",
          "West Virginia",
          "Wisconsin",
          "Wyoming"
         ],
         "xaxis": "x",
         "y": [
          5299,
          224,
          10036,
          4010,
          29638,
          5600,
          6324,
          1128,
          0,
          813,
          22804,
          11457,
          3,
          124,
          308,
          1528,
          19210,
          10089,
          4127,
          3164,
          2876,
          7833,
          432,
          6246,
          11071,
          14145,
          5731,
          5146,
          6173,
          1054,
          1737,
          3450,
          862,
          19854,
          2732,
          39288,
          7425,
          1360,
          2,
          14899,
          2738,
          1603,
          17710,
          1616,
          0,
          2062,
          5758,
          1570,
          7704,
          30441,
          1390,
          156,
          24,
          5381,
          3698,
          1570,
          5567,
          489
         ],
         "yaxis": "y"
        }
       ],
       "layout": {
        "autosize": true,
        "barmode": "group",
        "legend": {
         "title": {
          "text": "Case"
         },
         "tracegroupgap": 0
        },
        "template": {
         "data": {
          "bar": [
           {
            "error_x": {
             "color": "#2a3f5f"
            },
            "error_y": {
             "color": "#2a3f5f"
            },
            "marker": {
             "line": {
              "color": "white",
              "width": 0.5
             },
             "pattern": {
              "fillmode": "overlay",
              "size": 10,
              "solidity": 0.2
             }
            },
            "type": "bar"
           }
          ],
          "barpolar": [
           {
            "marker": {
             "line": {
              "color": "white",
              "width": 0.5
             },
             "pattern": {
              "fillmode": "overlay",
              "size": 10,
              "solidity": 0.2
             }
            },
            "type": "barpolar"
           }
          ],
          "carpet": [
           {
            "aaxis": {
             "endlinecolor": "#2a3f5f",
             "gridcolor": "#C8D4E3",
             "linecolor": "#C8D4E3",
             "minorgridcolor": "#C8D4E3",
             "startlinecolor": "#2a3f5f"
            },
            "baxis": {
             "endlinecolor": "#2a3f5f",
             "gridcolor": "#C8D4E3",
             "linecolor": "#C8D4E3",
             "minorgridcolor": "#C8D4E3",
             "startlinecolor": "#2a3f5f"
            },
            "type": "carpet"
           }
          ],
          "choropleth": [
           {
            "colorbar": {
             "outlinewidth": 0,
             "ticks": ""
            },
            "type": "choropleth"
           }
          ],
          "contour": [
           {
            "colorbar": {
             "outlinewidth": 0,
             "ticks": ""
            },
            "colorscale": [
             [
              0,
              "#0d0887"
             ],
             [
              0.1111111111111111,
              "#46039f"
             ],
             [
              0.2222222222222222,
              "#7201a8"
             ],
             [
              0.3333333333333333,
              "#9c179e"
             ],
             [
              0.4444444444444444,
              "#bd3786"
             ],
             [
              0.5555555555555556,
              "#d8576b"
             ],
             [
              0.6666666666666666,
              "#ed7953"
             ],
             [
              0.7777777777777778,
              "#fb9f3a"
             ],
             [
              0.8888888888888888,
              "#fdca26"
             ],
             [
              1,
              "#f0f921"
             ]
            ],
            "type": "contour"
           }
          ],
          "contourcarpet": [
           {
            "colorbar": {
             "outlinewidth": 0,
             "ticks": ""
            },
            "type": "contourcarpet"
           }
          ],
          "heatmap": [
           {
            "colorbar": {
             "outlinewidth": 0,
             "ticks": ""
            },
            "colorscale": [
             [
              0,
              "#0d0887"
             ],
             [
              0.1111111111111111,
              "#46039f"
             ],
             [
              0.2222222222222222,
              "#7201a8"
             ],
             [
              0.3333333333333333,
              "#9c179e"
             ],
             [
              0.4444444444444444,
              "#bd3786"
             ],
             [
              0.5555555555555556,
              "#d8576b"
             ],
             [
              0.6666666666666666,
              "#ed7953"
             ],
             [
              0.7777777777777778,
              "#fb9f3a"
             ],
             [
              0.8888888888888888,
              "#fdca26"
             ],
             [
              1,
              "#f0f921"
             ]
            ],
            "type": "heatmap"
           }
          ],
          "heatmapgl": [
           {
            "colorbar": {
             "outlinewidth": 0,
             "ticks": ""
            },
            "colorscale": [
             [
              0,
              "#0d0887"
             ],
             [
              0.1111111111111111,
              "#46039f"
             ],
             [
              0.2222222222222222,
              "#7201a8"
             ],
             [
              0.3333333333333333,
              "#9c179e"
             ],
             [
              0.4444444444444444,
              "#bd3786"
             ],
             [
              0.5555555555555556,
              "#d8576b"
             ],
             [
              0.6666666666666666,
              "#ed7953"
             ],
             [
              0.7777777777777778,
              "#fb9f3a"
             ],
             [
              0.8888888888888888,
              "#fdca26"
             ],
             [
              1,
              "#f0f921"
             ]
            ],
            "type": "heatmapgl"
           }
          ],
          "histogram": [
           {
            "marker": {
             "pattern": {
              "fillmode": "overlay",
              "size": 10,
              "solidity": 0.2
             }
            },
            "type": "histogram"
           }
          ],
          "histogram2d": [
           {
            "colorbar": {
             "outlinewidth": 0,
             "ticks": ""
            },
            "colorscale": [
             [
              0,
              "#0d0887"
             ],
             [
              0.1111111111111111,
              "#46039f"
             ],
             [
              0.2222222222222222,
              "#7201a8"
             ],
             [
              0.3333333333333333,
              "#9c179e"
             ],
             [
              0.4444444444444444,
              "#bd3786"
             ],
             [
              0.5555555555555556,
              "#d8576b"
             ],
             [
              0.6666666666666666,
              "#ed7953"
             ],
             [
              0.7777777777777778,
              "#fb9f3a"
             ],
             [
              0.8888888888888888,
              "#fdca26"
             ],
             [
              1,
              "#f0f921"
             ]
            ],
            "type": "histogram2d"
           }
          ],
          "histogram2dcontour": [
           {
            "colorbar": {
             "outlinewidth": 0,
             "ticks": ""
            },
            "colorscale": [
             [
              0,
              "#0d0887"
             ],
             [
              0.1111111111111111,
              "#46039f"
             ],
             [
              0.2222222222222222,
              "#7201a8"
             ],
             [
              0.3333333333333333,
              "#9c179e"
             ],
             [
              0.4444444444444444,
              "#bd3786"
             ],
             [
              0.5555555555555556,
              "#d8576b"
             ],
             [
              0.6666666666666666,
              "#ed7953"
             ],
             [
              0.7777777777777778,
              "#fb9f3a"
             ],
             [
              0.8888888888888888,
              "#fdca26"
             ],
             [
              1,
              "#f0f921"
             ]
            ],
            "type": "histogram2dcontour"
           }
          ],
          "mesh3d": [
           {
            "colorbar": {
             "outlinewidth": 0,
             "ticks": ""
            },
            "type": "mesh3d"
           }
          ],
          "parcoords": [
           {
            "line": {
             "colorbar": {
              "outlinewidth": 0,
              "ticks": ""
             }
            },
            "type": "parcoords"
           }
          ],
          "pie": [
           {
            "automargin": true,
            "type": "pie"
           }
          ],
          "scatter": [
           {
            "fillpattern": {
             "fillmode": "overlay",
             "size": 10,
             "solidity": 0.2
            },
            "type": "scatter"
           }
          ],
          "scatter3d": [
           {
            "line": {
             "colorbar": {
              "outlinewidth": 0,
              "ticks": ""
             }
            },
            "marker": {
             "colorbar": {
              "outlinewidth": 0,
              "ticks": ""
             }
            },
            "type": "scatter3d"
           }
          ],
          "scattercarpet": [
           {
            "marker": {
             "colorbar": {
              "outlinewidth": 0,
              "ticks": ""
             }
            },
            "type": "scattercarpet"
           }
          ],
          "scattergeo": [
           {
            "marker": {
             "colorbar": {
              "outlinewidth": 0,
              "ticks": ""
             }
            },
            "type": "scattergeo"
           }
          ],
          "scattergl": [
           {
            "marker": {
             "colorbar": {
              "outlinewidth": 0,
              "ticks": ""
             }
            },
            "type": "scattergl"
           }
          ],
          "scattermapbox": [
           {
            "marker": {
             "colorbar": {
              "outlinewidth": 0,
              "ticks": ""
             }
            },
            "type": "scattermapbox"
           }
          ],
          "scatterpolar": [
           {
            "marker": {
             "colorbar": {
              "outlinewidth": 0,
              "ticks": ""
             }
            },
            "type": "scatterpolar"
           }
          ],
          "scatterpolargl": [
           {
            "marker": {
             "colorbar": {
              "outlinewidth": 0,
              "ticks": ""
             }
            },
            "type": "scatterpolargl"
           }
          ],
          "scatterternary": [
           {
            "marker": {
             "colorbar": {
              "outlinewidth": 0,
              "ticks": ""
             }
            },
            "type": "scatterternary"
           }
          ],
          "surface": [
           {
            "colorbar": {
             "outlinewidth": 0,
             "ticks": ""
            },
            "colorscale": [
             [
              0,
              "#0d0887"
             ],
             [
              0.1111111111111111,
              "#46039f"
             ],
             [
              0.2222222222222222,
              "#7201a8"
             ],
             [
              0.3333333333333333,
              "#9c179e"
             ],
             [
              0.4444444444444444,
              "#bd3786"
             ],
             [
              0.5555555555555556,
              "#d8576b"
             ],
             [
              0.6666666666666666,
              "#ed7953"
             ],
             [
              0.7777777777777778,
              "#fb9f3a"
             ],
             [
              0.8888888888888888,
              "#fdca26"
             ],
             [
              1,
              "#f0f921"
             ]
            ],
            "type": "surface"
           }
          ],
          "table": [
           {
            "cells": {
             "fill": {
              "color": "#EBF0F8"
             },
             "line": {
              "color": "white"
             }
            },
            "header": {
             "fill": {
              "color": "#C8D4E3"
             },
             "line": {
              "color": "white"
             }
            },
            "type": "table"
           }
          ]
         },
         "layout": {
          "annotationdefaults": {
           "arrowcolor": "#2a3f5f",
           "arrowhead": 0,
           "arrowwidth": 1
          },
          "autotypenumbers": "strict",
          "coloraxis": {
           "colorbar": {
            "outlinewidth": 0,
            "ticks": ""
           }
          },
          "colorscale": {
           "diverging": [
            [
             0,
             "#8e0152"
            ],
            [
             0.1,
             "#c51b7d"
            ],
            [
             0.2,
             "#de77ae"
            ],
            [
             0.3,
             "#f1b6da"
            ],
            [
             0.4,
             "#fde0ef"
            ],
            [
             0.5,
             "#f7f7f7"
            ],
            [
             0.6,
             "#e6f5d0"
            ],
            [
             0.7,
             "#b8e186"
            ],
            [
             0.8,
             "#7fbc41"
            ],
            [
             0.9,
             "#4d9221"
            ],
            [
             1,
             "#276419"
            ]
           ],
           "sequential": [
            [
             0,
             "#0d0887"
            ],
            [
             0.1111111111111111,
             "#46039f"
            ],
            [
             0.2222222222222222,
             "#7201a8"
            ],
            [
             0.3333333333333333,
             "#9c179e"
            ],
            [
             0.4444444444444444,
             "#bd3786"
            ],
            [
             0.5555555555555556,
             "#d8576b"
            ],
            [
             0.6666666666666666,
             "#ed7953"
            ],
            [
             0.7777777777777778,
             "#fb9f3a"
            ],
            [
             0.8888888888888888,
             "#fdca26"
            ],
            [
             1,
             "#f0f921"
            ]
           ],
           "sequentialminus": [
            [
             0,
             "#0d0887"
            ],
            [
             0.1111111111111111,
             "#46039f"
            ],
            [
             0.2222222222222222,
             "#7201a8"
            ],
            [
             0.3333333333333333,
             "#9c179e"
            ],
            [
             0.4444444444444444,
             "#bd3786"
            ],
            [
             0.5555555555555556,
             "#d8576b"
            ],
            [
             0.6666666666666666,
             "#ed7953"
            ],
            [
             0.7777777777777778,
             "#fb9f3a"
            ],
            [
             0.8888888888888888,
             "#fdca26"
            ],
            [
             1,
             "#f0f921"
            ]
           ]
          },
          "colorway": [
           "#636efa",
           "#EF553B",
           "#00cc96",
           "#ab63fa",
           "#FFA15A",
           "#19d3f3",
           "#FF6692",
           "#B6E880",
           "#FF97FF",
           "#FECB52"
          ],
          "font": {
           "color": "#2a3f5f"
          },
          "geo": {
           "bgcolor": "white",
           "lakecolor": "white",
           "landcolor": "white",
           "showlakes": true,
           "showland": true,
           "subunitcolor": "#C8D4E3"
          },
          "hoverlabel": {
           "align": "left"
          },
          "hovermode": "closest",
          "mapbox": {
           "style": "light"
          },
          "paper_bgcolor": "white",
          "plot_bgcolor": "white",
          "polar": {
           "angularaxis": {
            "gridcolor": "#EBF0F8",
            "linecolor": "#EBF0F8",
            "ticks": ""
           },
           "bgcolor": "white",
           "radialaxis": {
            "gridcolor": "#EBF0F8",
            "linecolor": "#EBF0F8",
            "ticks": ""
           }
          },
          "scene": {
           "xaxis": {
            "backgroundcolor": "white",
            "gridcolor": "#DFE8F3",
            "gridwidth": 2,
            "linecolor": "#EBF0F8",
            "showbackground": true,
            "ticks": "",
            "zerolinecolor": "#EBF0F8"
           },
           "yaxis": {
            "backgroundcolor": "white",
            "gridcolor": "#DFE8F3",
            "gridwidth": 2,
            "linecolor": "#EBF0F8",
            "showbackground": true,
            "ticks": "",
            "zerolinecolor": "#EBF0F8"
           },
           "zaxis": {
            "backgroundcolor": "white",
            "gridcolor": "#DFE8F3",
            "gridwidth": 2,
            "linecolor": "#EBF0F8",
            "showbackground": true,
            "ticks": "",
            "zerolinecolor": "#EBF0F8"
           }
          },
          "shapedefaults": {
           "line": {
            "color": "#2a3f5f"
           }
          },
          "ternary": {
           "aaxis": {
            "gridcolor": "#DFE8F3",
            "linecolor": "#A2B1C6",
            "ticks": ""
           },
           "baxis": {
            "gridcolor": "#DFE8F3",
            "linecolor": "#A2B1C6",
            "ticks": ""
           },
           "bgcolor": "white",
           "caxis": {
            "gridcolor": "#DFE8F3",
            "linecolor": "#A2B1C6",
            "ticks": ""
           }
          },
          "title": {
           "x": 0.05
          },
          "xaxis": {
           "automargin": true,
           "gridcolor": "#EBF0F8",
           "linecolor": "#EBF0F8",
           "ticks": "",
           "title": {
            "standoff": 15
           },
           "zerolinecolor": "#EBF0F8",
           "zerolinewidth": 2
          },
          "yaxis": {
           "automargin": true,
           "gridcolor": "#EBF0F8",
           "linecolor": "#EBF0F8",
           "ticks": "",
           "title": {
            "standoff": 15
           },
           "zerolinecolor": "#EBF0F8",
           "zerolinewidth": 2
          }
         }
        },
        "title": {
         "text": "USA State-wise Combine Number of Confirmed, Deaths, Recovered, Active Cases"
        },
        "xaxis": {
         "anchor": "y",
         "autorange": true,
         "domain": [
          0,
          1
         ],
         "range": [
          -0.5,
          57.5
         ],
         "tickangle": -45,
         "title": {
          "text": "Province_State"
         },
         "type": "category"
        },
        "yaxis": {
         "anchor": "x",
         "autorange": true,
         "domain": [
          0,
          1
         ],
         "range": [
          0,
          2923131.5789473685
         ],
         "title": {
          "text": "Count"
         },
         "type": "linear"
        }
       }
      },
      "image/png": "[encoded data removed]",
      "text/html": [
       "<div>                            <div id=\"ab2b4388-e75e-45e0-9f3c-4fd7b6d80ec1\" class=\"plotly-graph-div\" style=\"height:600px; width:100%;\"></div>            <script type=\"text/javascript\">                require([\"plotly\"], function(Plotly) {                    window.PLOTLYENV=window.PLOTLYENV || {};                                    if (document.getElementById(\"ab2b4388-e75e-45e0-9f3c-4fd7b6d80ec1\")) {                    Plotly.newPlot(                        \"ab2b4388-e75e-45e0-9f3c-4fd7b6d80ec1\",                        [{\"alignmentgroup\":\"True\",\"hovertemplate\":\"Case Type=Confirmed\\u003cbr\\u003eState=%{x}\\u003cbr\\u003eCount=%{y}\\u003cextra\\u003e\\u003c\\u002fextra\\u003e\",\"legendgroup\":\"Confirmed\",\"marker\":{\"color\":\"#636efa\",\"pattern\":{\"shape\":\"\"}},\"name\":\"Confirmed\",\"offsetgroup\":\"Confirmed\",\"orientation\":\"v\",\"showlegend\":true,\"textposition\":\"auto\",\"x\":[\"Alabama\",\"Alaska\",\"Arizona\",\"Arkansas\",\"California\",\"Colorado\",\"Connecticut\",\"Delaware\",\"Diamond Princess\",\"District of Columbia\",\"Florida\",\"Georgia\",\"Grand Princess\",\"Guam\",\"Hawaii\",\"Idaho\",\"Illinois\",\"Indiana\",\"Iowa\",\"Kansas\",\"Kentucky\",\"Louisiana\",\"Maine\",\"Maryland\",\"Massachusetts\",\"Michigan\",\"Minnesota\",\"Mississippi\",\"Missouri\",\"Montana\",\"Nebraska\",\"Nevada\",\"New Hampshire\",\"New Jersey\",\"New Mexico\",\"New York\",\"North Carolina\",\"North Dakota\",\"Northern Mariana Islands\",\"Ohio\",\"Oklahoma\",\"Oregon\",\"Pennsylvania\",\"Puerto Rico\",\"Recovered\",\"Rhode Island\",\"South Carolina\",\"South Dakota\",\"Tennessee\",\"Texas\",\"Utah\",\"Vermont\",\"Virgin Islands\",\"Virginia\",\"Washington\",\"West Virginia\",\"Wisconsin\",\"Wyoming\"],\"xaxis\":\"x\",\"y\":[399150,49979,607345,251746,2776975,381434,205994,64475,49,31457,1464697,748852,103,7399,23897,149235,1024039,558560,296171,244347,300397,341431,29019,303364,427135,562553,434413,236868,477617,86102,175620,246309,52371,579250,154954,1119284,614355,93951,125,770977,325277,124476,721820,82630,0,97614,350084,102901,643181,1988676,303723,8790,2143,393715,271595,99778,548134,46719],\"yaxis\":\"y\",\"type\":\"bar\"},{\"alignmentgroup\":\"True\",\"hovertemplate\":\"Case Type=Deaths\\u003cbr\\u003eState=%{x}\\u003cbr\\u003eCount=%{y}\\u003cextra\\u003e\\u003c\\u002fextra\\u003e\",\"legendgroup\":\"Deaths\",\"marker\":{\"color\":\"#EF553B\",\"pattern\":{\"shape\":\"\"}},\"name\":\"Deaths\",\"offsetgroup\":\"Deaths\",\"orientation\":\"v\",\"showlegend\":true,\"textposition\":\"auto\",\"x\":[\"Alabama\",\"Alaska\",\"Arizona\",\"Arkansas\",\"California\",\"Colorado\",\"Connecticut\",\"Delaware\",\"Diamond Princess\",\"District of Columbia\",\"Florida\",\"Georgia\",\"Grand Princess\",\"Guam\",\"Hawaii\",\"Idaho\",\"Illinois\",\"Indiana\",\"Iowa\",\"Kansas\",\"Kentucky\",\"Louisiana\",\"Maine\",\"Maryland\",\"Massachusetts\",\"Michigan\",\"Minnesota\",\"Mississippi\",\"Missouri\",\"Montana\",\"Nebraska\",\"Nevada\",\"New Hampshire\",\"New Jersey\",\"New Mexico\",\"New York\",\"North Carolina\",\"North Dakota\",\"Northern Mariana Islands\",\"Ohio\",\"Oklahoma\",\"Oregon\",\"Pennsylvania\",\"Puerto Rico\",\"Recovered\",\"Rhode Island\",\"South Carolina\",\"South Dakota\",\"Tennessee\",\"Texas\",\"Utah\",\"Vermont\",\"Virgin Islands\",\"Virginia\",\"Washington\",\"West Virginia\",\"Wisconsin\",\"Wyoming\"],\"xaxis\":\"x\",\"y\":[5299,224,10036,4010,29638,5600,6324,1128,0,813,22804,11457,3,124,308,1528,19210,10089,4127,3164,2876,7833,432,6246,11071,14145,5731,5146,6173,1054,1737,3450,862,19854,2732,39288,7425,1360,2,14899,2738,1603,17710,1616,0,2062,5758,1570,7704,30441,1390,156,24,5381,3698,1570,5567,489],\"yaxis\":\"y\",\"type\":\"bar\"}],                        {\"template\":{\"data\":{\"barpolar\":[{\"marker\":{\"line\":{\"color\":\"white\",\"width\":0.5},\"pattern\":{\"fillmode\":\"overlay\",\"size\":10,\"solidity\":0.2}},\"type\":\"barpolar\"}],\"bar\":[{\"error_x\":{\"color\":\"#2a3f5f\"},\"error_y\":{\"color\":\"#2a3f5f\"},\"marker\":{\"line\":{\"color\":\"white\",\"width\":0.5},\"pattern\":{\"fillmode\":\"overlay\",\"size\":10,\"solidity\":0.2}},\"type\":\"bar\"}],\"carpet\":[{\"aaxis\":{\"endlinecolor\":\"#2a3f5f\",\"gridcolor\":\"#C8D4E3\",\"linecolor\":\"#C8D4E3\",\"minorgridcolor\":\"#C8D4E3\",\"startlinecolor\":\"#2a3f5f\"},\"baxis\":{\"endlinecolor\":\"#2a3f5f\",\"gridcolor\":\"#C8D4E3\",\"linecolor\":\"#C8D4E3\",\"minorgridcolor\":\"#C8D4E3\",\"startlinecolor\":\"#2a3f5f\"},\"type\":\"carpet\"}],\"choropleth\":[{\"colorbar\":{\"outlinewidth\":0,\"ticks\":\"\"},\"type\":\"choropleth\"}],\"contourcarpet\":[{\"colorbar\":{\"outlinewidth\":0,\"ticks\":\"\"},\"type\":\"contourcarpet\"}],\"contour\":[{\"colorbar\":{\"outlinewidth\":0,\"ticks\":\"\"},\"colorscale\":[[0.0,\"#0d0887\"],[0.1111111111111111,\"#46039f\"],[0.2222222222222222,\"#7201a8\"],[0.3333333333333333,\"#9c179e\"],[0.4444444444444444,\"#bd3786\"],[0.5555555555555556,\"#d8576b\"],[0.6666666666666666,\"#ed7953\"],[0.7777777777777778,\"#fb9f3a\"],[0.8888888888888888,\"#fdca26\"],[1.0,\"#f0f921\"]],\"type\":\"contour\"}],\"heatmapgl\":[{\"colorbar\":{\"outlinewidth\":0,\"ticks\":\"\"},\"colorscale\":[[0.0,\"#0d0887\"],[0.1111111111111111,\"#46039f\"],[0.2222222222222222,\"#7201a8\"],[0.3333333333333333,\"#9c179e\"],[0.4444444444444444,\"#bd3786\"],[0.5555555555555556,\"#d8576b\"],[0.6666666666666666,\"#ed7953\"],[0.7777777777777778,\"#fb9f3a\"],[0.8888888888888888,\"#fdca26\"],[1.0,\"#f0f921\"]],\"type\":\"heatmapgl\"}],\"heatmap\":[{\"colorbar\":{\"outlinewidth\":0,\"ticks\":\"\"},\"colorscale\":[[0.0,\"#0d0887\"],[0.1111111111111111,\"#46039f\"],[0.2222222222222222,\"#7201a8\"],[0.3333333333333333,\"#9c179e\"],[0.4444444444444444,\"#bd3786\"],[0.5555555555555556,\"#d8576b\"],[0.6666666666666666,\"#ed7953\"],[0.7777777777777778,\"#fb9f3a\"],[0.8888888888888888,\"#fdca26\"],[1.0,\"#f0f921\"]],\"type\":\"heatmap\"}],\"histogram2dcontour\":[{\"colorbar\":{\"outlinewidth\":0,\"ticks\":\"\"},\"colorscale\":[[0.0,\"#0d0887\"],[0.1111111111111111,\"#46039f\"],[0.2222222222222222,\"#7201a8\"],[0.3333333333333333,\"#9c179e\"],[0.4444444444444444,\"#bd3786\"],[0.5555555555555556,\"#d8576b\"],[0.6666666666666666,\"#ed7953\"],[0.7777777777777778,\"#fb9f3a\"],[0.8888888888888888,\"#fdca26\"],[1.0,\"#f0f921\"]],\"type\":\"histogram2dcontour\"}],\"histogram2d\":[{\"colorbar\":{\"outlinewidth\":0,\"ticks\":\"\"},\"colorscale\":[[0.0,\"#0d0887\"],[0.1111111111111111,\"#46039f\"],[0.2222222222222222,\"#7201a8\"],[0.3333333333333333,\"#9c179e\"],[0.4444444444444444,\"#bd3786\"],[0.5555555555555556,\"#d8576b\"],[0.6666666666666666,\"#ed7953\"],[0.7777777777777778,\"#fb9f3a\"],[0.8888888888888888,\"#fdca26\"],[1.0,\"#f0f921\"]],\"type\":\"histogram2d\"}],\"histogram\":[{\"marker\":{\"pattern\":{\"fillmode\":\"overlay\",\"size\":10,\"solidity\":0.2}},\"type\":\"histogram\"}],\"mesh3d\":[{\"colorbar\":{\"outlinewidth\":0,\"ticks\":\"\"},\"type\":\"mesh3d\"}],\"parcoords\":[{\"line\":{\"colorbar\":{\"outlinewidth\":0,\"ticks\":\"\"}},\"type\":\"parcoords\"}],\"pie\":[{\"automargin\":true,\"type\":\"pie\"}],\"scatter3d\":[{\"line\":{\"colorbar\":{\"outlinewidth\":0,\"ticks\":\"\"}},\"marker\":{\"colorbar\":{\"outlinewidth\":0,\"ticks\":\"\"}},\"type\":\"scatter3d\"}],\"scattercarpet\":[{\"marker\":{\"colorbar\":{\"outlinewidth\":0,\"ticks\":\"\"}},\"type\":\"scattercarpet\"}],\"scattergeo\":[{\"marker\":{\"colorbar\":{\"outlinewidth\":0,\"ticks\":\"\"}},\"type\":\"scattergeo\"}],\"scattergl\":[{\"marker\":{\"colorbar\":{\"outlinewidth\":0,\"ticks\":\"\"}},\"type\":\"scattergl\"}],\"scattermapbox\":[{\"marker\":{\"colorbar\":{\"outlinewidth\":0,\"ticks\":\"\"}},\"type\":\"scattermapbox\"}],\"scatterpolargl\":[{\"marker\":{\"colorbar\":{\"outlinewidth\":0,\"ticks\":\"\"}},\"type\":\"scatterpolargl\"}],\"scatterpolar\":[{\"marker\":{\"colorbar\":{\"outlinewidth\":0,\"ticks\":\"\"}},\"type\":\"scatterpolar\"}],\"scatter\":[{\"fillpattern\":{\"fillmode\":\"overlay\",\"size\":10,\"solidity\":0.2},\"type\":\"scatter\"}],\"scatterternary\":[{\"marker\":{\"colorbar\":{\"outlinewidth\":0,\"ticks\":\"\"}},\"type\":\"scatterternary\"}],\"surface\":[{\"colorbar\":{\"outlinewidth\":0,\"ticks\":\"\"},\"colorscale\":[[0.0,\"#0d0887\"],[0.1111111111111111,\"#46039f\"],[0.2222222222222222,\"#7201a8\"],[0.3333333333333333,\"#9c179e\"],[0.4444444444444444,\"#bd3786\"],[0.5555555555555556,\"#d8576b\"],[0.6666666666666666,\"#ed7953\"],[0.7777777777777778,\"#fb9f3a\"],[0.8888888888888888,\"#fdca26\"],[1.0,\"#f0f921\"]],\"type\":\"surface\"}],\"table\":[{\"cells\":{\"fill\":{\"color\":\"#EBF0F8\"},\"line\":{\"color\":\"white\"}},\"header\":{\"fill\":{\"color\":\"#C8D4E3\"},\"line\":{\"color\":\"white\"}},\"type\":\"table\"}]},\"layout\":{\"annotationdefaults\":{\"arrowcolor\":\"#2a3f5f\",\"arrowhead\":0,\"arrowwidth\":1},\"autotypenumbers\":\"strict\",\"coloraxis\":{\"colorbar\":{\"outlinewidth\":0,\"ticks\":\"\"}},\"colorscale\":{\"diverging\":[[0,\"#8e0152\"],[0.1,\"#c51b7d\"],[0.2,\"#de77ae\"],[0.3,\"#f1b6da\"],[0.4,\"#fde0ef\"],[0.5,\"#f7f7f7\"],[0.6,\"#e6f5d0\"],[0.7,\"#b8e186\"],[0.8,\"#7fbc41\"],[0.9,\"#4d9221\"],[1,\"#276419\"]],\"sequential\":[[0.0,\"#0d0887\"],[0.1111111111111111,\"#46039f\"],[0.2222222222222222,\"#7201a8\"],[0.3333333333333333,\"#9c179e\"],[0.4444444444444444,\"#bd3786\"],[0.5555555555555556,\"#d8576b\"],[0.6666666666666666,\"#ed7953\"],[0.7777777777777778,\"#fb9f3a\"],[0.8888888888888888,\"#fdca26\"],[1.0,\"#f0f921\"]],\"sequentialminus\":[[0.0,\"#0d0887\"],[0.1111111111111111,\"#46039f\"],[0.2222222222222222,\"#7201a8\"],[0.3333333333333333,\"#9c179e\"],[0.4444444444444444,\"#bd3786\"],[0.5555555555555556,\"#d8576b\"],[0.6666666666666666,\"#ed7953\"],[0.7777777777777778,\"#fb9f3a\"],[0.8888888888888888,\"#fdca26\"],[1.0,\"#f0f921\"]]},\"colorway\":[\"#636efa\",\"#EF553B\",\"#00cc96\",\"#ab63fa\",\"#FFA15A\",\"#19d3f3\",\"#FF6692\",\"#B6E880\",\"#FF97FF\",\"#FECB52\"],\"font\":{\"color\":\"#2a3f5f\"},\"geo\":{\"bgcolor\":\"white\",\"lakecolor\":\"white\",\"landcolor\":\"white\",\"showlakes\":true,\"showland\":true,\"subunitcolor\":\"#C8D4E3\"},\"hoverlabel\":{\"align\":\"left\"},\"hovermode\":\"closest\",\"mapbox\":{\"style\":\"light\"},\"paper_bgcolor\":\"white\",\"plot_bgcolor\":\"white\",\"polar\":{\"angularaxis\":{\"gridcolor\":\"#EBF0F8\",\"linecolor\":\"#EBF0F8\",\"ticks\":\"\"},\"bgcolor\":\"white\",\"radialaxis\":{\"gridcolor\":\"#EBF0F8\",\"linecolor\":\"#EBF0F8\",\"ticks\":\"\"}},\"scene\":{\"xaxis\":{\"backgroundcolor\":\"white\",\"gridcolor\":\"#DFE8F3\",\"gridwidth\":2,\"linecolor\":\"#EBF0F8\",\"showbackground\":true,\"ticks\":\"\",\"zerolinecolor\":\"#EBF0F8\"},\"yaxis\":{\"backgroundcolor\":\"white\",\"gridcolor\":\"#DFE8F3\",\"gridwidth\":2,\"linecolor\":\"#EBF0F8\",\"showbackground\":true,\"ticks\":\"\",\"zerolinecolor\":\"#EBF0F8\"},\"zaxis\":{\"backgroundcolor\":\"white\",\"gridcolor\":\"#DFE8F3\",\"gridwidth\":2,\"linecolor\":\"#EBF0F8\",\"showbackground\":true,\"ticks\":\"\",\"zerolinecolor\":\"#EBF0F8\"}},\"shapedefaults\":{\"line\":{\"color\":\"#2a3f5f\"}},\"ternary\":{\"aaxis\":{\"gridcolor\":\"#DFE8F3\",\"linecolor\":\"#A2B1C6\",\"ticks\":\"\"},\"baxis\":{\"gridcolor\":\"#DFE8F3\",\"linecolor\":\"#A2B1C6\",\"ticks\":\"\"},\"bgcolor\":\"white\",\"caxis\":{\"gridcolor\":\"#DFE8F3\",\"linecolor\":\"#A2B1C6\",\"ticks\":\"\"}},\"title\":{\"x\":0.05},\"xaxis\":{\"automargin\":true,\"gridcolor\":\"#EBF0F8\",\"linecolor\":\"#EBF0F8\",\"ticks\":\"\",\"title\":{\"standoff\":15},\"zerolinecolor\":\"#EBF0F8\",\"zerolinewidth\":2},\"yaxis\":{\"automargin\":true,\"gridcolor\":\"#EBF0F8\",\"linecolor\":\"#EBF0F8\",\"ticks\":\"\",\"title\":{\"standoff\":15},\"zerolinecolor\":\"#EBF0F8\",\"zerolinewidth\":2}}},\"xaxis\":{\"anchor\":\"y\",\"domain\":[0.0,1.0],\"title\":{\"text\":\"Province_State\"},\"tickangle\":-45},\"yaxis\":{\"anchor\":\"x\",\"domain\":[0.0,1.0],\"title\":{\"text\":\"Count\"}},\"legend\":{\"title\":{\"text\":\"Case\"},\"tracegroupgap\":0},\"title\":{\"text\":\"USA State-wise Combine Number of Confirmed, Deaths, Recovered, Active Cases\"},\"barmode\":\"group\",\"height\":600},                        {\"responsive\": true}                    ).then(function(){\n",
       "                            \n",
       "var gd = document.getElementById('ab2b4388-e75e-45e0-9f3c-4fd7b6d80ec1');\n",
       "var x = new MutationObserver(function (mutations, observer) {{\n",
       "        var display = window.getComputedStyle(gd).display;\n",
       "        if (!display || display === 'none') {{\n",
       "            console.log([gd, 'removed!']);\n",
       "            Plotly.purge(gd);\n",
       "            observer.disconnect();\n",
       "        }}\n",
       "}});\n",
       "\n",
       "// Listen for the removal of the full notebook cells\n",
       "var notebookContainer = gd.closest('#notebook-container');\n",
       "if (notebookContainer) {{\n",
       "    x.observe(notebookContainer, {childList: true});\n",
       "}}\n",
       "\n",
       "// Listen for the clearing of the current output cell\n",
       "var outputEl = gd.closest('.output');\n",
       "if (outputEl) {{\n",
       "    x.observe(outputEl, {childList: true});\n",
       "}}\n",
       "\n",
       "                        })                };                });            </script>        </div>"
      ]
     },
     "metadata": {},
     "output_type": "display_data"
    }
   ],
   "source": [
    "import pandas as pd\n",
    "import plotly.express as px\n",
    "\n",
    "covid_data = pd.read_csv('https://raw.githubusercontent.com/CSSEGISandData/COVID-19/master/csse_covid_19_data/csse_covid_19_daily_reports/01-09-2021.csv')\n",
    "\n",
    "usa_data = covid_data[covid_data['Country_Region'] == 'US']\n",
    "\n",
    "state_summary = usa_data.groupby('Province_State')[['Confirmed', 'Deaths', 'Recovered', 'Active']].sum().reset_index()\n",
    "\n",
    "state_summary_melted = state_summary.melt(\n",
    "    id_vars='Province_State', \n",
    "    value_vars=['Confirmed', 'Deaths'], \n",
    "    var_name='Case', \n",
    "    value_name='Count'\n",
    ")\n",
    "\n",
    "fig = px.bar(\n",
    "    state_summary_melted, \n",
    "    x='Province_State', \n",
    "    y='Count', \n",
    "    color='Case', \n",
    "    title='USA State-wise Combine Number of Confirmed, Deaths, Recovered, Active Cases',\n",
    "    labels={'Province_State': 'State', 'Count': 'Count', 'Case': 'Case Type'},\n",
    "    height=600\n",
    ")\n",
    "\n",
    "fig.update_layout(\n",
    "    xaxis_title=\"Province_State\",\n",
    "    yaxis_title=\"Count\",\n",
    "    xaxis_tickangle=-45,  \n",
    "    legend_title=\"Case\",\n",
    "    barmode='group',\n",
    "    template=\"plotly_white\"  \n",
    ")\n",
    "\n",
    "fig.show()\n"
   ]
  },
  {
   "cell_type": "markdown",
   "metadata": {},
   "source": [
    "### Question 9"
   ]
  },
  {
   "cell_type": "markdown",
   "metadata": {},
   "source": [
    "### Plot Worldwide Confirmed Cases over time"
   ]
  },
  {
   "cell_type": "code",
   "execution_count": 174,
   "metadata": {},
   "outputs": [],
   "source": [
    "import plotly.express as px\n",
    "import plotly.io as pio"
   ]
  },
  {
   "cell_type": "code",
   "execution_count": 176,
   "metadata": {},
   "outputs": [
    {
     "data": {
      "application/vnd.plotly.v1+json": {
       "config": {
        "plotlyServerURL": "https://plot.ly"
       },
       "data": [
        {
         "hovertemplate": "Date=%{x}<br>Confirmed Cases=%{y}<extra></extra>",
         "legendgroup": "",
         "line": {
          "color": "#636efa",
          "dash": "solid"
         },
         "marker": {
          "symbol": "circle"
         },
         "mode": "lines",
         "name": "",
         "orientation": "v",
         "showlegend": false,
         "type": "scatter",
         "x": [
          "2020-08-04",
          "2020-08-07",
          "2020-12-21",
          "2021-01-08",
          "2021-01-10",
          "2021-04-02"
         ],
         "xaxis": "x",
         "y": [
          152,
          0,
          788,
          196,
          90023279,
          399
         ],
         "yaxis": "y"
        }
       ],
       "layout": {
        "autosize": true,
        "legend": {
         "tracegroupgap": 0
        },
        "template": {
         "data": {
          "bar": [
           {
            "error_x": {
             "color": "#2a3f5f"
            },
            "error_y": {
             "color": "#2a3f5f"
            },
            "marker": {
             "line": {
              "color": "white",
              "width": 0.5
             },
             "pattern": {
              "fillmode": "overlay",
              "size": 10,
              "solidity": 0.2
             }
            },
            "type": "bar"
           }
          ],
          "barpolar": [
           {
            "marker": {
             "line": {
              "color": "white",
              "width": 0.5
             },
             "pattern": {
              "fillmode": "overlay",
              "size": 10,
              "solidity": 0.2
             }
            },
            "type": "barpolar"
           }
          ],
          "carpet": [
           {
            "aaxis": {
             "endlinecolor": "#2a3f5f",
             "gridcolor": "#C8D4E3",
             "linecolor": "#C8D4E3",
             "minorgridcolor": "#C8D4E3",
             "startlinecolor": "#2a3f5f"
            },
            "baxis": {
             "endlinecolor": "#2a3f5f",
             "gridcolor": "#C8D4E3",
             "linecolor": "#C8D4E3",
             "minorgridcolor": "#C8D4E3",
             "startlinecolor": "#2a3f5f"
            },
            "type": "carpet"
           }
          ],
          "choropleth": [
           {
            "colorbar": {
             "outlinewidth": 0,
             "ticks": ""
            },
            "type": "choropleth"
           }
          ],
          "contour": [
           {
            "colorbar": {
             "outlinewidth": 0,
             "ticks": ""
            },
            "colorscale": [
             [
              0,
              "#0d0887"
             ],
             [
              0.1111111111111111,
              "#46039f"
             ],
             [
              0.2222222222222222,
              "#7201a8"
             ],
             [
              0.3333333333333333,
              "#9c179e"
             ],
             [
              0.4444444444444444,
              "#bd3786"
             ],
             [
              0.5555555555555556,
              "#d8576b"
             ],
             [
              0.6666666666666666,
              "#ed7953"
             ],
             [
              0.7777777777777778,
              "#fb9f3a"
             ],
             [
              0.8888888888888888,
              "#fdca26"
             ],
             [
              1,
              "#f0f921"
             ]
            ],
            "type": "contour"
           }
          ],
          "contourcarpet": [
           {
            "colorbar": {
             "outlinewidth": 0,
             "ticks": ""
            },
            "type": "contourcarpet"
           }
          ],
          "heatmap": [
           {
            "colorbar": {
             "outlinewidth": 0,
             "ticks": ""
            },
            "colorscale": [
             [
              0,
              "#0d0887"
             ],
             [
              0.1111111111111111,
              "#46039f"
             ],
             [
              0.2222222222222222,
              "#7201a8"
             ],
             [
              0.3333333333333333,
              "#9c179e"
             ],
             [
              0.4444444444444444,
              "#bd3786"
             ],
             [
              0.5555555555555556,
              "#d8576b"
             ],
             [
              0.6666666666666666,
              "#ed7953"
             ],
             [
              0.7777777777777778,
              "#fb9f3a"
             ],
             [
              0.8888888888888888,
              "#fdca26"
             ],
             [
              1,
              "#f0f921"
             ]
            ],
            "type": "heatmap"
           }
          ],
          "heatmapgl": [
           {
            "colorbar": {
             "outlinewidth": 0,
             "ticks": ""
            },
            "colorscale": [
             [
              0,
              "#0d0887"
             ],
             [
              0.1111111111111111,
              "#46039f"
             ],
             [
              0.2222222222222222,
              "#7201a8"
             ],
             [
              0.3333333333333333,
              "#9c179e"
             ],
             [
              0.4444444444444444,
              "#bd3786"
             ],
             [
              0.5555555555555556,
              "#d8576b"
             ],
             [
              0.6666666666666666,
              "#ed7953"
             ],
             [
              0.7777777777777778,
              "#fb9f3a"
             ],
             [
              0.8888888888888888,
              "#fdca26"
             ],
             [
              1,
              "#f0f921"
             ]
            ],
            "type": "heatmapgl"
           }
          ],
          "histogram": [
           {
            "marker": {
             "pattern": {
              "fillmode": "overlay",
              "size": 10,
              "solidity": 0.2
             }
            },
            "type": "histogram"
           }
          ],
          "histogram2d": [
           {
            "colorbar": {
             "outlinewidth": 0,
             "ticks": ""
            },
            "colorscale": [
             [
              0,
              "#0d0887"
             ],
             [
              0.1111111111111111,
              "#46039f"
             ],
             [
              0.2222222222222222,
              "#7201a8"
             ],
             [
              0.3333333333333333,
              "#9c179e"
             ],
             [
              0.4444444444444444,
              "#bd3786"
             ],
             [
              0.5555555555555556,
              "#d8576b"
             ],
             [
              0.6666666666666666,
              "#ed7953"
             ],
             [
              0.7777777777777778,
              "#fb9f3a"
             ],
             [
              0.8888888888888888,
              "#fdca26"
             ],
             [
              1,
              "#f0f921"
             ]
            ],
            "type": "histogram2d"
           }
          ],
          "histogram2dcontour": [
           {
            "colorbar": {
             "outlinewidth": 0,
             "ticks": ""
            },
            "colorscale": [
             [
              0,
              "#0d0887"
             ],
             [
              0.1111111111111111,
              "#46039f"
             ],
             [
              0.2222222222222222,
              "#7201a8"
             ],
             [
              0.3333333333333333,
              "#9c179e"
             ],
             [
              0.4444444444444444,
              "#bd3786"
             ],
             [
              0.5555555555555556,
              "#d8576b"
             ],
             [
              0.6666666666666666,
              "#ed7953"
             ],
             [
              0.7777777777777778,
              "#fb9f3a"
             ],
             [
              0.8888888888888888,
              "#fdca26"
             ],
             [
              1,
              "#f0f921"
             ]
            ],
            "type": "histogram2dcontour"
           }
          ],
          "mesh3d": [
           {
            "colorbar": {
             "outlinewidth": 0,
             "ticks": ""
            },
            "type": "mesh3d"
           }
          ],
          "parcoords": [
           {
            "line": {
             "colorbar": {
              "outlinewidth": 0,
              "ticks": ""
             }
            },
            "type": "parcoords"
           }
          ],
          "pie": [
           {
            "automargin": true,
            "type": "pie"
           }
          ],
          "scatter": [
           {
            "fillpattern": {
             "fillmode": "overlay",
             "size": 10,
             "solidity": 0.2
            },
            "type": "scatter"
           }
          ],
          "scatter3d": [
           {
            "line": {
             "colorbar": {
              "outlinewidth": 0,
              "ticks": ""
             }
            },
            "marker": {
             "colorbar": {
              "outlinewidth": 0,
              "ticks": ""
             }
            },
            "type": "scatter3d"
           }
          ],
          "scattercarpet": [
           {
            "marker": {
             "colorbar": {
              "outlinewidth": 0,
              "ticks": ""
             }
            },
            "type": "scattercarpet"
           }
          ],
          "scattergeo": [
           {
            "marker": {
             "colorbar": {
              "outlinewidth": 0,
              "ticks": ""
             }
            },
            "type": "scattergeo"
           }
          ],
          "scattergl": [
           {
            "marker": {
             "colorbar": {
              "outlinewidth": 0,
              "ticks": ""
             }
            },
            "type": "scattergl"
           }
          ],
          "scattermapbox": [
           {
            "marker": {
             "colorbar": {
              "outlinewidth": 0,
              "ticks": ""
             }
            },
            "type": "scattermapbox"
           }
          ],
          "scatterpolar": [
           {
            "marker": {
             "colorbar": {
              "outlinewidth": 0,
              "ticks": ""
             }
            },
            "type": "scatterpolar"
           }
          ],
          "scatterpolargl": [
           {
            "marker": {
             "colorbar": {
              "outlinewidth": 0,
              "ticks": ""
             }
            },
            "type": "scatterpolargl"
           }
          ],
          "scatterternary": [
           {
            "marker": {
             "colorbar": {
              "outlinewidth": 0,
              "ticks": ""
             }
            },
            "type": "scatterternary"
           }
          ],
          "surface": [
           {
            "colorbar": {
             "outlinewidth": 0,
             "ticks": ""
            },
            "colorscale": [
             [
              0,
              "#0d0887"
             ],
             [
              0.1111111111111111,
              "#46039f"
             ],
             [
              0.2222222222222222,
              "#7201a8"
             ],
             [
              0.3333333333333333,
              "#9c179e"
             ],
             [
              0.4444444444444444,
              "#bd3786"
             ],
             [
              0.5555555555555556,
              "#d8576b"
             ],
             [
              0.6666666666666666,
              "#ed7953"
             ],
             [
              0.7777777777777778,
              "#fb9f3a"
             ],
             [
              0.8888888888888888,
              "#fdca26"
             ],
             [
              1,
              "#f0f921"
             ]
            ],
            "type": "surface"
           }
          ],
          "table": [
           {
            "cells": {
             "fill": {
              "color": "#EBF0F8"
             },
             "line": {
              "color": "white"
             }
            },
            "header": {
             "fill": {
              "color": "#C8D4E3"
             },
             "line": {
              "color": "white"
             }
            },
            "type": "table"
           }
          ]
         },
         "layout": {
          "annotationdefaults": {
           "arrowcolor": "#2a3f5f",
           "arrowhead": 0,
           "arrowwidth": 1
          },
          "autotypenumbers": "strict",
          "coloraxis": {
           "colorbar": {
            "outlinewidth": 0,
            "ticks": ""
           }
          },
          "colorscale": {
           "diverging": [
            [
             0,
             "#8e0152"
            ],
            [
             0.1,
             "#c51b7d"
            ],
            [
             0.2,
             "#de77ae"
            ],
            [
             0.3,
             "#f1b6da"
            ],
            [
             0.4,
             "#fde0ef"
            ],
            [
             0.5,
             "#f7f7f7"
            ],
            [
             0.6,
             "#e6f5d0"
            ],
            [
             0.7,
             "#b8e186"
            ],
            [
             0.8,
             "#7fbc41"
            ],
            [
             0.9,
             "#4d9221"
            ],
            [
             1,
             "#276419"
            ]
           ],
           "sequential": [
            [
             0,
             "#0d0887"
            ],
            [
             0.1111111111111111,
             "#46039f"
            ],
            [
             0.2222222222222222,
             "#7201a8"
            ],
            [
             0.3333333333333333,
             "#9c179e"
            ],
            [
             0.4444444444444444,
             "#bd3786"
            ],
            [
             0.5555555555555556,
             "#d8576b"
            ],
            [
             0.6666666666666666,
             "#ed7953"
            ],
            [
             0.7777777777777778,
             "#fb9f3a"
            ],
            [
             0.8888888888888888,
             "#fdca26"
            ],
            [
             1,
             "#f0f921"
            ]
           ],
           "sequentialminus": [
            [
             0,
             "#0d0887"
            ],
            [
             0.1111111111111111,
             "#46039f"
            ],
            [
             0.2222222222222222,
             "#7201a8"
            ],
            [
             0.3333333333333333,
             "#9c179e"
            ],
            [
             0.4444444444444444,
             "#bd3786"
            ],
            [
             0.5555555555555556,
             "#d8576b"
            ],
            [
             0.6666666666666666,
             "#ed7953"
            ],
            [
             0.7777777777777778,
             "#fb9f3a"
            ],
            [
             0.8888888888888888,
             "#fdca26"
            ],
            [
             1,
             "#f0f921"
            ]
           ]
          },
          "colorway": [
           "#636efa",
           "#EF553B",
           "#00cc96",
           "#ab63fa",
           "#FFA15A",
           "#19d3f3",
           "#FF6692",
           "#B6E880",
           "#FF97FF",
           "#FECB52"
          ],
          "font": {
           "color": "#2a3f5f"
          },
          "geo": {
           "bgcolor": "white",
           "lakecolor": "white",
           "landcolor": "white",
           "showlakes": true,
           "showland": true,
           "subunitcolor": "#C8D4E3"
          },
          "hoverlabel": {
           "align": "left"
          },
          "hovermode": "closest",
          "mapbox": {
           "style": "light"
          },
          "paper_bgcolor": "white",
          "plot_bgcolor": "white",
          "polar": {
           "angularaxis": {
            "gridcolor": "#EBF0F8",
            "linecolor": "#EBF0F8",
            "ticks": ""
           },
           "bgcolor": "white",
           "radialaxis": {
            "gridcolor": "#EBF0F8",
            "linecolor": "#EBF0F8",
            "ticks": ""
           }
          },
          "scene": {
           "xaxis": {
            "backgroundcolor": "white",
            "gridcolor": "#DFE8F3",
            "gridwidth": 2,
            "linecolor": "#EBF0F8",
            "showbackground": true,
            "ticks": "",
            "zerolinecolor": "#EBF0F8"
           },
           "yaxis": {
            "backgroundcolor": "white",
            "gridcolor": "#DFE8F3",
            "gridwidth": 2,
            "linecolor": "#EBF0F8",
            "showbackground": true,
            "ticks": "",
            "zerolinecolor": "#EBF0F8"
           },
           "zaxis": {
            "backgroundcolor": "white",
            "gridcolor": "#DFE8F3",
            "gridwidth": 2,
            "linecolor": "#EBF0F8",
            "showbackground": true,
            "ticks": "",
            "zerolinecolor": "#EBF0F8"
           }
          },
          "shapedefaults": {
           "line": {
            "color": "#2a3f5f"
           }
          },
          "ternary": {
           "aaxis": {
            "gridcolor": "#DFE8F3",
            "linecolor": "#A2B1C6",
            "ticks": ""
           },
           "baxis": {
            "gridcolor": "#DFE8F3",
            "linecolor": "#A2B1C6",
            "ticks": ""
           },
           "bgcolor": "white",
           "caxis": {
            "gridcolor": "#DFE8F3",
            "linecolor": "#A2B1C6",
            "ticks": ""
           }
          },
          "title": {
           "x": 0.05
          },
          "xaxis": {
           "automargin": true,
           "gridcolor": "#EBF0F8",
           "linecolor": "#EBF0F8",
           "ticks": "",
           "title": {
            "standoff": 15
           },
           "zerolinecolor": "#EBF0F8",
           "zerolinewidth": 2
          },
          "yaxis": {
           "automargin": true,
           "gridcolor": "#EBF0F8",
           "linecolor": "#EBF0F8",
           "ticks": "",
           "title": {
            "standoff": 15
           },
           "zerolinecolor": "#EBF0F8",
           "zerolinewidth": 2
          }
         }
        },
        "title": {
         "text": "Worldwide Confirmed Novel Coronavirus (COVID-19) Cases Over Time"
        },
        "xaxis": {
         "anchor": "y",
         "autorange": true,
         "domain": [
          0,
          1
         ],
         "range": [
          "2020-08-04",
          "2021-04-02"
         ],
         "title": {
          "text": "Date"
         },
         "type": "date"
        },
        "yaxis": {
         "anchor": "x",
         "autorange": true,
         "domain": [
          0,
          1
         ],
         "range": [
          -5001293.277777778,
          95024572.27777778
         ],
         "title": {
          "text": "Confirmed Cases"
         },
         "type": "linear"
        }
       }
      },
      "image/png": "[encoded data removed]",
      "text/html": [
       "<div>                            <div id=\"c36d0369-87c3-4d6d-be73-79ddcef0663e\" class=\"plotly-graph-div\" style=\"height:600px; width:100%;\"></div>            <script type=\"text/javascript\">                require([\"plotly\"], function(Plotly) {                    window.PLOTLYENV=window.PLOTLYENV || {};                                    if (document.getElementById(\"c36d0369-87c3-4d6d-be73-79ddcef0663e\")) {                    Plotly.newPlot(                        \"c36d0369-87c3-4d6d-be73-79ddcef0663e\",                        [{\"hovertemplate\":\"Date=%{x}\\u003cbr\\u003eConfirmed Cases=%{y}\\u003cextra\\u003e\\u003c\\u002fextra\\u003e\",\"legendgroup\":\"\",\"line\":{\"color\":\"#636efa\",\"dash\":\"solid\"},\"marker\":{\"symbol\":\"circle\"},\"mode\":\"lines\",\"name\":\"\",\"orientation\":\"v\",\"showlegend\":false,\"x\":[\"2020-08-04\",\"2020-08-07\",\"2020-12-21\",\"2021-01-08\",\"2021-01-10\",\"2021-04-02\"],\"xaxis\":\"x\",\"y\":[152,0,788,196,90023279,399],\"yaxis\":\"y\",\"type\":\"scatter\"}],                        {\"template\":{\"data\":{\"barpolar\":[{\"marker\":{\"line\":{\"color\":\"white\",\"width\":0.5},\"pattern\":{\"fillmode\":\"overlay\",\"size\":10,\"solidity\":0.2}},\"type\":\"barpolar\"}],\"bar\":[{\"error_x\":{\"color\":\"#2a3f5f\"},\"error_y\":{\"color\":\"#2a3f5f\"},\"marker\":{\"line\":{\"color\":\"white\",\"width\":0.5},\"pattern\":{\"fillmode\":\"overlay\",\"size\":10,\"solidity\":0.2}},\"type\":\"bar\"}],\"carpet\":[{\"aaxis\":{\"endlinecolor\":\"#2a3f5f\",\"gridcolor\":\"#C8D4E3\",\"linecolor\":\"#C8D4E3\",\"minorgridcolor\":\"#C8D4E3\",\"startlinecolor\":\"#2a3f5f\"},\"baxis\":{\"endlinecolor\":\"#2a3f5f\",\"gridcolor\":\"#C8D4E3\",\"linecolor\":\"#C8D4E3\",\"minorgridcolor\":\"#C8D4E3\",\"startlinecolor\":\"#2a3f5f\"},\"type\":\"carpet\"}],\"choropleth\":[{\"colorbar\":{\"outlinewidth\":0,\"ticks\":\"\"},\"type\":\"choropleth\"}],\"contourcarpet\":[{\"colorbar\":{\"outlinewidth\":0,\"ticks\":\"\"},\"type\":\"contourcarpet\"}],\"contour\":[{\"colorbar\":{\"outlinewidth\":0,\"ticks\":\"\"},\"colorscale\":[[0.0,\"#0d0887\"],[0.1111111111111111,\"#46039f\"],[0.2222222222222222,\"#7201a8\"],[0.3333333333333333,\"#9c179e\"],[0.4444444444444444,\"#bd3786\"],[0.5555555555555556,\"#d8576b\"],[0.6666666666666666,\"#ed7953\"],[0.7777777777777778,\"#fb9f3a\"],[0.8888888888888888,\"#fdca26\"],[1.0,\"#f0f921\"]],\"type\":\"contour\"}],\"heatmapgl\":[{\"colorbar\":{\"outlinewidth\":0,\"ticks\":\"\"},\"colorscale\":[[0.0,\"#0d0887\"],[0.1111111111111111,\"#46039f\"],[0.2222222222222222,\"#7201a8\"],[0.3333333333333333,\"#9c179e\"],[0.4444444444444444,\"#bd3786\"],[0.5555555555555556,\"#d8576b\"],[0.6666666666666666,\"#ed7953\"],[0.7777777777777778,\"#fb9f3a\"],[0.8888888888888888,\"#fdca26\"],[1.0,\"#f0f921\"]],\"type\":\"heatmapgl\"}],\"heatmap\":[{\"colorbar\":{\"outlinewidth\":0,\"ticks\":\"\"},\"colorscale\":[[0.0,\"#0d0887\"],[0.1111111111111111,\"#46039f\"],[0.2222222222222222,\"#7201a8\"],[0.3333333333333333,\"#9c179e\"],[0.4444444444444444,\"#bd3786\"],[0.5555555555555556,\"#d8576b\"],[0.6666666666666666,\"#ed7953\"],[0.7777777777777778,\"#fb9f3a\"],[0.8888888888888888,\"#fdca26\"],[1.0,\"#f0f921\"]],\"type\":\"heatmap\"}],\"histogram2dcontour\":[{\"colorbar\":{\"outlinewidth\":0,\"ticks\":\"\"},\"colorscale\":[[0.0,\"#0d0887\"],[0.1111111111111111,\"#46039f\"],[0.2222222222222222,\"#7201a8\"],[0.3333333333333333,\"#9c179e\"],[0.4444444444444444,\"#bd3786\"],[0.5555555555555556,\"#d8576b\"],[0.6666666666666666,\"#ed7953\"],[0.7777777777777778,\"#fb9f3a\"],[0.8888888888888888,\"#fdca26\"],[1.0,\"#f0f921\"]],\"type\":\"histogram2dcontour\"}],\"histogram2d\":[{\"colorbar\":{\"outlinewidth\":0,\"ticks\":\"\"},\"colorscale\":[[0.0,\"#0d0887\"],[0.1111111111111111,\"#46039f\"],[0.2222222222222222,\"#7201a8\"],[0.3333333333333333,\"#9c179e\"],[0.4444444444444444,\"#bd3786\"],[0.5555555555555556,\"#d8576b\"],[0.6666666666666666,\"#ed7953\"],[0.7777777777777778,\"#fb9f3a\"],[0.8888888888888888,\"#fdca26\"],[1.0,\"#f0f921\"]],\"type\":\"histogram2d\"}],\"histogram\":[{\"marker\":{\"pattern\":{\"fillmode\":\"overlay\",\"size\":10,\"solidity\":0.2}},\"type\":\"histogram\"}],\"mesh3d\":[{\"colorbar\":{\"outlinewidth\":0,\"ticks\":\"\"},\"type\":\"mesh3d\"}],\"parcoords\":[{\"line\":{\"colorbar\":{\"outlinewidth\":0,\"ticks\":\"\"}},\"type\":\"parcoords\"}],\"pie\":[{\"automargin\":true,\"type\":\"pie\"}],\"scatter3d\":[{\"line\":{\"colorbar\":{\"outlinewidth\":0,\"ticks\":\"\"}},\"marker\":{\"colorbar\":{\"outlinewidth\":0,\"ticks\":\"\"}},\"type\":\"scatter3d\"}],\"scattercarpet\":[{\"marker\":{\"colorbar\":{\"outlinewidth\":0,\"ticks\":\"\"}},\"type\":\"scattercarpet\"}],\"scattergeo\":[{\"marker\":{\"colorbar\":{\"outlinewidth\":0,\"ticks\":\"\"}},\"type\":\"scattergeo\"}],\"scattergl\":[{\"marker\":{\"colorbar\":{\"outlinewidth\":0,\"ticks\":\"\"}},\"type\":\"scattergl\"}],\"scattermapbox\":[{\"marker\":{\"colorbar\":{\"outlinewidth\":0,\"ticks\":\"\"}},\"type\":\"scattermapbox\"}],\"scatterpolargl\":[{\"marker\":{\"colorbar\":{\"outlinewidth\":0,\"ticks\":\"\"}},\"type\":\"scatterpolargl\"}],\"scatterpolar\":[{\"marker\":{\"colorbar\":{\"outlinewidth\":0,\"ticks\":\"\"}},\"type\":\"scatterpolar\"}],\"scatter\":[{\"fillpattern\":{\"fillmode\":\"overlay\",\"size\":10,\"solidity\":0.2},\"type\":\"scatter\"}],\"scatterternary\":[{\"marker\":{\"colorbar\":{\"outlinewidth\":0,\"ticks\":\"\"}},\"type\":\"scatterternary\"}],\"surface\":[{\"colorbar\":{\"outlinewidth\":0,\"ticks\":\"\"},\"colorscale\":[[0.0,\"#0d0887\"],[0.1111111111111111,\"#46039f\"],[0.2222222222222222,\"#7201a8\"],[0.3333333333333333,\"#9c179e\"],[0.4444444444444444,\"#bd3786\"],[0.5555555555555556,\"#d8576b\"],[0.6666666666666666,\"#ed7953\"],[0.7777777777777778,\"#fb9f3a\"],[0.8888888888888888,\"#fdca26\"],[1.0,\"#f0f921\"]],\"type\":\"surface\"}],\"table\":[{\"cells\":{\"fill\":{\"color\":\"#EBF0F8\"},\"line\":{\"color\":\"white\"}},\"header\":{\"fill\":{\"color\":\"#C8D4E3\"},\"line\":{\"color\":\"white\"}},\"type\":\"table\"}]},\"layout\":{\"annotationdefaults\":{\"arrowcolor\":\"#2a3f5f\",\"arrowhead\":0,\"arrowwidth\":1},\"autotypenumbers\":\"strict\",\"coloraxis\":{\"colorbar\":{\"outlinewidth\":0,\"ticks\":\"\"}},\"colorscale\":{\"diverging\":[[0,\"#8e0152\"],[0.1,\"#c51b7d\"],[0.2,\"#de77ae\"],[0.3,\"#f1b6da\"],[0.4,\"#fde0ef\"],[0.5,\"#f7f7f7\"],[0.6,\"#e6f5d0\"],[0.7,\"#b8e186\"],[0.8,\"#7fbc41\"],[0.9,\"#4d9221\"],[1,\"#276419\"]],\"sequential\":[[0.0,\"#0d0887\"],[0.1111111111111111,\"#46039f\"],[0.2222222222222222,\"#7201a8\"],[0.3333333333333333,\"#9c179e\"],[0.4444444444444444,\"#bd3786\"],[0.5555555555555556,\"#d8576b\"],[0.6666666666666666,\"#ed7953\"],[0.7777777777777778,\"#fb9f3a\"],[0.8888888888888888,\"#fdca26\"],[1.0,\"#f0f921\"]],\"sequentialminus\":[[0.0,\"#0d0887\"],[0.1111111111111111,\"#46039f\"],[0.2222222222222222,\"#7201a8\"],[0.3333333333333333,\"#9c179e\"],[0.4444444444444444,\"#bd3786\"],[0.5555555555555556,\"#d8576b\"],[0.6666666666666666,\"#ed7953\"],[0.7777777777777778,\"#fb9f3a\"],[0.8888888888888888,\"#fdca26\"],[1.0,\"#f0f921\"]]},\"colorway\":[\"#636efa\",\"#EF553B\",\"#00cc96\",\"#ab63fa\",\"#FFA15A\",\"#19d3f3\",\"#FF6692\",\"#B6E880\",\"#FF97FF\",\"#FECB52\"],\"font\":{\"color\":\"#2a3f5f\"},\"geo\":{\"bgcolor\":\"white\",\"lakecolor\":\"white\",\"landcolor\":\"white\",\"showlakes\":true,\"showland\":true,\"subunitcolor\":\"#C8D4E3\"},\"hoverlabel\":{\"align\":\"left\"},\"hovermode\":\"closest\",\"mapbox\":{\"style\":\"light\"},\"paper_bgcolor\":\"white\",\"plot_bgcolor\":\"white\",\"polar\":{\"angularaxis\":{\"gridcolor\":\"#EBF0F8\",\"linecolor\":\"#EBF0F8\",\"ticks\":\"\"},\"bgcolor\":\"white\",\"radialaxis\":{\"gridcolor\":\"#EBF0F8\",\"linecolor\":\"#EBF0F8\",\"ticks\":\"\"}},\"scene\":{\"xaxis\":{\"backgroundcolor\":\"white\",\"gridcolor\":\"#DFE8F3\",\"gridwidth\":2,\"linecolor\":\"#EBF0F8\",\"showbackground\":true,\"ticks\":\"\",\"zerolinecolor\":\"#EBF0F8\"},\"yaxis\":{\"backgroundcolor\":\"white\",\"gridcolor\":\"#DFE8F3\",\"gridwidth\":2,\"linecolor\":\"#EBF0F8\",\"showbackground\":true,\"ticks\":\"\",\"zerolinecolor\":\"#EBF0F8\"},\"zaxis\":{\"backgroundcolor\":\"white\",\"gridcolor\":\"#DFE8F3\",\"gridwidth\":2,\"linecolor\":\"#EBF0F8\",\"showbackground\":true,\"ticks\":\"\",\"zerolinecolor\":\"#EBF0F8\"}},\"shapedefaults\":{\"line\":{\"color\":\"#2a3f5f\"}},\"ternary\":{\"aaxis\":{\"gridcolor\":\"#DFE8F3\",\"linecolor\":\"#A2B1C6\",\"ticks\":\"\"},\"baxis\":{\"gridcolor\":\"#DFE8F3\",\"linecolor\":\"#A2B1C6\",\"ticks\":\"\"},\"bgcolor\":\"white\",\"caxis\":{\"gridcolor\":\"#DFE8F3\",\"linecolor\":\"#A2B1C6\",\"ticks\":\"\"}},\"title\":{\"x\":0.05},\"xaxis\":{\"automargin\":true,\"gridcolor\":\"#EBF0F8\",\"linecolor\":\"#EBF0F8\",\"ticks\":\"\",\"title\":{\"standoff\":15},\"zerolinecolor\":\"#EBF0F8\",\"zerolinewidth\":2},\"yaxis\":{\"automargin\":true,\"gridcolor\":\"#EBF0F8\",\"linecolor\":\"#EBF0F8\",\"ticks\":\"\",\"title\":{\"standoff\":15},\"zerolinecolor\":\"#EBF0F8\",\"zerolinewidth\":2}}},\"xaxis\":{\"anchor\":\"y\",\"domain\":[0.0,1.0],\"title\":{\"text\":\"Date\"}},\"yaxis\":{\"anchor\":\"x\",\"domain\":[0.0,1.0],\"title\":{\"text\":\"Confirmed Cases\"}},\"legend\":{\"tracegroupgap\":0},\"title\":{\"text\":\"Worldwide Confirmed Novel Coronavirus (COVID-19) Cases Over Time\"},\"height\":600},                        {\"responsive\": true}                    ).then(function(){\n",
       "                            \n",
       "var gd = document.getElementById('c36d0369-87c3-4d6d-be73-79ddcef0663e');\n",
       "var x = new MutationObserver(function (mutations, observer) {{\n",
       "        var display = window.getComputedStyle(gd).display;\n",
       "        if (!display || display === 'none') {{\n",
       "            console.log([gd, 'removed!']);\n",
       "            Plotly.purge(gd);\n",
       "            observer.disconnect();\n",
       "        }}\n",
       "}});\n",
       "\n",
       "// Listen for the removal of the full notebook cells\n",
       "var notebookContainer = gd.closest('#notebook-container');\n",
       "if (notebookContainer) {{\n",
       "    x.observe(notebookContainer, {childList: true});\n",
       "}}\n",
       "\n",
       "// Listen for the clearing of the current output cell\n",
       "var outputEl = gd.closest('.output');\n",
       "if (outputEl) {{\n",
       "    x.observe(outputEl, {childList: true});\n",
       "}}\n",
       "\n",
       "                        })                };                });            </script>        </div>"
      ]
     },
     "metadata": {},
     "output_type": "display_data"
    }
   ],
   "source": [
    "global_confirmed = covid_data.groupby(covid_data['Last_Update'].dt.date)['Confirmed'].sum().reset_index()\n",
    "\n",
    "# Rename columns for better readability\n",
    "global_confirmed.columns = ['Date', 'Confirmed']\n",
    "\n",
    "# Create the line plot using plotly.express\n",
    "fig = px.line(\n",
    "    global_confirmed,\n",
    "    x='Date',\n",
    "    y='Confirmed',\n",
    "    title='Worldwide Confirmed Novel Coronavirus (COVID-19) Cases Over Time',\n",
    "    labels={'Date': 'Date', 'Confirmed': 'Confirmed Cases'},\n",
    "    height=600\n",
    ")\n",
    "\n",
    "# Customize the layout\n",
    "fig.update_layout(\n",
    "    xaxis_title=\"Date\",\n",
    "    yaxis_title=\"Confirmed Cases\",\n",
    "    template=\"plotly_white\"  # White background template\n",
    ")\n",
    "\n",
    "# Display the plot using plotly.io\n",
    "pio.show(fig)"
   ]
  },
  {
   "cell_type": "code",
   "execution_count": null,
   "metadata": {},
   "outputs": [],
   "source": []
  }
 ],
 "metadata": {
  "kernelspec": {
   "display_name": "Python [conda env:base] *",
   "language": "python",
   "name": "conda-base-py"
  },
  "language_info": {
   "codemirror_mode": {
    "name": "ipython",
    "version": 3
   },
   "file_extension": ".py",
   "mimetype": "text/x-python",
   "name": "python",
   "nbconvert_exporter": "python",
   "pygments_lexer": "ipython3",
   "version": "3.12.7"
  }
 },
 "nbformat": 4,
 "nbformat_minor": 4
}
