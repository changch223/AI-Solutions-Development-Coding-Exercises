{
 "cells": [
  {
   "cell_type": "markdown",
   "metadata": {},
   "source": [
    "<p style=\"font-family: Arial; font-size:3em;color:black;\"> Lab Exercise 6</p>"
   ]
  },
  {
   "cell_type": "code",
   "execution_count": 35,
   "metadata": {},
   "outputs": [],
   "source": [
    "#Group1:\n",
    "#Bikash Giri (101575097)\n",
    "#Chia-Wei Chang (101570243)\n",
    "#Diparshan Bhattarai (101494737)\n",
    "#Hsi-Teng Liu (101576074)\n",
    "#Gavriel Kirichenko (101119609)\n",
    "#Abdul-Rasaq Omisesan (101571156)\n",
    "#Callum Arul (101585383)\n",
    "#Friba Hussainyar (101591222)"
   ]
  },
  {
   "cell_type": "code",
   "execution_count": 33,
   "metadata": {},
   "outputs": [],
   "source": [
    "# you can download the original Kyphosis dataset from kaggle at https://www.kaggle.com/abbasit/kyphosis-dataset?select=kyphosis.csv\n",
    "\n",
    "import pandas as pd\n",
    "import numpy as np\n",
    "import matplotlib.pyplot as plt\n",
    "%matplotlib inline"
   ]
  },
  {
   "cell_type": "code",
   "execution_count": 17,
   "metadata": {},
   "outputs": [],
   "source": [
    "Kyphosis_df = pd.read_csv('kyphosis.csv')"
   ]
  },
  {
   "cell_type": "code",
   "execution_count": 19,
   "metadata": {},
   "outputs": [],
   "source": [
    "from sklearn.model_selection import train_test_split"
   ]
  },
  {
   "cell_type": "code",
   "execution_count": 21,
   "metadata": {},
   "outputs": [],
   "source": [
    "X = Kyphosis_df.drop('Kyphosis',axis=1)\n",
    "y = Kyphosis_df['Kyphosis']"
   ]
  },
  {
   "cell_type": "code",
   "execution_count": 23,
   "metadata": {},
   "outputs": [],
   "source": [
    "X_train, X_test, y_train, y_test = train_test_split(X, y, test_size=0.30)"
   ]
  },
  {
   "cell_type": "code",
   "execution_count": 25,
   "metadata": {},
   "outputs": [],
   "source": [
    "from sklearn.tree import DecisionTreeClassifier"
   ]
  },
  {
   "cell_type": "code",
   "execution_count": 27,
   "metadata": {},
   "outputs": [
    {
     "data": {
      "text/plain": [
       "\"\\nDecisionTreeClassifier(\\n    criterion='gini',\\n    splitter='best',\\n    max_depth=None,\\n    min_samples_split=2,\\n    min_samples_leaf=1,\\n    min_weight_fraction_leaf=0.0,\\n    max_features=None,\\n    random_state=None,\\n    max_leaf_nodes=None,\\n    min_impurity_decrease=0.0,\\n    min_impurity_split=None,\\n    class_weight=None,\\n    presort=False,\\n)\\n\""
      ]
     },
     "execution_count": 27,
     "metadata": {},
     "output_type": "execute_result"
    }
   ],
   "source": [
    "# selecting the right \"parameters/hyperparameters of ML models can significantly affect their performacnce\".\n",
    "# let's begin exploring those parameters more for a DT model.\n",
    "'''\n",
    "DecisionTreeClassifier(\n",
    "    criterion='gini',\n",
    "    splitter='best',\n",
    "    max_depth=None,\n",
    "    min_samples_split=2,\n",
    "    min_samples_leaf=1,\n",
    "    min_weight_fraction_leaf=0.0,\n",
    "    max_features=None,\n",
    "    random_state=None,\n",
    "    max_leaf_nodes=None,\n",
    "    min_impurity_decrease=0.0,\n",
    "    min_impurity_split=None,\n",
    "    class_weight=None,\n",
    "    presort=False,\n",
    ")\n",
    "'''\n",
    "# Let's consider these three parameters: criterion, splitter, min_samples_split\n",
    "    # for parameters consider two cases 'gini' and 'entropy'\n",
    "    # for splitter consider two cases 'best' and 'random'\n",
    "    # for min_samples_split consider two cases 2 and 5\n",
    "    # explain and dicuss your findings"
   ]
  },
  {
   "cell_type": "code",
   "execution_count": 31,
   "metadata": {},
   "outputs": [
    {
     "name": "stdout",
     "output_type": "stream",
     "text": [
      "{'criterion': 'gini', 'splitter': 'best', 'min_samples_split': 2, 'accuracy': 0.76}\n",
      "{'criterion': 'gini', 'splitter': 'best', 'min_samples_split': 5, 'accuracy': 0.72}\n",
      "{'criterion': 'gini', 'splitter': 'random', 'min_samples_split': 2, 'accuracy': 0.72}\n",
      "{'criterion': 'gini', 'splitter': 'random', 'min_samples_split': 5, 'accuracy': 0.76}\n",
      "{'criterion': 'entropy', 'splitter': 'best', 'min_samples_split': 2, 'accuracy': 0.72}\n",
      "{'criterion': 'entropy', 'splitter': 'best', 'min_samples_split': 5, 'accuracy': 0.72}\n",
      "{'criterion': 'entropy', 'splitter': 'random', 'min_samples_split': 2, 'accuracy': 0.72}\n",
      "{'criterion': 'entropy', 'splitter': 'random', 'min_samples_split': 5, 'accuracy': 0.76}\n"
     ]
    }
   ],
   "source": [
    "from sklearn.metrics import confusion_matrix, accuracy_score\n",
    "\n",
    "combos = [\n",
    "    ('gini', 'best', 2),\n",
    "    ('gini', 'best', 5),\n",
    "    ('gini', 'random', 2),\n",
    "    ('gini', 'random', 5),\n",
    "    ('entropy', 'best', 2),\n",
    "    ('entropy', 'best', 5),\n",
    "    ('entropy', 'random', 2),\n",
    "    ('entropy', 'random', 5)\n",
    "]\n",
    "\n",
    "results = []\n",
    "\n",
    "for crit, split, mss in combos:\n",
    "    clf = DecisionTreeClassifier(\n",
    "        criterion=crit,\n",
    "        splitter=split,\n",
    "        min_samples_split=mss,\n",
    "        random_state=42  \n",
    "    )\n",
    "    clf.fit(X_train, y_train)\n",
    "    y_pred = clf.predict(X_test)\n",
    "    acc = accuracy_score(y_test, y_pred)\n",
    "    \n",
    "    results.append({\n",
    "        'criterion': crit,\n",
    "        'splitter': split,\n",
    "        'min_samples_split': mss,\n",
    "        'accuracy': acc\n",
    "    })\n",
    "\n",
    "\n",
    "for r in results:\n",
    "    print(r)\n"
   ]
  },
  {
   "cell_type": "code",
   "execution_count": null,
   "metadata": {},
   "outputs": [],
   "source": [
    "#1. The difference between Gini and entropy is small, and they give the similar result.\n",
    "#2. Using random selection leads to higher accuracy.\n",
    "#3. Setting min_samples_split=5 leads to higher accuracy."
   ]
  },
  {
   "cell_type": "code",
   "execution_count": null,
   "metadata": {},
   "outputs": [],
   "source": []
  }
 ],
 "metadata": {
  "kernelspec": {
   "display_name": "Python [conda env:base] *",
   "language": "python",
   "name": "conda-base-py"
  },
  "language_info": {
   "codemirror_mode": {
    "name": "ipython",
    "version": 3
   },
   "file_extension": ".py",
   "mimetype": "text/x-python",
   "name": "python",
   "nbconvert_exporter": "python",
   "pygments_lexer": "ipython3",
   "version": "3.12.7"
  }
 },
 "nbformat": 4,
 "nbformat_minor": 4
}
