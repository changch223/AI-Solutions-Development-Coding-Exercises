{
 "cells": [
  {
   "cell_type": "code",
   "execution_count": 9,
   "id": "a8cec8e5-a2e2-42c1-b97c-032ca01d9403",
   "metadata": {},
   "outputs": [],
   "source": [
    "from functools import partial\n",
    "from itertools import chain\n",
    "from math import log10"
   ]
  },
  {
   "cell_type": "code",
   "execution_count": 11,
   "id": "f7cca232-2a32-4b0c-bdc4-b75d3073aad5",
   "metadata": {},
   "outputs": [],
   "source": [
    "def idf(tokenized_docs, word):\n",
    "    dfx = sum(word in d for d in tokenized_docs)\n",
    "    return log10(len(tokenized_docs) / dfx)"
   ]
  },
  {
   "cell_type": "code",
   "execution_count": 13,
   "id": "19722a66-34de-4919-af46-9ce4c2bf43c7",
   "metadata": {},
   "outputs": [],
   "source": [
    "documents = [\n",
    "    \"college student\",\n",
    "    \"airport taxi driver\",\n",
    "    \"Toronto art museum\",\n",
    "    \"life art\",\n",
    "    \"machine learning student\"\n",
    "]"
   ]
  },
  {
   "cell_type": "markdown",
   "id": "e6c8d3dc-21cb-4929-8ab8-be8b44d0a2a8",
   "metadata": {},
   "source": [
    "# Number of Rows"
   ]
  },
  {
   "cell_type": "code",
   "execution_count": 16,
   "id": "95626e13-0fd1-42b0-8be7-fce6968b819b",
   "metadata": {},
   "outputs": [
    {
     "name": "stdout",
     "output_type": "stream",
     "text": [
      "There are  5 rows\n"
     ]
    }
   ],
   "source": [
    "print(\"There are \", len(documents), \"rows\")"
   ]
  },
  {
   "cell_type": "markdown",
   "id": "921d2a3a-b24f-402b-b1c6-71879eaf478c",
   "metadata": {},
   "source": [
    "# Number of Columns"
   ]
  },
  {
   "cell_type": "code",
   "execution_count": 31,
   "id": "d9fcc62a-d31a-4a6d-a531-e95e42eedd47",
   "metadata": {},
   "outputs": [],
   "source": [
    "tokenized = [d.lower().split(\" \") for d in documents]\n",
    "words = set(chain.from_iterable(tokenized))"
   ]
  },
  {
   "cell_type": "code",
   "execution_count": 21,
   "id": "f9e6baa3-59a7-4452-9b07-850eff84d03c",
   "metadata": {},
   "outputs": [
    {
     "name": "stdout",
     "output_type": "stream",
     "text": [
      "There are  11 columns\n"
     ]
    }
   ],
   "source": [
    "print(\"There are \", len(words), \"columns\")"
   ]
  },
  {
   "cell_type": "code",
   "execution_count": 23,
   "id": "05dcb430-7b49-4531-a158-90de6eeca199",
   "metadata": {},
   "outputs": [
    {
     "name": "stdout",
     "output_type": "stream",
     "text": [
      "Bag of words are\n",
      " {'art', 'machine', 'taxi', 'student', 'toronto', 'museum', 'airport', 'driver', 'college', 'learning', 'life'}\n"
     ]
    }
   ],
   "source": [
    "print(\"Bag of words are\\n\", words)"
   ]
  },
  {
   "cell_type": "code",
   "execution_count": 25,
   "id": "caebf456-9a3c-4422-9fcf-31b824583215",
   "metadata": {},
   "outputs": [],
   "source": [
    "calc_idf = partial(idf, tokenized)"
   ]
  },
  {
   "cell_type": "markdown",
   "id": "9064b6be-62b0-4cae-8c2f-377e4a3db4cf",
   "metadata": {},
   "source": [
    "# IDF for \"college\""
   ]
  },
  {
   "cell_type": "code",
   "execution_count": 27,
   "id": "ac3d8911-0fb4-4902-9538-b1c3e1ac0080",
   "metadata": {},
   "outputs": [
    {
     "name": "stdout",
     "output_type": "stream",
     "text": [
      "IDF for \"college\" is  0.6989700043360189\n"
     ]
    }
   ],
   "source": [
    "print('IDF for \"college\" is ', calc_idf(\"college\"))"
   ]
  },
  {
   "cell_type": "markdown",
   "id": "1e209f9c-01e6-41b2-a8ad-7d91be7120bc",
   "metadata": {},
   "source": [
    "# IDF for \"art\""
   ]
  },
  {
   "cell_type": "code",
   "execution_count": 29,
   "id": "49328805-737e-4ed4-a3ed-b8ddeb470198",
   "metadata": {},
   "outputs": [
    {
     "name": "stdout",
     "output_type": "stream",
     "text": [
      "IDF for \"art\" is  0.3979400086720376\n"
     ]
    }
   ],
   "source": [
    "print('IDF for \"art\" is ', calc_idf(\"art\"))"
   ]
  },
  {
   "cell_type": "code",
   "execution_count": null,
   "id": "b1fc42b9-fbc1-45bb-89da-779094e1dd2c",
   "metadata": {},
   "outputs": [],
   "source": []
  },
  {
   "cell_type": "code",
   "execution_count": null,
   "id": "62550c86-c3a5-4f79-8fc0-867380890292",
   "metadata": {},
   "outputs": [],
   "source": []
  },
  {
   "cell_type": "code",
   "execution_count": null,
   "id": "4aa99e31-76a6-49be-990e-fdfe95f09448",
   "metadata": {},
   "outputs": [],
   "source": []
  },
  {
   "cell_type": "code",
   "execution_count": null,
   "id": "b8528777-6f28-4d5c-96e7-5b009e2fa844",
   "metadata": {},
   "outputs": [],
   "source": []
  },
  {
   "cell_type": "code",
   "execution_count": 71,
   "id": "087b9684-074f-41e2-9033-a3f22318d34e",
   "metadata": {},
   "outputs": [
    {
     "name": "stdout",
     "output_type": "stream",
     "text": [
      "['airport' 'art' 'college' 'driver' 'learning' 'life' 'machine' 'museum'\n",
      " 'student' 'taxi' 'toronto']\n",
      "TF-IDF 矩阵：\n",
      "                          airport       art   college   driver  learning  \\\n",
      "college student           0.00000  0.000000  0.778283  0.00000  0.000000   \n",
      "airport taxi driver       0.57735  0.000000  0.000000  0.57735  0.000000   \n",
      "Toronto art museum        0.00000  0.495524  0.000000  0.00000  0.000000   \n",
      "life art                  0.00000  0.627914  0.000000  0.00000  0.000000   \n",
      "machine learning student  0.00000  0.000000  0.000000  0.00000  0.614189   \n",
      "\n",
      "                              life   machine    museum   student     taxi  \\\n",
      "college student           0.000000  0.000000  0.000000  0.627914  0.00000   \n",
      "airport taxi driver       0.000000  0.000000  0.000000  0.000000  0.57735   \n",
      "Toronto art museum        0.000000  0.000000  0.614189  0.000000  0.00000   \n",
      "life art                  0.778283  0.000000  0.000000  0.000000  0.00000   \n",
      "machine learning student  0.000000  0.614189  0.000000  0.495524  0.00000   \n",
      "\n",
      "                           toronto  \n",
      "college student           0.000000  \n",
      "airport taxi driver       0.000000  \n",
      "Toronto art museum        0.614189  \n",
      "life art                  0.000000  \n",
      "machine learning student  0.000000  \n",
      "\n",
      "IDF 值：\n",
      "'college': 2.09861228866811\n",
      "'art': 1.6931471805599454\n"
     ]
    }
   ],
   "source": [
    "from sklearn.feature_extraction.text import TfidfVectorizer\n",
    "\n",
    "# 定义短语\n",
    "phrases = [\n",
    "    \"college student\",\n",
    "    \"airport taxi driver\",\n",
    "    \"Toronto art museum\",\n",
    "    \"life art\",\n",
    "    \"machine learning student\"\n",
    "]\n",
    "\n",
    "# 初始化 TfidfVectorizer\n",
    "vectorizer = TfidfVectorizer()\n",
    "\n",
    "# 计算 TF-IDF 矩阵\n",
    "tfidf_matrix = vectorizer.fit_transform(phrases)\n",
    "\n",
    "# 获取单词列表\n",
    "words = vectorizer.get_feature_names_out()\n",
    "\n",
    "print(words)\n",
    "\n",
    "# 将结果转换为 DataFrame 方便查看\n",
    "import pandas as pd\n",
    "tfidf_df = pd.DataFrame(tfidf_matrix.toarray(), columns=words, index=phrases)\n",
    "\n",
    "print(\"TF-IDF 矩阵：\")\n",
    "print(tfidf_df)\n",
    "\n",
    "# 获取 IDF 值\n",
    "#idf_values = vectorizer.idf_\n",
    "#idf_dict = dict(zip(words, idf_values))\n",
    "\n",
    "log10_idf_dict = {word: idf / np.log(10) for word, idf in idf_dict.items()}\n",
    "\n",
    "# 输出 \"college\" 和 \"art\" 的 IDF 值\n",
    "print(\"\\nIDF 值：\")\n",
    "print(f\"'college': {idf_dict.get('college', 0)}\")\n",
    "print(f\"'art': {idf_dict.get('art', 0)}\")\n",
    "\n",
    "#print(\"\\n自然对数基底的 IDF 值：\")\n",
    "#print(idf_dict)\n",
    "\n",
    "#print(\"\\nlog10 基底的 IDF 值：\")\n",
    "#print(log10_idf_dict)\n",
    "\n",
    "\n",
    "from sklearn.feature_extraction.text import TfidfVectorizer\n",
    "\n",
    "class Log10TfidfVectorizer(TfidfVectorizer):\n",
    "    def _tfidf(self, X, log_base_10=True):\n",
    "        if log_base_10:\n",
    "            self._idf_diag = sp.diags([math.log10(1 + self.N_ / (1 + df)) for df in self._df],\n",
    "                                       offsets=0, format='csr', dtype=float)\n",
    "        return super()._tfidf(X)\n"
   ]
  },
  {
   "cell_type": "code",
   "execution_count": null,
   "id": "6f75a15c-31e5-4816-b18b-bd064626a8ca",
   "metadata": {},
   "outputs": [],
   "source": []
  }
 ],
 "metadata": {
  "kernelspec": {
   "display_name": "Python [conda env:base] *",
   "language": "python",
   "name": "conda-base-py"
  },
  "language_info": {
   "codemirror_mode": {
    "name": "ipython",
    "version": 3
   },
   "file_extension": ".py",
   "mimetype": "text/x-python",
   "name": "python",
   "nbconvert_exporter": "python",
   "pygments_lexer": "ipython3",
   "version": "3.12.7"
  }
 },
 "nbformat": 4,
 "nbformat_minor": 5
}
