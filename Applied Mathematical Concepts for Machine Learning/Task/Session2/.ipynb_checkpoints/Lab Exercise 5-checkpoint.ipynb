{
 "cells": [
  {
   "cell_type": "markdown",
   "metadata": {
    "jupyter": {
     "source_hidden": true
    }
   },
   "source": [
    "<p style=\"font-family: Arial; font-size:3em;color:black;\"> Lab Exercise 6</p>"
   ]
  },
  {
   "cell_type": "markdown",
   "metadata": {},
   "source": [
    "The process below shows how to implement a simple linear regression analysis for a vehicle pricing scenario. Re-run it and take note of the R-sqaured value. Then. change the std value in np.random.normal to 1, 5 and 10. Observe the change in R-sqaured. How do you explain the change in R-sqaured value?"
   ]
  },
  {
   "cell_type": "code",
   "execution_count": 67,
   "metadata": {},
   "outputs": [
    {
     "name": "stdout",
     "output_type": "stream",
     "text": [
      "Mean: 54968.00667206566\n",
      "Max: 75062.00923746852\n",
      "Min: 33853.45747520741\n",
      "Std: 9287.245983738461\n",
      "\n"
     ]
    },
    {
     "data": {
      "text/plain": [
       "<matplotlib.collections.PathCollection at 0x191082585c0>"
      ]
     },
     "execution_count": 67,
     "metadata": {},
     "output_type": "execute_result"
    }
   ],
   "source": [
    "%matplotlib inline\n",
    "import numpy as np\n",
    "import matplotlib.pyplot as plt\n",
    "from sklearn.linear_model import LinearRegression\n",
    "\n",
    "vehicle_age = np.random.uniform(0,10,1000)\n",
    "vehicle_price = 70000 - (vehicle_age + np.random.normal(0, 1, 1000)) * 3000\n",
    "\n",
    "print(f\"Mean: {np.mean(vehicle_price)}\")\n",
    "print(f\"Max: {np.max(vehicle_price)}\")\n",
    "print(f\"Min: {np.min(vehicle_price)}\")\n",
    "print(f\"Std: {np.std(vehicle_price)}\\n\")\n",
    "\n",
    "vehicle_age = vehicle_age.reshape(-1, 1)  #reshape for single feature, use (1,-1) for single sample\n",
    "vehicle_price = vehicle_price.reshape(-1, 1)\n",
    "\n",
    "plt.scatter(vehicle_age, vehicle_price)"
   ]
  },
  {
   "cell_type": "code",
   "execution_count": 61,
   "metadata": {},
   "outputs": [
    {
     "data": {
      "text/plain": [
       "0.8871379488618211"
      ]
     },
     "execution_count": 61,
     "metadata": {},
     "output_type": "execute_result"
    }
   ],
   "source": [
    "reg = LinearRegression().fit(vehicle_age, vehicle_price)\n",
    "reg.score(vehicle_age, vehicle_price)"
   ]
  },
  {
   "cell_type": "code",
   "execution_count": 63,
   "metadata": {},
   "outputs": [
    {
     "data": {
      "text/plain": [
       "0.22812136913976178"
      ]
     },
     "execution_count": 63,
     "metadata": {},
     "output_type": "execute_result"
    }
   ],
   "source": [
    "#np.random.normal 5 \n",
    "\n",
    "vehicle_age = np.random.uniform(0,10,1000)\n",
    "vehicle_price1 = 70000 - (vehicle_age + np.random.normal(0, 5, 1000)) * 3000\n",
    "\n",
    "vehicle_age = vehicle_age.reshape(-1, 1)  #reshape for single feature, use (1,-1) for single sample\n",
    "vehicle_price1 = vehicle_price1.reshape(-1, 1)\n",
    "\n",
    "reg1 = LinearRegression().fit(vehicle_age, vehicle_price1)\n",
    "reg1.score(vehicle_age, vehicle_price1)"
   ]
  },
  {
   "cell_type": "code",
   "execution_count": 65,
   "metadata": {},
   "outputs": [
    {
     "name": "stdout",
     "output_type": "stream",
     "text": [
      "Mean: 54479.33141968003\n",
      "Max: 115569.94882228228\n",
      "Min: -16010.0519650715\n",
      "Std: 17394.162345475048\n",
      "\n"
     ]
    }
   ],
   "source": [
    "vehicle_price1 = 70000 - (vehicle_age + np.random.normal(0, 5, 1000)) * 3000\n",
    "print(f\"Mean: {np.mean(vehicle_price1)}\")\n",
    "print(f\"Max: {np.max(vehicle_price1)}\")\n",
    "print(f\"Min: {np.min(vehicle_price1)}\")\n",
    "print(f\"Std: {np.std(vehicle_price1)}\\n\")"
   ]
  },
  {
   "cell_type": "code",
   "execution_count": 43,
   "metadata": {},
   "outputs": [
    {
     "data": {
      "text/plain": [
       "0.08625378696753416"
      ]
     },
     "execution_count": 43,
     "metadata": {},
     "output_type": "execute_result"
    }
   ],
   "source": [
    "#np.random.normal 10 \n",
    "\n",
    "vehicle_age = np.random.uniform(0,10,1000)\n",
    "vehicle_price2 = 70000 - (vehicle_age + np.random.normal(0, 10, 1000)) * 3000\n",
    "\n",
    "vehicle_age = vehicle_age.reshape(-1, 1)  #reshape for single feature, use (1,-1) for single sample\n",
    "vehicle_price2 = vehicle_price2.reshape(-1, 1)\n",
    "\n",
    "reg2 = LinearRegression().fit(vehicle_age, vehicle_price2)\n",
    "reg2.score(vehicle_age, vehicle_price2)"
   ]
  },
  {
   "cell_type": "code",
   "execution_count": 47,
   "metadata": {},
   "outputs": [
    {
     "name": "stdout",
     "output_type": "stream",
     "text": [
      "Mean: 54493.39973373634\n",
      "Max: 168099.22325112933\n",
      "Min: -51974.186646427945\n",
      "Std: 31612.90698290706\n",
      "\n"
     ]
    }
   ],
   "source": [
    "vehicle_price2 = 70000 - (vehicle_age + np.random.normal(0, 10, 1000)) * 3000\n",
    "print(f\"Mean: {np.mean(vehicle_price2)}\")\n",
    "print(f\"Max: {np.max(vehicle_price2)}\")\n",
    "print(f\"Min: {np.min(vehicle_price2)}\")\n",
    "print(f\"Std: {np.std(vehicle_price2)}\\n\")"
   ]
  },
  {
   "cell_type": "code",
   "execution_count": null,
   "metadata": {},
   "outputs": [],
   "source": [
    "#Observation\n",
    "#Increasing the standard deviation (𝜎) adds noise to the data, making it harder for the linear model to explain the relationship between vehicle_age and vehicle_price.\n",
    "#As noise increases, the R-squared value decreases, indicating a weaker fit."
   ]
  }
 ],
 "metadata": {
  "kernelspec": {
   "display_name": "Python [conda env:base] *",
   "language": "python",
   "name": "conda-base-py"
  },
  "language_info": {
   "codemirror_mode": {
    "name": "ipython",
    "version": 3
   },
   "file_extension": ".py",
   "mimetype": "text/x-python",
   "name": "python",
   "nbconvert_exporter": "python",
   "pygments_lexer": "ipython3",
   "version": "3.12.7"
  }
 },
 "nbformat": 4,
 "nbformat_minor": 4
}
