{
 "cells": [
  {
   "cell_type": "markdown",
   "metadata": {},
   "source": [
    "<p style=\"font-family: Arial; font-size:3em;color:black;\"> Lab Exercise 3 </p>"
   ]
  },
  {
   "cell_type": "code",
   "execution_count": null,
   "metadata": {},
   "outputs": [],
   "source": [
    "#Group1:\n",
    "#Bikash Giri (101575097)\n",
    "#Chia-Wei Chang (101570243)\n",
    "#Diparshan Bhattarai (101494737)\n",
    "#Hsi-Teng Liu (101576074)\n",
    "#Gavriel Kirichenko (101119609)\n",
    "#Abdul-Rasaq Omisesan (101571156)\n",
    "#Callum Arul (101585383)\n",
    "#Friba Hussainyar (101591222)"
   ]
  },
  {
   "cell_type": "code",
   "execution_count": 4,
   "metadata": {},
   "outputs": [],
   "source": [
    "import numpy as np\n",
    "from numpy.linalg import inv\n",
    "from numpy.linalg import det"
   ]
  },
  {
   "cell_type": "code",
   "execution_count": 6,
   "metadata": {},
   "outputs": [],
   "source": [
    "#Question1\n",
    "A = np.array([[5, 2, 3],\n",
    "              [6, 1, 3],\n",
    "              [2, 4, 1]])"
   ]
  },
  {
   "cell_type": "code",
   "execution_count": 14,
   "metadata": {},
   "outputs": [],
   "source": [
    "B = A[:2,:2]"
   ]
  },
  {
   "cell_type": "code",
   "execution_count": 24,
   "metadata": {},
   "outputs": [],
   "source": [
    "C = A[1:,1:]"
   ]
  },
  {
   "cell_type": "code",
   "execution_count": 26,
   "metadata": {},
   "outputs": [
    {
     "name": "stdout",
     "output_type": "stream",
     "text": [
      "[[5 2 3]\n",
      " [6 1 3]\n",
      " [2 4 1]]\n",
      "[[5 2]\n",
      " [6 1]]\n",
      "[[1 3]\n",
      " [4 1]]\n"
     ]
    }
   ],
   "source": [
    "print(A)\n",
    "print(B)\n",
    "print(C)"
   ]
  },
  {
   "cell_type": "code",
   "execution_count": 28,
   "metadata": {},
   "outputs": [],
   "source": [
    "#Question2\n",
    "D = np.array([[4, -7, 4],\n",
    "              [5, 6, -1],\n",
    "              [-4, 2, 5]])"
   ]
  },
  {
   "cell_type": "code",
   "execution_count": 30,
   "metadata": {},
   "outputs": [
    {
     "name": "stdout",
     "output_type": "stream",
     "text": [
      "[[ 4 -7  4]\n",
      " [ 5  6 -1]\n",
      " [-4  2  5]]\n"
     ]
    }
   ],
   "source": [
    "print(D)"
   ]
  },
  {
   "cell_type": "code",
   "execution_count": 40,
   "metadata": {},
   "outputs": [
    {
     "data": {
      "text/plain": [
       "array([[ 18, -17,  33],\n",
       "       [ 17, -30,  38],\n",
       "       [ 24,  12,   9]])"
      ]
     },
     "execution_count": 40,
     "metadata": {},
     "output_type": "execute_result"
    }
   ],
   "source": [
    "#Question3\n",
    "np.matmul(A, D)"
   ]
  },
  {
   "cell_type": "code",
   "execution_count": 34,
   "metadata": {},
   "outputs": [
    {
     "data": {
      "text/plain": [
       "array([[-14,  17,  -5],\n",
       "       [ 59,  12,  32],\n",
       "       [  2,  14,  -1]])"
      ]
     },
     "execution_count": 34,
     "metadata": {},
     "output_type": "execute_result"
    }
   ],
   "source": [
    "np.matmul(D, A)"
   ]
  },
  {
   "cell_type": "code",
   "execution_count": 72,
   "metadata": {},
   "outputs": [
    {
     "name": "stdout",
     "output_type": "stream",
     "text": [
      "Determinant  -7\n",
      "Inverse  ([-0.14285714285714285], [0.2857142857142857], [0.8571428571428571], [-0.7142857142857143])\n"
     ]
    }
   ],
   "source": [
    "#Question4\n",
    "# Manually calculate\n",
    "# Determinant Calculation B = ad−bc\n",
    "print( f\"Determinant  {5*1 - 2*6}\")\n",
    "\n",
    "# Inverse Calculation\n",
    "print( f\"Inverse  {[1/-7],[-2/-7],[6/7], [5/-7] }\" ) "
   ]
  },
  {
   "cell_type": "code",
   "execution_count": 74,
   "metadata": {},
   "outputs": [
    {
     "name": "stdout",
     "output_type": "stream",
     "text": [
      "-6.999999999999999\n",
      "[[-0.14285714  0.28571429]\n",
      " [ 0.85714286 -0.71428571]]\n"
     ]
    }
   ],
   "source": [
    "#numpy to calculate\n",
    "det_B = np.linalg.det(B)\n",
    "print (det_B)\n",
    "inv_B = np.linalg.inv(B)\n",
    "print (inv_B)"
   ]
  },
  {
   "cell_type": "code",
   "execution_count": 78,
   "metadata": {},
   "outputs": [
    {
     "name": "stdout",
     "output_type": "stream",
     "text": [
      "[[ 0.07785888  0.10462287 -0.04136253]\n",
      " [-0.05109489  0.08759124  0.05839416]\n",
      " [ 0.08272506  0.0486618   0.14355231]]\n"
     ]
    }
   ],
   "source": [
    "#Question5\n",
    "inv_D = np.linalg.inv(D)\n",
    "print(inv_D)"
   ]
  },
  {
   "cell_type": "code",
   "execution_count": 80,
   "metadata": {},
   "outputs": [
    {
     "name": "stdout",
     "output_type": "stream",
     "text": [
      "[[ 1.00000000e+00  1.11022302e-16  0.00000000e+00]\n",
      " [ 1.38777878e-17  1.00000000e+00  0.00000000e+00]\n",
      " [ 5.55111512e-17 -8.32667268e-17  1.00000000e+00]]\n",
      "[[ 1.00000000e+00  2.49800181e-16 -2.77555756e-17]\n",
      " [ 2.77555756e-17  1.00000000e+00  0.00000000e+00]\n",
      " [ 0.00000000e+00  0.00000000e+00  1.00000000e+00]]\n"
     ]
    }
   ],
   "source": [
    "print(np.matmul(D, inv_D))\n",
    "print(np.matmul(inv_D, D))"
   ]
  },
  {
   "cell_type": "code",
   "execution_count": null,
   "metadata": {},
   "outputs": [],
   "source": [
    "#𝐷𝐷^-1and 𝐷^-1𝐷 should be \n",
    "[1,0,0],[0,1,0],[0,0,1] and D is invertible.\n",
    "#We did not get zero but the number very close to zero for the result."
   ]
  }
 ],
 "metadata": {
  "kernelspec": {
   "display_name": "Python [conda env:base] *",
   "language": "python",
   "name": "conda-base-py"
  },
  "language_info": {
   "codemirror_mode": {
    "name": "ipython",
    "version": 3
   },
   "file_extension": ".py",
   "mimetype": "text/x-python",
   "name": "python",
   "nbconvert_exporter": "python",
   "pygments_lexer": "ipython3",
   "version": "3.12.7"
  }
 },
 "nbformat": 4,
 "nbformat_minor": 4
}
