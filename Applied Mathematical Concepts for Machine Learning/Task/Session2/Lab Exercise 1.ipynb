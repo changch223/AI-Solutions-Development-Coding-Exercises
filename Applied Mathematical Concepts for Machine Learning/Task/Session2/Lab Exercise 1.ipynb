{
 "cells": [
  {
   "cell_type": "markdown",
   "metadata": {},
   "source": [
    "<p style=\"font-family: Arial; font-size:3em;color:black;\"> Lab Exercise 1 </p>"
   ]
  },
  {
   "cell_type": "code",
   "execution_count": 3,
   "metadata": {},
   "outputs": [],
   "source": [
    "# importing numpy\n",
    "import numpy as np"
   ]
  },
  {
   "cell_type": "code",
   "execution_count": 31,
   "metadata": {},
   "outputs": [
    {
     "name": "stdout",
     "output_type": "stream",
     "text": [
      "non-zero elements: (array([0, 1, 2, 3], dtype=int64),)\n",
      "Are all elements non-zero? False\n"
     ]
    }
   ],
   "source": [
    "# Create a numpy array with the elements \"1, 2, 3, 5, 0\", print the array and test if all of its elements are non-zero.\n",
    "newarray = np.array([1,2,3,5,0])\n",
    "nonzero_indices = np.nonzero(newarray)\n",
    "print(\"non-zero elements:\", nonzero_indices)\n",
    "\n",
    "all_nonzero = np.all(newarray != 0)\n",
    "print(\"Are all elements non-zero?\", all_nonzero)"
   ]
  },
  {
   "cell_type": "code",
   "execution_count": 43,
   "metadata": {},
   "outputs": [
    {
     "name": "stdout",
     "output_type": "stream",
     "text": [
      "[ 3 -1  3  7  2]\n"
     ]
    }
   ],
   "source": [
    "# Create a numpy array with the elements \"3, -1, 3, 7, 2\", print the array and test if any of its elements is non-zero.\n",
    "\n",
    "newarray1 = np.array([3,-1,3,7,2])\n",
    "\n",
    "for i in np.nonzero(newarray1):\n",
    "    print(newarray1[i])"
   ]
  },
  {
   "cell_type": "code",
   "execution_count": 45,
   "metadata": {},
   "outputs": [
    {
     "name": "stdout",
     "output_type": "stream",
     "text": [
      "[0 0 0 0 0]\n",
      "False\n"
     ]
    }
   ],
   "source": [
    "# Create a numpy array with the elements \"0, 0, 0, 0\", print the array and test if any of its elements is non-zero.\n",
    "\n",
    "zero_array = np.array([0, 0, 0, 0, 0])\n",
    "print(zero_array)\n",
    "\n",
    "print(np.any(zero_array))"
   ]
  },
  {
   "cell_type": "code",
   "execution_count": 49,
   "metadata": {},
   "outputs": [
    {
     "name": "stdout",
     "output_type": "stream",
     "text": [
      "[56 -2  7]\n",
      "12\n"
     ]
    }
   ],
   "source": [
    "# Create a numpy array with the elements \"56, -2, 7\", print the array and the amount of memory required to store it.\n",
    "\n",
    "array3 = np.array([56, -2, 7])\n",
    "print(array3)\n",
    "\n",
    "print(array3.nbytes)"
   ]
  },
  {
   "cell_type": "code",
   "execution_count": 53,
   "metadata": {},
   "outputs": [
    {
     "name": "stdout",
     "output_type": "stream",
     "text": [
      "[0. 0. 0. 0. 0. 0. 0. 0. 0. 0.]\n",
      "[1. 1. 1. 1. 1. 1.]\n",
      "[3. 3. 3. 3. 3. 3. 3. 3. 3. 3. 3. 3.]\n"
     ]
    }
   ],
   "source": [
    "# Create a numpy array with 10 zeros and print the array.\n",
    "zeros = np.zeros(10)\n",
    "print(zeros)\n",
    "\n",
    "# Create a numpy array with 6 ones and print the array.\n",
    "ones = np.ones(6)\n",
    "print(ones)\n",
    "\n",
    "# Create a numpy array with 12 '3's and print the array. [3 3 3 3 3 3 3 3 3 3 3 3]\n",
    "threes  = 3*np.ones(12)\n",
    "print(threes)"
   ]
  },
  {
   "cell_type": "code",
   "execution_count": 57,
   "metadata": {},
   "outputs": [
    {
     "name": "stdout",
     "output_type": "stream",
     "text": [
      "[ 8  9 10 11 12 13 14 15 16 17 18 19 20]\n",
      "[ 8 10 12 14 16 18 20]\n"
     ]
    }
   ],
   "source": [
    "# Create a numpy array of the integers from 8 to 20 and print the array. (make sure 20 itself is included) hint:  use \"arange\" method\n",
    "array_8_to_20 = np.arange(8, 21)\n",
    "print(array_8_to_20)\n",
    "# Create a numpy array of the even integers from 8 to 20 and print the array. (make sure 20 itself is included)   hint:  use \"arange\" method\n",
    "even_array = np.arange(8, 21, 2)\n",
    "print(even_array)"
   ]
  },
  {
   "cell_type": "code",
   "execution_count": 63,
   "metadata": {},
   "outputs": [
    {
     "name": "stdout",
     "output_type": "stream",
     "text": [
      "Array of size 100:\n",
      "Mean: 1.9659313623378403\n",
      "Max: 2.7733521032249335\n",
      "Min: 0.9766191923591758\n",
      "Std: 0.41994474291417805\n",
      "\n",
      "Array of size 1000:\n",
      "Mean: 1.9776152257868478\n",
      "Max: 3.890305016063797\n",
      "Min: 0.26306204475141737\n",
      "Std: 0.5217231009190669\n",
      "\n",
      "Array of size 1000000:\n",
      "Mean: 1.9999881290670989\n",
      "Max: 4.506297803483649\n",
      "Min: -0.3520505301255774\n",
      "Std: 0.500747950793001\n",
      "\n"
     ]
    }
   ],
   "source": [
    "def random_array_stats(size):\n",
    "    array = np.random.normal(loc=2, scale=0.5, size=size)\n",
    "    print(f\"Array of size {size}:\")\n",
    "    print(f\"Mean: {np.mean(array)}\")\n",
    "    print(f\"Max: {np.max(array)}\")\n",
    "    print(f\"Min: {np.min(array)}\")\n",
    "    print(f\"Std: {np.std(array)}\\n\")\n",
    "\n",
    "# Create a numpy array consisting of 100 random elements from normal distribution with mean of 2 and std of 0.5. Print the mean, max, min and std of the array.\n",
    "random_array_stats(100)\n",
    "# Create a numpy array consisting of 1000 random elements from normal distribution with mean of 2 and std of 0.5. Print the mean, max, min and std of the array.\n",
    "random_array_stats(1000)\n",
    "# Create a numpy array consisting of 1000000 random elements from normal distribution with mean of 2 and std of 0.5. Print the mean, max, min and std of the array.\n",
    "random_array_stats(1000000)\n",
    "\n",
    "# (Bonus question) Looking at the three above examples with 1000, 5000, and 10000 random elements, do you have any observations about mean and std values?\n",
    "\n",
    "#As the size of the random array increases, the computed mean and standard deviation get closer to the theoretical values (mean = 2, std = 0.5). \n",
    "#This is due to the Law of Large Numbers.\n",
    "\n",
    "\n",
    "#NumPy 的 np.random.normal 函數來生成一個遵循正態分佈（Normal Distribution, 又稱高斯分佈）的隨機數組。\n",
    "#np.random.normal(loc, scale, size)\n",
    "#loc：分佈的均值（mean），即正態分佈的中心點。\n",
    "#在這裡，loc=2 表示生成的數據的均值為 2。\n",
    "#scale：分佈的標準差（standard deviation），即數據的擴散程度。\n",
    "#在這裡，scale=0.5 表示數據的標準差為 0.5，這決定了數據的集中程度或波動範圍。\n",
    "#size：生成數據的大小（數組的形狀）。\n",
    "#在這裡，size=size 表示生成數組的元素數量由函數參數 size 確定，可以是單一數字（生成 1D 數組）或元組（生成多維數組）。\n",
    "\n",
    "\n",
    "#大數法則（Law of Large Numbers, LLN） 是統計學的一條基本理論，它描述了隨著試驗次數（或樣本數量）的增加，隨機現象的平均結果會逐漸趨近於期望值（理論平均值）的現象。"
   ]
  },
  {
   "cell_type": "code",
   "execution_count": null,
   "metadata": {},
   "outputs": [],
   "source": []
  }
 ],
 "metadata": {
  "kernelspec": {
   "display_name": "Python [conda env:base] *",
   "language": "python",
   "name": "conda-base-py"
  },
  "language_info": {
   "codemirror_mode": {
    "name": "ipython",
    "version": 3
   },
   "file_extension": ".py",
   "mimetype": "text/x-python",
   "name": "python",
   "nbconvert_exporter": "python",
   "pygments_lexer": "ipython3",
   "version": "3.12.7"
  }
 },
 "nbformat": 4,
 "nbformat_minor": 4
}
