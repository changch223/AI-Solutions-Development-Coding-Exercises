{
 "cells": [
  {
   "cell_type": "markdown",
   "metadata": {},
   "source": [
    "<p style=\"font-family: Arial; font-size:3em;color:black;\"> Practice 1 </p>"
   ]
  },
  {
   "cell_type": "code",
   "execution_count": 1,
   "metadata": {},
   "outputs": [],
   "source": [
    "# importing numpy (and matplotlib)\n",
    "import numpy as np\n",
    "import matplotlib.pyplot as plt\n",
    "%matplotlib inline"
   ]
  },
  {
   "cell_type": "code",
   "execution_count": 23,
   "metadata": {},
   "outputs": [
    {
     "name": "stdout",
     "output_type": "stream",
     "text": [
      "The numpy array a is:  [-1  2  5  7  9 20 45 14]\n",
      "Dimension of array a is:  1\n",
      "Shape of array a is:  (8,)\n",
      "Size of array a is:  8\n",
      "Data type of array a is:  int32\n",
      "Item size of array a is:  4\n",
      "Memory size of a is:  32 bits\n"
     ]
    }
   ],
   "source": [
    "# create a numpy array and learn some of its attributes\n",
    "a = np.array([-1,2,5,7,9,20,45,14]) \n",
    "\n",
    "print(\"The numpy array a is: \", a)\n",
    "print(\"Dimension of array a is: \", a.ndim)       # a.ndim: the number of axes (dimensions) of the array.\n",
    "print(\"Shape of array a is: \", a.shape)          # a.shape: the dimensions of the array.\n",
    "print(\"Size of array a is: \", a.size)            # a.size: the total number of elements of the array.\n",
    "print(\"Data type of array a is: \", a.dtype)      # a.dtype: an object describing the type of the elements in the array.\n",
    "print(\"Item size of array a is: \", a.itemsize)   # a.itemsize: the size in bits of each element of the array.\n",
    "print(\"Memory size of a is: \", a.itemsize*a.size, \"bits\")   # a.itemsize: size of the array in bits."
   ]
  },
  {
   "cell_type": "code",
   "execution_count": 19,
   "metadata": {},
   "outputs": [
    {
     "name": "stdout",
     "output_type": "stream",
     "text": [
      "The FIRST element of a is:  -1\n",
      "The second element of a is:  2\n",
      "The last element of a is:  14\n",
      "The last element of a is:  14\n",
      "The first three elements of a are:  [-1  2  5]\n",
      "The third, fourth and fifth elements of a are:  [-1  5  9 45]\n",
      "The last three elements of a are:  [20 45 14]\n"
     ]
    }
   ],
   "source": [
    "# numpy array indexing and slicing\n",
    "print(\"The FIRST element of a is: \", a[0]) \n",
    "print(\"The second element of a is: \", a[1]) \n",
    "print(\"The last element of a is: \", a[7]) \n",
    "print(\"The last element of a is: \", a[-1])\n",
    "print(\"The first three elements of a are: \", a[:3])\n",
    "print(\"The third, fourth and fifth elements of a are: \", a[::2])\n",
    "print(\"The last three elements of a are: \", a[-3:])"
   ]
  },
  {
   "cell_type": "code",
   "execution_count": 4,
   "metadata": {},
   "outputs": [
    {
     "name": "stdout",
     "output_type": "stream",
     "text": [
      "The numpy array a is:  [-1  3  5  7  9 20 45 14]\n",
      "The numpy array b is:  [ 3  5  6 -7 14  4 -2 -5]\n",
      "The addition of a and b is:  [ 2  8 11  0 23 24 43  9]\n"
     ]
    }
   ],
   "source": [
    "# simple operations on numpy arrays\n",
    "b = np.array([3,5,6,-7,14,4,-2,-5])\n",
    "c = a + b\n",
    "\n",
    "print(\"The numpy array a is: \", a)\n",
    "print(\"The numpy array b is: \", b)\n",
    "print(\"The addition of a and b is: \", c)"
   ]
  },
  {
   "cell_type": "code",
   "execution_count": 5,
   "metadata": {},
   "outputs": [
    {
     "name": "stdout",
     "output_type": "stream",
     "text": [
      "Type of list list_var  is:  <class 'list'>\n",
      "Type of numpy array array_from_list is:  <class 'numpy.ndarray'>\n"
     ]
    }
   ],
   "source": [
    "# numpy array from a python list\n",
    "list_var = [[1, 2, 3], [3, 6, 9], [2, 4, 6]]  # create a list\n",
    "array_from_list = np.array(list_var)  # convert a list to an array\n",
    "\n",
    "print(\"Type of list list_var  is: \", type(list_var))\n",
    "print(\"Type of numpy array array_from_list is: \", type(array_from_list))"
   ]
  },
  {
   "cell_type": "code",
   "execution_count": 27,
   "metadata": {},
   "outputs": [
    {
     "name": "stdout",
     "output_type": "stream",
     "text": [
      "array_linspaced with 9 numbers btw 0 to 2 is:  [0.   0.25 0.5  0.75 1.   1.25 1.5  1.75 2.  ]\n"
     ]
    }
   ],
   "source": [
    "# numpy array with n elements between two ends \n",
    "array_linspaced = np.linspace( 0, 2, 9)                 # 9 numbers btw 0 to 2\n",
    "print(\"array_linspaced with 9 numbers btw 0 to 2 is: \", array_linspaced)"
   ]
  },
  {
   "cell_type": "code",
   "execution_count": 29,
   "metadata": {},
   "outputs": [
    {
     "name": "stdout",
     "output_type": "stream",
     "text": [
      "array_step3 (numbers btw 15 and 45 with a step of 3) is:  [15 18 21 24 27]\n"
     ]
    }
   ],
   "source": [
    "# numpy array with elements between two ends and a given step\n",
    "array_step3 =np.arange(15 ,28, 3)\n",
    "print(\"array_step3 (numbers btw 15 and 45 with a step of 3) is: \", array_step3)"
   ]
  },
  {
   "cell_type": "code",
   "execution_count": 8,
   "metadata": {},
   "outputs": [
    {
     "name": "stdout",
     "output_type": "stream",
     "text": [
      "array_even (even numbers btw 16 and27) is:  [16 18 20 22 24 26]\n"
     ]
    }
   ],
   "source": [
    "# numpy array with even elements between two ends\n",
    "array_even =np.arange(16 ,27, 2)\n",
    "print(\"array_even (even numbers btw 16 and27) is: \", array_even)"
   ]
  },
  {
   "cell_type": "code",
   "execution_count": 31,
   "metadata": {},
   "outputs": [
    {
     "name": "stdout",
     "output_type": "stream",
     "text": [
      "array_2D (matrix) is:  [[ 1  2  3  4]\n",
      " [ 3  6  9 10]\n",
      " [ 2  4  6 25]\n",
      " [-5 14  0  5]]\n",
      "Dimension of array_2D (matrix) is:  2\n",
      "Shape of array_2D (matrix) is:  (4, 4)\n",
      "Size of array_2D (matrix) is:  16\n"
     ]
    }
   ],
   "source": [
    "# numpy arrays with 2 dimensions (matrix)\n",
    "array_2D = np.array([[1, 2, 3, 4], [3, 6, 9, 10], [2, 4, 6, 25], [-5, 14, 0, 5]])  # create a numpy 2d array, i.e. a matrix \n",
    "\n",
    "print(\"array_2D (matrix) is: \", array_2D)\n",
    "print(\"Dimension of array_2D (matrix) is: \", array_2D.ndim)       # array_2D.ndim: the number of axes (dimensions) of the matix.\n",
    "print(\"Shape of array_2D (matrix) is: \", array_2D.shape)          # array_2D.shape: the dimensions of the matix.\n",
    "print(\"Size of array_2D (matrix) is: \", array_2D.size)            # array_2D.size: the total number of elements of the matix."
   ]
  },
  {
   "cell_type": "code",
   "execution_count": 10,
   "metadata": {},
   "outputs": [
    {
     "name": "stdout",
     "output_type": "stream",
     "text": [
      "The first row of array_2D (matrix) is:  [1 2 3 4]\n",
      "The last row of array_2D (matrix) is:  [-5 14  0  5]\n",
      "The last row of array_2D (matrix) is:  [-5 14  0  5]\n",
      "The first column of array_2D (matrix) is:  [ 1  3  2 -5]\n",
      "The third column of array_2D (matrix) is:  [3 9 6 0]\n",
      "The first 2 rows of array_2D (matrix) is:  [[ 1  2  3  4]\n",
      " [ 3  6  9 10]]\n",
      "The last 2 columns of array_2D (matrix) is:  [[ 3  4]\n",
      " [ 9 10]\n",
      " [ 6 25]\n",
      " [ 0  5]]\n",
      "The elements in the second and third rows and second and third columns of array_2D (matrix) is:  [[6 9]\n",
      " [4 6]]\n"
     ]
    }
   ],
   "source": [
    "# numpy 2D array (matrix) indexing and slicing\n",
    "\n",
    "print(\"The first row of array_2D (matrix) is: \", array_2D[0,:])\n",
    "print(\"The last row of array_2D (matrix) is: \", array_2D[3,:])\n",
    "print(\"The last row of array_2D (matrix) is: \", array_2D[-1,:])\n",
    "\n",
    "print(\"The first column of array_2D (matrix) is: \", array_2D[:,0])\n",
    "print(\"The third column of array_2D (matrix) is: \", array_2D[:,2])\n",
    "\n",
    "\n",
    "print(\"The first 2 rows of array_2D (matrix) is: \", array_2D[:2,:])\n",
    "print(\"The last 2 columns of array_2D (matrix) is: \", array_2D[:,-2:])\n",
    "\n",
    "print(\"The elements in the second and third rows and second and third columns of array_2D (matrix) is: \", array_2D[1:3,1:3])"
   ]
  },
  {
   "cell_type": "code",
   "execution_count": 39,
   "metadata": {},
   "outputs": [
    {
     "name": "stdout",
     "output_type": "stream",
     "text": [
      "Diag_array is:  [[1 0 0]\n",
      " [0 2 0]\n",
      " [0 0 3]]\n",
      "zeros_array is:  [0. 0. 0. 0. 0.]\n",
      "ones_array is:  [1. 1. 1.]\n",
      "fives_array is:  [5. 5. 5.]\n",
      "ones_array_2D is:  [[1. 1. 1. 1.]\n",
      " [1. 1. 1. 1.]\n",
      " [1. 1. 1. 1.]]\n"
     ]
    }
   ],
   "source": [
    "# creating diagnonal, \"zero\" and \"one\" matrices\n",
    "Diag_array = np.diag([1,2,3])\n",
    "zeros_array = np.zeros(5)\n",
    "ones_array = np.ones(3)\n",
    "fives_array = 5*np.ones(3)\n",
    "ones_array_2D = np.ones((3,4))\n",
    "\n",
    "print(\"Diag_array is: \", Diag_array)\n",
    "print(\"zeros_array is: \", zeros_array)\n",
    "print(\"ones_array is: \", ones_array)\n",
    "print(\"fives_array is: \", fives_array)\n",
    "print(\"ones_array_2D is: \", ones_array_2D)"
   ]
  },
  {
   "cell_type": "code",
   "execution_count": 12,
   "metadata": {},
   "outputs": [
    {
     "name": "stdout",
     "output_type": "stream",
     "text": [
      "The original array is:  [10 11 12 13 14 15 16 17 18 19]\n",
      "Shape of the original array is:  (10,)\n",
      "The reshaped array is:  [[10 11 12 13 14]\n",
      " [15 16 17 18 19]]\n",
      "Shape of the reshaped array is:  (2, 5)\n"
     ]
    }
   ],
   "source": [
    "# reshaping numpy arrays\n",
    "arr = np.arange(10, 20)\n",
    "reshaped_array = arr.reshape((2,5))\n",
    "\n",
    "print(\"The original array is: \", arr)\n",
    "print(\"Shape of the original array is: \", arr.shape)\n",
    "print(\"The reshaped array is: \", reshaped_array)\n",
    "print(\"Shape of the reshaped array is: \", reshaped_array.shape)"
   ]
  },
  {
   "cell_type": "code",
   "execution_count": 13,
   "metadata": {},
   "outputs": [
    {
     "name": "stdout",
     "output_type": "stream",
     "text": [
      "random_array is:  [ 1  2  0  5  6  4  7  8 10  0  9]\n",
      "The sum of the elements in the array is:  52\n",
      "The mean of the elements in the array is:  4.7272727272727275\n",
      "The standard deviation of the elements in the array is:  3.4401614415317274\n",
      "The max element in the array is:  10\n",
      "The min elements in the array is:  0\n",
      "Test if all elements of random_array are non-zero:  False\n",
      "Test if any element of random_array is non-zero:  True\n",
      "Indices of non-zero elements of random_array are:  (array([ 0,  1,  3,  4,  5,  6,  7,  8, 10]),)\n"
     ]
    }
   ],
   "source": [
    "# numpy array methods\n",
    "random_array = np.array([1,2,0,5,6,4,7,8,10,0,9])\n",
    "\n",
    "print(\"random_array is: \", random_array)\n",
    "print(\"The sum of the elements in the array is: \", random_array.sum())\n",
    "print(\"The mean of the elements in the array is: \", random_array.mean())\n",
    "print(\"The standard deviation of the elements in the array is: \", random_array.std())\n",
    "print(\"The max element in the array is: \", random_array.max())\n",
    "print(\"The min elements in the array is: \", random_array.min())\n",
    "print(\"Test if all elements of random_array are non-zero: \", random_array.all())\n",
    "print(\"Test if any element of random_array is non-zero: \", random_array.any())\n",
    "print(\"Indices of non-zero elements of random_array are: \", random_array.nonzero())"
   ]
  },
  {
   "cell_type": "code",
   "execution_count": 14,
   "metadata": {},
   "outputs": [
    {
     "name": "stdout",
     "output_type": "stream",
     "text": [
      "sorted array is:  [ 0  0  1  2  4  5  6  7  8  9 10]\n",
      "[10  9  8  7  6  5  4  2  1  0  0]\n"
     ]
    }
   ],
   "source": [
    "random_array.sort()          # the sort method affects the original array\n",
    "#print(np.sort(random_array))\n",
    "print(\"sorted array is: \", random_array)\n",
    "print(np.flip(random_array))  # reversing an array"
   ]
  },
  {
   "cell_type": "code",
   "execution_count": 43,
   "metadata": {},
   "outputs": [
    {
     "name": "stdout",
     "output_type": "stream",
     "text": [
      "The max element in the array is:  2.0053503256002196\n",
      "The min element in the array is:  -1.8701785851445933\n"
     ]
    },
    {
     "data": {
      "image/png": "[encoded data removed]",
      "text/plain": [
       "<Figure size 640x480 with 1 Axes>"
      ]
     },
     "metadata": {},
     "output_type": "display_data"
    },
    {
     "data": {
      "image/png": "[encoded data removed]",
      "text/plain": [
       "<Figure size 640x480 with 1 Axes>"
      ]
     },
     "metadata": {},
     "output_type": "display_data"
    }
   ],
   "source": [
    "random_values_array = np.random.normal(0, 0.5, 10000)       # np.random.normal(mean, std, # of elements)\n",
    "print(\"The max element in the array is: \", random_values_array.max())\n",
    "print(\"The min element in the array is: \", random_values_array.min())\n",
    "plt.plot(random_values_array)\n",
    "plt.show()\n",
    "plt.hist(random_values_array, 100)\n",
    "plt.show()"
   ]
  },
  {
   "cell_type": "code",
   "execution_count": 61,
   "metadata": {},
   "outputs": [
    {
     "data": {
      "text/plain": [
       "array([-0.01539464,  0.01401255])"
      ]
     },
     "execution_count": 61,
     "metadata": {},
     "output_type": "execute_result"
    }
   ],
   "source": [
    "np.percentile(random_values_array, [49,51])"
   ]
  },
  {
   "cell_type": "code",
   "execution_count": 51,
   "metadata": {},
   "outputs": [
    {
     "data": {
      "text/plain": [
       "0.8139914100087345"
      ]
     },
     "execution_count": 51,
     "metadata": {},
     "output_type": "execute_result"
    }
   ],
   "source": [
    "np.percentile(random_values_array, 95)"
   ]
  },
  {
   "cell_type": "code",
   "execution_count": null,
   "metadata": {},
   "outputs": [],
   "source": []
  }
 ],
 "metadata": {
  "kernelspec": {
   "display_name": "Python [conda env:base] *",
   "language": "python",
   "name": "conda-base-py"
  },
  "language_info": {
   "codemirror_mode": {
    "name": "ipython",
    "version": 3
   },
   "file_extension": ".py",
   "mimetype": "text/x-python",
   "name": "python",
   "nbconvert_exporter": "python",
   "pygments_lexer": "ipython3",
   "version": "3.12.7"
  }
 },
 "nbformat": 4,
 "nbformat_minor": 4
}
